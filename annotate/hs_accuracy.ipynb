{
 "cells": [
  {
   "cell_type": "code",
   "execution_count": 1,
   "metadata": {},
   "outputs": [],
   "source": [
    "import pandas as pd\n",
    "import numpy as np\n",
    "import re\n",
    "import json \n",
    "import gspread\n",
    "from oauth2client.service_account import ServiceAccountCredentials"
   ]
  },
  {
   "cell_type": "code",
   "execution_count": 2,
   "metadata": {
    "tags": []
   },
   "outputs": [],
   "source": [
    "scope = [\"https://spreadsheets.google.com/feeds\", 'https://www.googleapis.com/auth/drive']\n",
    "\n",
    "creds= ServiceAccountCredentials.from_json_keyfile_name('hs_data_sheet.json',scope)\n",
    "client = gspread.authorize(creds)\n",
    "annotate =client.open('HSLE Data Sheet')\n",
    "\n",
    "annotate_here = annotate.get_worksheet(0)   #annotate_here\n",
    "# annotate_here_val =annotate_here.cell(1,7).value  #2,7,9\n",
    "annotate_here_val=annotate_here.get_all_records()\n",
    "annotate_here_list=[]\n",
    "for index in range(len(annotate_here_val)):\n",
    "    for key in annotate_here_val[index]:\n",
    "        if key=='LexFound':\n",
    "            LexFound_key=annotate_here_val[index][key]\n",
    "        elif key=='NewHSWordInSentence':\n",
    "            NewHSWordInSentence_key=annotate_here_val[index][key]\n",
    "        elif key=='IsHS':\n",
    "            IsHS_key=annotate_here_val[index][key]\n",
    "        else:pass\n",
    "    annotate_here_list.append([LexFound_key,NewHSWordInSentence_key,IsHS_key])\n",
    "\n",
    "#Create annotate_here dataframe \n",
    "annotate_here_df = pd.DataFrame(annotate_here_list, columns=['LexFound','NewHSWordInSentence','IsHS'])\n"
   ]
  },
  {
   "cell_type": "code",
   "execution_count": 3,
   "metadata": {},
   "outputs": [],
   "source": [
    "annotate_here_df.to_csv(\"/home/swift/Documents/hate-speech-new/annotate/annotate_here_dataframe.csv\", sep='~',index=False)\n"
   ]
  },
  {
   "cell_type": "code",
   "execution_count": 4,
   "metadata": {},
   "outputs": [],
   "source": [
    "# Annotate_here_2\n",
    "annotate_here_two = annotate.get_worksheet(1)   \n",
    "annotate_here_two_val=annotate_here_two.get_all_records()\n",
    "annotate_here_two_list=[]\n",
    "for index in range(len(annotate_here_two_val)):\n",
    "    for key in annotate_here_two_val[index]:\n",
    "        if key=='LexFound':\n",
    "            LexFound_key=annotate_here_two_val[index][key]\n",
    "        elif key=='NewHSWordInSentence':\n",
    "            NewHSWordInSentence_key=annotate_here_two_val[index][key]\n",
    "        elif key=='IsHS':\n",
    "            IsHS_key=annotate_here_two_val[index][key]\n",
    "        else:pass\n",
    "    annotate_here_two_list.append([LexFound_key,NewHSWordInSentence_key,IsHS_key])\n",
    "    \n",
    "#Create annotate_here dataframe \n",
    "annotate_here_two_df = pd.DataFrame(annotate_here_two_list, columns=['LexFound','NewHSWordInSentence','IsHS'])"
   ]
  },
  {
   "cell_type": "code",
   "execution_count": 5,
   "metadata": {},
   "outputs": [
    {
     "output_type": "execute_result",
     "data": {
      "text/plain": [
       "  LexFound NewHSWordInSentence IsHS\n",
       "0                                  \n",
       "1     ငလူး                         \n",
       "2                                  \n",
       "3    နီပေါ                         \n",
       "4                                  "
      ],
      "text/html": "<div>\n<style scoped>\n    .dataframe tbody tr th:only-of-type {\n        vertical-align: middle;\n    }\n\n    .dataframe tbody tr th {\n        vertical-align: top;\n    }\n\n    .dataframe thead th {\n        text-align: right;\n    }\n</style>\n<table border=\"1\" class=\"dataframe\">\n  <thead>\n    <tr style=\"text-align: right;\">\n      <th></th>\n      <th>LexFound</th>\n      <th>NewHSWordInSentence</th>\n      <th>IsHS</th>\n    </tr>\n  </thead>\n  <tbody>\n    <tr>\n      <th>0</th>\n      <td></td>\n      <td></td>\n      <td></td>\n    </tr>\n    <tr>\n      <th>1</th>\n      <td>ငလူး</td>\n      <td></td>\n      <td></td>\n    </tr>\n    <tr>\n      <th>2</th>\n      <td></td>\n      <td></td>\n      <td></td>\n    </tr>\n    <tr>\n      <th>3</th>\n      <td>နီပေါ</td>\n      <td></td>\n      <td></td>\n    </tr>\n    <tr>\n      <th>4</th>\n      <td></td>\n      <td></td>\n      <td></td>\n    </tr>\n  </tbody>\n</table>\n</div>"
     },
     "metadata": {},
     "execution_count": 5
    }
   ],
   "source": [
    "# Annotate_here_3\n",
    "annotate_here_three = annotate.get_worksheet(2)   #\n",
    "annotate_here_threeval=annotate_here_three.get_all_records()\n",
    "annotate_here_three_list=[]\n",
    "for index in range(len(annotate_here_threeval)):\n",
    "    for key in annotate_here_threeval[index]:\n",
    "        if key=='LexFound':\n",
    "            LexFound_key=annotate_here_threeval[index][key]\n",
    "        elif key=='NewHSWordInSentence':\n",
    "            NewHSWordInSentence_key=annotate_here_threeval[index][key]\n",
    "        elif key=='IsHS':\n",
    "            IsHS_key=annotate_here_threeval[index][key]\n",
    "        else:pass\n",
    "    annotate_here_three_list.append([LexFound_key,NewHSWordInSentence_key,IsHS_key])\n",
    "\n",
    "#Create annotate_here dataframe \n",
    "annotate_here_three_df = pd.DataFrame(annotate_here_three_list, columns=['LexFound','NewHSWordInSentence','IsHS'])\n",
    "annotate_here_three_df.head()"
   ]
  },
  {
   "cell_type": "code",
   "execution_count": 6,
   "metadata": {},
   "outputs": [
    {
     "output_type": "execute_result",
     "data": {
      "text/plain": [
       "17867"
      ]
     },
     "metadata": {},
     "execution_count": 6
    }
   ],
   "source": [
    "hatespeech=annotate_here_df.append((annotate_here_two_df,annotate_here_three_df),ignore_index=True)\n",
    "\n",
    "len(hatespeech)"
   ]
  },
  {
   "cell_type": "code",
   "execution_count": 7,
   "metadata": {},
   "outputs": [
    {
     "output_type": "execute_result",
     "data": {
      "text/plain": [
       "Index(['LexFound', 'NewHSWordInSentence', 'IsHS'], dtype='object')"
      ]
     },
     "metadata": {},
     "execution_count": 7
    }
   ],
   "source": [
    "hatespeech.columns\n"
   ]
  },
  {
   "cell_type": "code",
   "execution_count": 8,
   "metadata": {},
   "outputs": [
    {
     "output_type": "execute_result",
     "data": {
      "text/plain": [
       "(17867, 3)"
      ]
     },
     "metadata": {},
     "execution_count": 8
    }
   ],
   "source": [
    "hatespeech.shape"
   ]
  },
  {
   "cell_type": "code",
   "execution_count": 9,
   "metadata": {},
   "outputs": [
    {
     "output_type": "execute_result",
     "data": {
      "text/plain": [
       "   LexFound         NewHSWordInSentence IsHS\n",
       "0  ကုလားတွေ                                1\n",
       "1  ကုလားတွေ  AA သူပုန်,  မူ စ လင် ကုလား    1\n",
       "2  ကုလားတွေ                                1\n",
       "3  ကြံ့ဖွတ်                                1\n",
       "4  ကြံ့ဖွတ်                                0"
      ],
      "text/html": "<div>\n<style scoped>\n    .dataframe tbody tr th:only-of-type {\n        vertical-align: middle;\n    }\n\n    .dataframe tbody tr th {\n        vertical-align: top;\n    }\n\n    .dataframe thead th {\n        text-align: right;\n    }\n</style>\n<table border=\"1\" class=\"dataframe\">\n  <thead>\n    <tr style=\"text-align: right;\">\n      <th></th>\n      <th>LexFound</th>\n      <th>NewHSWordInSentence</th>\n      <th>IsHS</th>\n    </tr>\n  </thead>\n  <tbody>\n    <tr>\n      <th>0</th>\n      <td>ကုလားတွေ</td>\n      <td></td>\n      <td>1</td>\n    </tr>\n    <tr>\n      <th>1</th>\n      <td>ကုလားတွေ</td>\n      <td>AA သူပုန်,  မူ စ လင် ကုလား</td>\n      <td>1</td>\n    </tr>\n    <tr>\n      <th>2</th>\n      <td>ကုလားတွေ</td>\n      <td></td>\n      <td>1</td>\n    </tr>\n    <tr>\n      <th>3</th>\n      <td>ကြံ့ဖွတ်</td>\n      <td></td>\n      <td>1</td>\n    </tr>\n    <tr>\n      <th>4</th>\n      <td>ကြံ့ဖွတ်</td>\n      <td></td>\n      <td>0</td>\n    </tr>\n  </tbody>\n</table>\n</div>"
     },
     "metadata": {},
     "execution_count": 9
    }
   ],
   "source": [
    "hatespeech.head()"
   ]
  },
  {
   "cell_type": "code",
   "execution_count": 10,
   "metadata": {},
   "outputs": [
    {
     "output_type": "execute_result",
     "data": {
      "text/plain": [
       "LexFound               object\n",
       "NewHSWordInSentence    object\n",
       "IsHS                   object\n",
       "dtype: object"
      ]
     },
     "metadata": {},
     "execution_count": 10
    }
   ],
   "source": [
    "hatespeech.dtypes"
   ]
  },
  {
   "cell_type": "code",
   "execution_count": 11,
   "metadata": {
    "tags": []
   },
   "outputs": [
    {
     "output_type": "stream",
     "name": "stdout",
     "text": [
      "17867\n"
     ]
    }
   ],
   "source": [
    "#Total Lenght\n",
    "total_count= len(hatespeech)\n",
    "print(total_count)"
   ]
  },
  {
   "cell_type": "code",
   "execution_count": 12,
   "metadata": {},
   "outputs": [
    {
     "output_type": "execute_result",
     "data": {
      "text/plain": [
       "0        False\n",
       "1        False\n",
       "2        False\n",
       "3        False\n",
       "4        False\n",
       "         ...  \n",
       "17862    False\n",
       "17863    False\n",
       "17864    False\n",
       "17865    False\n",
       "17866    False\n",
       "Name: LexFound, Length: 17867, dtype: bool"
      ]
     },
     "metadata": {},
     "execution_count": 12
    }
   ],
   "source": [
    "hatespeech['LexFound'].isnull()"
   ]
  },
  {
   "cell_type": "code",
   "execution_count": 13,
   "metadata": {
    "tags": []
   },
   "outputs": [
    {
     "output_type": "stream",
     "name": "stdout",
     "text": [
      "(17867, 3)\n"
     ]
    }
   ],
   "source": [
    "print(hatespeech.shape)"
   ]
  },
  {
   "cell_type": "code",
   "execution_count": 14,
   "metadata": {
    "tags": []
   },
   "outputs": [
    {
     "output_type": "stream",
     "name": "stdout",
     "text": [
      "HS comment :  3055  and NO HS Comment :  12442\n"
     ]
    },
    {
     "output_type": "execute_result",
     "data": {
      "text/plain": [
       "15497"
      ]
     },
     "metadata": {},
     "execution_count": 14
    }
   ],
   "source": [
    "hatespeech_annotate=hate=[]\n",
    "hs_total_count=nohs_total_count=0\n",
    "for index, row in hatespeech.iterrows(): \n",
    "    isHS=row[\"IsHS\"]\n",
    "    if isHS==\"1\" or isHS==1 or isHS==\"1.0\" or isHS==1.0:    # Count the number of hs comment is TRUE\n",
    "        hs_total_count+=1\n",
    "        hatespeech_annotate.append(row)\n",
    "    elif isHS==\"0\" or isHS==0 or isHS==0.0 or isHS==\"0.0\":      # Count the number of no hs comment is TRUE \n",
    "        nohs_total_count+=1\n",
    "        hatespeech_annotate.append(row)\n",
    "print(\"HS comment : \",hs_total_count,\" and NO HS Comment : \", nohs_total_count)\n",
    "\n",
    "total_hs_count=hs_total_count+nohs_total_count \n",
    "total_hs_count"
   ]
  },
  {
   "cell_type": "code",
   "execution_count": 15,
   "metadata": {},
   "outputs": [
    {
     "output_type": "execute_result",
     "data": {
      "text/plain": [
       "0.1971349293411628"
      ]
     },
     "metadata": {},
     "execution_count": 15
    }
   ],
   "source": [
    "## Accuracy Value  which is HS Comment\n",
    "Accuracy = (hs_total_count)/(hs_total_count+nohs_total_count)\n",
    "Accuracy"
   ]
  },
  {
   "cell_type": "code",
   "execution_count": 16,
   "metadata": {},
   "outputs": [],
   "source": [
    "Accuracy_list=['Accuracy',Accuracy]\n",
    "accuracy_df=pd.DataFrame([Accuracy_list],columns=['HS Comment','Value'])\n",
    "\n",
    "accuracy_df=accuracy_df.to_csv(\"/home/swift/Documents/hate-speech-new/annotate/hatespeech_accuracy.csv\", sep='~',index=False)\n"
   ]
  }
 ],
 "metadata": {
  "kernelspec": {
   "display_name": "Python 3",
   "language": "python",
   "name": "python3"
  },
  "language_info": {
   "codemirror_mode": {
    "name": "ipython",
    "version": 3
   },
   "file_extension": ".py",
   "mimetype": "text/x-python",
   "name": "python",
   "nbconvert_exporter": "python",
   "pygments_lexer": "ipython3",
   "version": "3.8.3-final"
  }
 },
 "nbformat": 4,
 "nbformat_minor": 4
}