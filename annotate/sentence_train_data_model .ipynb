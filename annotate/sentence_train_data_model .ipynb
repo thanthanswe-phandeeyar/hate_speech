{
 "metadata": {
  "language_info": {
   "codemirror_mode": {
    "name": "ipython",
    "version": 3
   },
   "file_extension": ".py",
   "mimetype": "text/x-python",
   "name": "python",
   "nbconvert_exporter": "python",
   "pygments_lexer": "ipython3",
   "version": "3.8.5-final"
  },
  "orig_nbformat": 2,
  "kernelspec": {
   "name": "python38564bitpy38ddacc1bae6ff42cfba846d72ac92d6f7",
   "display_name": "Python 3.8.5 64-bit ('py38')"
  }
 },
 "nbformat": 4,
 "nbformat_minor": 2,
 "cells": [
  {
   "source": [
    "Data \n",
    "    \n",
    "    - Collected from weight.csv file and applied two columns( weighted_value, IsHS) only. \n",
    "    - Manipulated four models(Random-Forest, LogisticRegression,AdaBoostClassifier and KNeighborsClassifier)\n",
    "    - Selected the best model to predict a label value whether a HS Comment or No HS Comment.\n",
    "    - Calculated a confusion matrix (Accuracy, Precision,Recall, F1-Score). \n"
   ],
   "cell_type": "markdown",
   "metadata": {}
  },
  {
   "cell_type": "code",
   "execution_count": 1,
   "metadata": {},
   "outputs": [],
   "source": [
    "import pandas as pd\n",
    "import numpy as np\n",
    "from glob import glob \n",
    "from sklearn.model_selection import train_test_split\n",
    "from sklearn.linear_model import LogisticRegression\n",
    "from sklearn import metrics\n",
    "from sklearn.ensemble import RandomForestClassifier\n",
    "from sklearn.linear_model import LogisticRegression\n",
    "from sklearn.ensemble import AdaBoostClassifier\n",
    "from sklearn.neighbors import KNeighborsClassifier\n",
    "from sklearn.metrics import roc_curve\n",
    "from sklearn.metrics import roc_auc_score\n",
    "from sklearn.metrics import accuracy_score\n",
    "\n",
    "# allow plots to appear in the notebook\n",
    "%matplotlib inline\n",
    "import matplotlib.pyplot as plt\n",
    "import math \n",
    "import gspread \n",
    "import os \n",
    "from oauth2client.service_account import ServiceAccountCredentials\n",
    "\n",
    "import pickle\n",
    "import joblib"
   ]
  },
  {
   "cell_type": "code",
   "execution_count": 2,
   "metadata": {},
   "outputs": [],
   "source": [
    "scope = [\"https://spreadsheets.google.com/feeds\", 'https://www.googleapis.com/auth/drive']\n",
    "\n",
    "creds= ServiceAccountCredentials.from_json_keyfile_name('hs_data_sheet.json',scope)\n",
    "client = gspread.authorize(creds)\n",
    "HS_Accuracy =client.open('HS_Accuracy')\n",
    "\n",
    "weighted_value_by_sentence = HS_Accuracy.get_worksheet(4)   #annotate_here\n",
    "\n",
    "weighted_value_by_sentence_val=weighted_value_by_sentence.get_all_records()\n",
    "weighted_value_by_sentence_list=[]\n",
    "for index in range(len(weighted_value_by_sentence_val)):\n",
    "    for key in weighted_value_by_sentence_val[index]:\n",
    "        if key=='MsgUniSeg':\n",
    "            MsgUniSeg_key=weighted_value_by_sentence_val[index][key]\n",
    "        elif key=='Weighted_Value':\n",
    "            Weighted_Value_key =weighted_value_by_sentence_val[index][key]\n",
    "        elif key=='IsHS':\n",
    "            IsHS=weighted_value_by_sentence_val[index][key]\n",
    "        else:pass\n",
    "    weighted_value_by_sentence_list.append([MsgUniSeg_key,Weighted_Value_key,IsHS])\n",
    "\n",
    "#Create annotate_here dataframe \n",
    "weighted_val_new = pd.DataFrame(weighted_value_by_sentence_list, columns=['MsgUniSeg','Weighted_Value','IsHS'])\n"
   ]
  },
  {
   "source": [
    "# Preprocessing Step"
   ],
   "cell_type": "markdown",
   "metadata": {}
  },
  {
   "cell_type": "code",
   "execution_count": 3,
   "metadata": {},
   "outputs": [
    {
     "output_type": "stream",
     "name": "stdout",
     "text": [
      "MsgUniSeg          object\nWeighted_Value    float64\nIsHS                int64\ndtype: object\n"
     ]
    }
   ],
   "source": [
    "print(weighted_val_new.dtypes)"
   ]
  },
  {
   "cell_type": "code",
   "execution_count": 4,
   "metadata": {},
   "outputs": [
    {
     "output_type": "execute_result",
     "data": {
      "text/plain": [
       "MsgUniSeg         0\n",
       "Weighted_Value    0\n",
       "IsHS              0\n",
       "dtype: int64"
      ]
     },
     "metadata": {},
     "execution_count": 4
    }
   ],
   "source": [
    "# Check missing values in a given dataset\n",
    "weighted_val_new.isna().sum()"
   ]
  },
  {
   "cell_type": "code",
   "execution_count": 5,
   "metadata": {},
   "outputs": [
    {
     "output_type": "execute_result",
     "data": {
      "text/plain": [
       "(15347, 3)"
      ]
     },
     "metadata": {},
     "execution_count": 5
    }
   ],
   "source": [
    "weighted_val_new.shape"
   ]
  },
  {
   "cell_type": "code",
   "execution_count": 6,
   "metadata": {},
   "outputs": [],
   "source": [
    "weighted_val_updated =weighted_val_new.dropna()"
   ]
  },
  {
   "cell_type": "code",
   "execution_count": 7,
   "metadata": {},
   "outputs": [
    {
     "output_type": "execute_result",
     "data": {
      "text/plain": [
       "MsgUniSeg         0\n",
       "Weighted_Value    0\n",
       "IsHS              0\n",
       "dtype: int64"
      ]
     },
     "metadata": {},
     "execution_count": 7
    }
   ],
   "source": [
    "weighted_val_updated.isna().sum()"
   ]
  },
  {
   "cell_type": "code",
   "execution_count": 8,
   "metadata": {},
   "outputs": [
    {
     "output_type": "execute_result",
     "data": {
      "text/plain": [
       "(15347, 3)"
      ]
     },
     "metadata": {},
     "execution_count": 8
    }
   ],
   "source": [
    "weighted_val_updated.shape"
   ]
  },
  {
   "cell_type": "code",
   "execution_count": 9,
   "metadata": {},
   "outputs": [
    {
     "output_type": "execute_result",
     "data": {
      "text/plain": [
       "       Weighted_Value          IsHS\n",
       "count    15347.000000  15347.000000\n",
       "mean         0.266889      0.198866\n",
       "std          0.310372      0.399160\n",
       "min          0.000000      0.000000\n",
       "25%          0.085052      0.000000\n",
       "50%          0.200743      0.000000\n",
       "75%          0.358344      0.000000\n",
       "max          7.256743      1.000000"
      ],
      "text/html": "<div>\n<style scoped>\n    .dataframe tbody tr th:only-of-type {\n        vertical-align: middle;\n    }\n\n    .dataframe tbody tr th {\n        vertical-align: top;\n    }\n\n    .dataframe thead th {\n        text-align: right;\n    }\n</style>\n<table border=\"1\" class=\"dataframe\">\n  <thead>\n    <tr style=\"text-align: right;\">\n      <th></th>\n      <th>Weighted_Value</th>\n      <th>IsHS</th>\n    </tr>\n  </thead>\n  <tbody>\n    <tr>\n      <th>count</th>\n      <td>15347.000000</td>\n      <td>15347.000000</td>\n    </tr>\n    <tr>\n      <th>mean</th>\n      <td>0.266889</td>\n      <td>0.198866</td>\n    </tr>\n    <tr>\n      <th>std</th>\n      <td>0.310372</td>\n      <td>0.399160</td>\n    </tr>\n    <tr>\n      <th>min</th>\n      <td>0.000000</td>\n      <td>0.000000</td>\n    </tr>\n    <tr>\n      <th>25%</th>\n      <td>0.085052</td>\n      <td>0.000000</td>\n    </tr>\n    <tr>\n      <th>50%</th>\n      <td>0.200743</td>\n      <td>0.000000</td>\n    </tr>\n    <tr>\n      <th>75%</th>\n      <td>0.358344</td>\n      <td>0.000000</td>\n    </tr>\n    <tr>\n      <th>max</th>\n      <td>7.256743</td>\n      <td>1.000000</td>\n    </tr>\n  </tbody>\n</table>\n</div>"
     },
     "metadata": {},
     "execution_count": 9
    }
   ],
   "source": [
    "# Statistical summary of all attributes\n",
    "\n",
    "statistical_summary = weighted_val_updated.describe()\n",
    "statistical_summary"
   ]
  },
  {
   "source": [
    "#### Here, maximum number of weighted_value is 3.642369 and minimum number of weighted_value is 0.0. "
   ],
   "cell_type": "markdown",
   "metadata": {}
  },
  {
   "cell_type": "code",
   "execution_count": 10,
   "metadata": {},
   "outputs": [
    {
     "output_type": "execute_result",
     "data": {
      "text/plain": [
       "MsgUniSeg         0\n",
       "Weighted_Value    0\n",
       "IsHS              0\n",
       "dtype: int64"
      ]
     },
     "metadata": {},
     "execution_count": 10
    }
   ],
   "source": [
    "weighted_val_updated.isna().sum()"
   ]
  },
  {
   "cell_type": "code",
   "execution_count": 11,
   "metadata": {},
   "outputs": [
    {
     "output_type": "execute_result",
     "data": {
      "text/plain": [
       "0    12295\n",
       "1     3052\n",
       "Name: IsHS, dtype: int64"
      ]
     },
     "metadata": {},
     "execution_count": 11
    }
   ],
   "source": [
    "weighted_val_updated['IsHS'].value_counts()"
   ]
  },
  {
   "cell_type": "code",
   "execution_count": 12,
   "metadata": {},
   "outputs": [
    {
     "output_type": "execute_result",
     "data": {
      "text/plain": [
       "Index(['MsgUniSeg', 'Weighted_Value', 'IsHS'], dtype='object')"
      ]
     },
     "metadata": {},
     "execution_count": 12
    }
   ],
   "source": [
    "weighted_val_updated.columns"
   ]
  },
  {
   "cell_type": "code",
   "execution_count": 13,
   "metadata": {},
   "outputs": [],
   "source": [
    "X=weighted_val_updated[['Weighted_Value']]"
   ]
  },
  {
   "cell_type": "code",
   "execution_count": 14,
   "metadata": {},
   "outputs": [
    {
     "output_type": "execute_result",
     "data": {
      "text/plain": [
       "array([1, 0])"
      ]
     },
     "metadata": {},
     "execution_count": 14
    }
   ],
   "source": [
    " weighted_val_updated['IsHS'].unique()"
   ]
  },
  {
   "cell_type": "code",
   "execution_count": 15,
   "metadata": {},
   "outputs": [],
   "source": [
    "# y is a vector, hence we use dot to access 'label'\n",
    "y = weighted_val_updated[['IsHS']]"
   ]
  },
  {
   "cell_type": "code",
   "execution_count": 16,
   "metadata": {},
   "outputs": [],
   "source": [
    "# split X and y into training and testing sets\n",
    "X_train, X_test, y_train, y_test = train_test_split(X, y,train_size=0.7,random_state=1)"
   ]
  },
  {
   "cell_type": "code",
   "execution_count": 17,
   "metadata": {},
   "outputs": [
    {
     "output_type": "stream",
     "name": "stdout",
     "text": [
      "RF train roc-auc: 0.7755205914228209\nRF test roc-auc: 0.7053429811474778\n"
     ]
    }
   ],
   "source": [
    "## Apply RandomForestClassifier\n",
    "rf_model = RandomForestClassifier()\n",
    "rf_model.fit(X_train, y_train)\n",
    "ytrain_pred = rf_model.predict_proba(X_train)\n",
    "print('RF train roc-auc: {}'.format(roc_auc_score(y_train, ytrain_pred[:,1])))\n",
    "ytest_pred = (rf_model.predict_proba(X_test))\n",
    "print('RF test roc-auc: {}'.format(roc_auc_score(y_test, ytest_pred[:,1])))"
   ]
  },
  {
   "cell_type": "code",
   "execution_count": 18,
   "metadata": {},
   "outputs": [
    {
     "output_type": "stream",
     "name": "stdout",
     "text": [
      "Logistic train roc-auc: 0.7179866667102786\nLogistic test roc-auc: 0.7047653432579659\n"
     ]
    }
   ],
   "source": [
    "log_classifier=LogisticRegression()\n",
    "log_classifier.fit(X_train, y_train)\n",
    "ytrain_pred = log_classifier.predict_proba(X_train)\n",
    "print('Logistic train roc-auc: {}'.format(roc_auc_score(y_train, ytrain_pred[:,1])))\n",
    "ytest_pred = log_classifier.predict_proba(X_test)\n",
    "print('Logistic test roc-auc: {}'.format(roc_auc_score(y_test, ytest_pred[:,1])))"
   ]
  },
  {
   "cell_type": "code",
   "execution_count": 19,
   "metadata": {},
   "outputs": [
    {
     "output_type": "stream",
     "name": "stdout",
     "text": [
      "Adaboost train roc-auc: 0.7346751666524927\nAdaboost test roc-auc: 0.7150409073052418\n"
     ]
    }
   ],
   "source": [
    "ada_classifier=AdaBoostClassifier()\n",
    "ada_classifier.fit(X_train, y_train)\n",
    "ytrain_pred = ada_classifier.predict_proba(X_train)\n",
    "print('Adaboost train roc-auc: {}'.format(roc_auc_score(y_train, ytrain_pred[:,1])))\n",
    "ytest_pred = ada_classifier.predict_proba(X_test)\n",
    "print('Adaboost test roc-auc: {}'.format(roc_auc_score(y_test, ytest_pred[:,1])))"
   ]
  },
  {
   "cell_type": "code",
   "execution_count": 20,
   "metadata": {},
   "outputs": [
    {
     "output_type": "stream",
     "name": "stdout",
     "text": [
      "Adaboost train roc-auc: 0.7004402635039219\nAdaboost test roc-auc: 0.645954944539106\n"
     ]
    }
   ],
   "source": [
    "knn_classifier=KNeighborsClassifier()\n",
    "knn_classifier.fit(X_train, y_train)\n",
    "ytrain_pred = knn_classifier.predict_proba(X_train)\n",
    "print('Adaboost train roc-auc: {}'.format(roc_auc_score(y_train, ytrain_pred[:,1])))\n",
    "ytest_pred = knn_classifier.predict_proba(X_test)\n",
    "print('Adaboost test roc-auc: {}'.format(roc_auc_score(y_test, ytest_pred[:,1])))"
   ]
  },
  {
   "cell_type": "code",
   "execution_count": 21,
   "metadata": {},
   "outputs": [
    {
     "output_type": "stream",
     "name": "stdout",
     "text": [
      " test roc-auc: 0.6988484936652721\n"
     ]
    }
   ],
   "source": [
    "pred=[]\n",
    "for model in [rf_model,log_classifier,ada_classifier,knn_classifier]:\n",
    "    pred.append(pd.Series(model.predict_proba(X_test)[:,1]))\n",
    "final_prediction=pd.concat(pred,axis=1).mean(axis=1)\n",
    "print(' test roc-auc: {}'.format(roc_auc_score(y_test,final_prediction)))"
   ]
  },
  {
   "cell_type": "code",
   "execution_count": 22,
   "metadata": {},
   "outputs": [
    {
     "output_type": "execute_result",
     "data": {
      "text/plain": [
       "0       0.405725\n",
       "1       0.305991\n",
       "2       0.156768\n",
       "3       0.156768\n",
       "4       0.174704\n",
       "          ...   \n",
       "4600    0.270073\n",
       "4601    0.324286\n",
       "4602    0.207028\n",
       "4603    0.352670\n",
       "4604    0.174704\n",
       "Length: 4605, dtype: float64"
      ]
     },
     "metadata": {},
     "execution_count": 22
    }
   ],
   "source": [
    "pd.concat(pred,axis=1).mean(axis=1)"
   ]
  },
  {
   "cell_type": "code",
   "execution_count": 23,
   "metadata": {},
   "outputs": [],
   "source": [
    "#### Calculate the ROc Curve\n",
    "fpr, tpr, thresholds = roc_curve(y_test, final_prediction)\n",
    "# thresholds"
   ]
  },
  {
   "cell_type": "code",
   "execution_count": 24,
   "metadata": {},
   "outputs": [
    {
     "output_type": "execute_result",
     "data": {
      "text/plain": [
       "    thresholds  accuracy\n",
       "65    0.515358  0.811075\n",
       "63    0.521043  0.810858\n",
       "64    0.518146  0.810858\n",
       "66    0.513650  0.810858\n",
       "70    0.497550  0.810641"
      ],
      "text/html": "<div>\n<style scoped>\n    .dataframe tbody tr th:only-of-type {\n        vertical-align: middle;\n    }\n\n    .dataframe tbody tr th {\n        vertical-align: top;\n    }\n\n    .dataframe thead th {\n        text-align: right;\n    }\n</style>\n<table border=\"1\" class=\"dataframe\">\n  <thead>\n    <tr style=\"text-align: right;\">\n      <th></th>\n      <th>thresholds</th>\n      <th>accuracy</th>\n    </tr>\n  </thead>\n  <tbody>\n    <tr>\n      <th>65</th>\n      <td>0.515358</td>\n      <td>0.811075</td>\n    </tr>\n    <tr>\n      <th>63</th>\n      <td>0.521043</td>\n      <td>0.810858</td>\n    </tr>\n    <tr>\n      <th>64</th>\n      <td>0.518146</td>\n      <td>0.810858</td>\n    </tr>\n    <tr>\n      <th>66</th>\n      <td>0.513650</td>\n      <td>0.810858</td>\n    </tr>\n    <tr>\n      <th>70</th>\n      <td>0.497550</td>\n      <td>0.810641</td>\n    </tr>\n  </tbody>\n</table>\n</div>"
     },
     "metadata": {},
     "execution_count": 24
    }
   ],
   "source": [
    "accuracy_ls = []\n",
    "for thres in thresholds:\n",
    "    y_pred = np.where(final_prediction>thres,1,0)\n",
    "    accuracy_ls.append(accuracy_score(y_test, y_pred, normalize=True))\n",
    "    \n",
    "accuracy_ls = pd.concat([pd.Series(thresholds), pd.Series(accuracy_ls)],\n",
    "                        axis=1)\n",
    "accuracy_ls.columns = ['thresholds', 'accuracy']\n",
    "accuracy_ls.sort_values(by='accuracy', ascending=False, inplace=True)\n",
    "accuracy_ls.head()"
   ]
  },
  {
   "cell_type": "code",
   "execution_count": 25,
   "metadata": {},
   "outputs": [],
   "source": [
    "# print the first predicted probabilities of class membership\n",
    "y_pred_class =(rf_model.predict_proba(X_test)[:,1] >=0.3).astype(bool)"
   ]
  },
  {
   "cell_type": "code",
   "execution_count": 26,
   "metadata": {},
   "outputs": [
    {
     "output_type": "stream",
     "name": "stdout",
     "text": [
      "[[3055  628]\n [ 496  426]]\n"
     ]
    }
   ],
   "source": [
    "# save confusion matrix and slice into four pieces\n",
    "confusion = metrics.confusion_matrix(y_test, y_pred_class)\n",
    "print(confusion)\n",
    "\n",
    "#[row, column]\n",
    "TP = confusion[1, 1]  \n",
    "TN = confusion[0, 0] \n",
    "FP = confusion[0, 1] \n",
    "FN = confusion[1, 0]  \n"
   ]
  },
  {
   "cell_type": "code",
   "execution_count": 27,
   "metadata": {},
   "outputs": [
    {
     "output_type": "stream",
     "name": "stdout",
     "text": [
      "Accuracy  :   0.7559174809989142\nAccuracy  :   0.7559174809989142\n"
     ]
    }
   ],
   "source": [
    "# use float to perform true division, not integer division\n",
    "Accuracy =(TP + TN) / float(TP + TN + FP + FN)\n",
    "\n",
    "print(\"Accuracy  :  \",Accuracy)\n",
    "print(\"Accuracy  :  \",metrics.accuracy_score(y_test, y_pred_class))"
   ]
  },
  {
   "cell_type": "code",
   "execution_count": 28,
   "metadata": {},
   "outputs": [
    {
     "output_type": "stream",
     "name": "stdout",
     "text": [
      "0.24408251900108577\n0.2440825190010858\n"
     ]
    }
   ],
   "source": [
    "classification_error = (FP + FN) / float(TP + TN + FP + FN)\n",
    "\n",
    "print(classification_error)\n",
    "print(1 - metrics.accuracy_score(y_test, y_pred_class))"
   ]
  },
  {
   "cell_type": "code",
   "execution_count": 29,
   "metadata": {},
   "outputs": [
    {
     "output_type": "stream",
     "name": "stdout",
     "text": [
      "Recall           :  0.46203904555314534\nMetric Recall    :  0.46203904555314534\n"
     ]
    }
   ],
   "source": [
    "sensitivity_recall = TP / float(FN + TP)   # True Positive Rate\n",
    "\n",
    "\n",
    "print(\"Recall           : \",sensitivity_recall)\n",
    "\n",
    "print(\"Metric Recall    : \",metrics.recall_score(y_test, y_pred_class))"
   ]
  },
  {
   "cell_type": "code",
   "execution_count": 30,
   "metadata": {},
   "outputs": [
    {
     "output_type": "stream",
     "name": "stdout",
     "text": [
      "0.8294868313874558\n"
     ]
    }
   ],
   "source": [
    "specificity = TN / (TN + FP)  \n",
    "\n",
    "print(specificity)"
   ]
  },
  {
   "cell_type": "code",
   "execution_count": 31,
   "metadata": {},
   "outputs": [
    {
     "output_type": "stream",
     "name": "stdout",
     "text": [
      "0.17051316861254412\n0.17051316861254417\n"
     ]
    }
   ],
   "source": [
    "false_positive_rate = FP / float(TN + FP)   # False Positive Rate\n",
    "\n",
    "print(false_positive_rate)\n",
    "print(1 - specificity)"
   ]
  },
  {
   "cell_type": "code",
   "execution_count": 32,
   "metadata": {},
   "outputs": [
    {
     "output_type": "stream",
     "name": "stdout",
     "text": [
      "0.40417457305502846\n",
      "0.40417457305502846\n"
     ]
    }
   ],
   "source": [
    "precision = TP / float(TP + FP)\n",
    "\n",
    "print(precision)\n",
    "print(metrics.precision_score(y_test, y_pred_class))"
   ]
  },
  {
   "cell_type": "code",
   "execution_count": 33,
   "metadata": {},
   "outputs": [],
   "source": [
    "F1=2*((precision*sensitivity_recall)/(precision+sensitivity_recall))\n"
   ]
  },
  {
   "cell_type": "code",
   "execution_count": 34,
   "metadata": {},
   "outputs": [
    {
     "output_type": "stream",
     "name": "stdout",
     "text": [
      "Accuracy     :    0.7559174809989142\nPrecision    :    0.40417457305502846\nRecall       :    0.46203904555314534\nF1 Score     :    0.4311740890688259\n"
     ]
    }
   ],
   "source": [
    "print(\"Accuracy     :   \",Accuracy)\n",
    "print(\"Precision    :   \",precision)\n",
    "print(\"Recall       :   \",sensitivity_recall)\n",
    "print(\"F1 Score     :   \",F1)"
   ]
  },
  {
   "cell_type": "code",
   "execution_count": 35,
   "metadata": {},
   "outputs": [],
   "source": [
    "def plot_roc_curve(fpr, tpr):\n",
    "    plt.plot(fpr, tpr, color='orange', label='ROC')\n",
    "    plt.plot([0, 1], [0, 1], color='darkblue', linestyle='--')\n",
    "    plt.xlabel('False Positive Rate')\n",
    "    plt.ylabel('True Positive Rate')\n",
    "    plt.title('Receiver Operating Characteristic (ROC) Curve')\n",
    "    plt.legend()\n",
    "    plt.show()"
   ]
  },
  {
   "cell_type": "code",
   "execution_count": 36,
   "metadata": {},
   "outputs": [
    {
     "output_type": "display_data",
     "data": {
      "text/plain": "<Figure size 432x288 with 1 Axes>",
      "image/svg+xml": "<?xml version=\"1.0\" encoding=\"utf-8\" standalone=\"no\"?>\n<!DOCTYPE svg PUBLIC \"-//W3C//DTD SVG 1.1//EN\"\n  \"http://www.w3.org/Graphics/SVG/1.1/DTD/svg11.dtd\">\n<!-- Created with matplotlib (https://matplotlib.org/) -->\n<svg height=\"277.314375pt\" version=\"1.1\" viewBox=\"0 0 385.78125 277.314375\" width=\"385.78125pt\" xmlns=\"http://www.w3.org/2000/svg\" xmlns:xlink=\"http://www.w3.org/1999/xlink\">\n <metadata>\n  <rdf:RDF xmlns:cc=\"http://creativecommons.org/ns#\" xmlns:dc=\"http://purl.org/dc/elements/1.1/\" xmlns:rdf=\"http://www.w3.org/1999/02/22-rdf-syntax-ns#\">\n   <cc:Work>\n    <dc:type rdf:resource=\"http://purl.org/dc/dcmitype/StillImage\"/>\n    <dc:date>2020-11-02T14:06:53.935178</dc:date>\n    <dc:format>image/svg+xml</dc:format>\n    <dc:creator>\n     <cc:Agent>\n      <dc:title>Matplotlib v3.3.2, https://matplotlib.org/</dc:title>\n     </cc:Agent>\n    </dc:creator>\n   </cc:Work>\n  </rdf:RDF>\n </metadata>\n <defs>\n  <style type=\"text/css\">*{stroke-linecap:butt;stroke-linejoin:round;}</style>\n </defs>\n <g id=\"figure_1\">\n  <g id=\"patch_1\">\n   <path d=\"M 0 277.314375 \nL 385.78125 277.314375 \nL 385.78125 0 \nL 0 0 \nz\n\" style=\"fill:none;\"/>\n  </g>\n  <g id=\"axes_1\">\n   <g id=\"patch_2\">\n    <path d=\"M 43.78125 239.758125 \nL 378.58125 239.758125 \nL 378.58125 22.318125 \nL 43.78125 22.318125 \nz\n\" style=\"fill:#ffffff;\"/>\n   </g>\n   <g id=\"matplotlib.axis_1\">\n    <g id=\"xtick_1\">\n     <g id=\"line2d_1\">\n      <defs>\n       <path d=\"M 0 0 \nL 0 3.5 \n\" id=\"m98c290aba4\" style=\"stroke:#000000;stroke-width:0.8;\"/>\n      </defs>\n      <g>\n       <use style=\"stroke:#000000;stroke-width:0.8;\" x=\"58.999432\" xlink:href=\"#m98c290aba4\" y=\"239.758125\"/>\n      </g>\n     </g>\n     <g id=\"text_1\">\n      <!-- 0.0 -->\n      <g transform=\"translate(51.047869 254.356562)scale(0.1 -0.1)\">\n       <defs>\n        <path d=\"M 31.78125 66.40625 \nQ 24.171875 66.40625 20.328125 58.90625 \nQ 16.5 51.421875 16.5 36.375 \nQ 16.5 21.390625 20.328125 13.890625 \nQ 24.171875 6.390625 31.78125 6.390625 \nQ 39.453125 6.390625 43.28125 13.890625 \nQ 47.125 21.390625 47.125 36.375 \nQ 47.125 51.421875 43.28125 58.90625 \nQ 39.453125 66.40625 31.78125 66.40625 \nz\nM 31.78125 74.21875 \nQ 44.046875 74.21875 50.515625 64.515625 \nQ 56.984375 54.828125 56.984375 36.375 \nQ 56.984375 17.96875 50.515625 8.265625 \nQ 44.046875 -1.421875 31.78125 -1.421875 \nQ 19.53125 -1.421875 13.0625 8.265625 \nQ 6.59375 17.96875 6.59375 36.375 \nQ 6.59375 54.828125 13.0625 64.515625 \nQ 19.53125 74.21875 31.78125 74.21875 \nz\n\" id=\"DejaVuSans-48\"/>\n        <path d=\"M 10.6875 12.40625 \nL 21 12.40625 \nL 21 0 \nL 10.6875 0 \nz\n\" id=\"DejaVuSans-46\"/>\n       </defs>\n       <use xlink:href=\"#DejaVuSans-48\"/>\n       <use x=\"63.623047\" xlink:href=\"#DejaVuSans-46\"/>\n       <use x=\"95.410156\" xlink:href=\"#DejaVuSans-48\"/>\n      </g>\n     </g>\n    </g>\n    <g id=\"xtick_2\">\n     <g id=\"line2d_2\">\n      <g>\n       <use style=\"stroke:#000000;stroke-width:0.8;\" x=\"119.872159\" xlink:href=\"#m98c290aba4\" y=\"239.758125\"/>\n      </g>\n     </g>\n     <g id=\"text_2\">\n      <!-- 0.2 -->\n      <g transform=\"translate(111.920597 254.356562)scale(0.1 -0.1)\">\n       <defs>\n        <path d=\"M 19.1875 8.296875 \nL 53.609375 8.296875 \nL 53.609375 0 \nL 7.328125 0 \nL 7.328125 8.296875 \nQ 12.9375 14.109375 22.625 23.890625 \nQ 32.328125 33.6875 34.8125 36.53125 \nQ 39.546875 41.84375 41.421875 45.53125 \nQ 43.3125 49.21875 43.3125 52.78125 \nQ 43.3125 58.59375 39.234375 62.25 \nQ 35.15625 65.921875 28.609375 65.921875 \nQ 23.96875 65.921875 18.8125 64.3125 \nQ 13.671875 62.703125 7.8125 59.421875 \nL 7.8125 69.390625 \nQ 13.765625 71.78125 18.9375 73 \nQ 24.125 74.21875 28.421875 74.21875 \nQ 39.75 74.21875 46.484375 68.546875 \nQ 53.21875 62.890625 53.21875 53.421875 \nQ 53.21875 48.921875 51.53125 44.890625 \nQ 49.859375 40.875 45.40625 35.40625 \nQ 44.1875 33.984375 37.640625 27.21875 \nQ 31.109375 20.453125 19.1875 8.296875 \nz\n\" id=\"DejaVuSans-50\"/>\n       </defs>\n       <use xlink:href=\"#DejaVuSans-48\"/>\n       <use x=\"63.623047\" xlink:href=\"#DejaVuSans-46\"/>\n       <use x=\"95.410156\" xlink:href=\"#DejaVuSans-50\"/>\n      </g>\n     </g>\n    </g>\n    <g id=\"xtick_3\">\n     <g id=\"line2d_3\">\n      <g>\n       <use style=\"stroke:#000000;stroke-width:0.8;\" x=\"180.744886\" xlink:href=\"#m98c290aba4\" y=\"239.758125\"/>\n      </g>\n     </g>\n     <g id=\"text_3\">\n      <!-- 0.4 -->\n      <g transform=\"translate(172.793324 254.356562)scale(0.1 -0.1)\">\n       <defs>\n        <path d=\"M 37.796875 64.3125 \nL 12.890625 25.390625 \nL 37.796875 25.390625 \nz\nM 35.203125 72.90625 \nL 47.609375 72.90625 \nL 47.609375 25.390625 \nL 58.015625 25.390625 \nL 58.015625 17.1875 \nL 47.609375 17.1875 \nL 47.609375 0 \nL 37.796875 0 \nL 37.796875 17.1875 \nL 4.890625 17.1875 \nL 4.890625 26.703125 \nz\n\" id=\"DejaVuSans-52\"/>\n       </defs>\n       <use xlink:href=\"#DejaVuSans-48\"/>\n       <use x=\"63.623047\" xlink:href=\"#DejaVuSans-46\"/>\n       <use x=\"95.410156\" xlink:href=\"#DejaVuSans-52\"/>\n      </g>\n     </g>\n    </g>\n    <g id=\"xtick_4\">\n     <g id=\"line2d_4\">\n      <g>\n       <use style=\"stroke:#000000;stroke-width:0.8;\" x=\"241.617614\" xlink:href=\"#m98c290aba4\" y=\"239.758125\"/>\n      </g>\n     </g>\n     <g id=\"text_4\">\n      <!-- 0.6 -->\n      <g transform=\"translate(233.666051 254.356562)scale(0.1 -0.1)\">\n       <defs>\n        <path d=\"M 33.015625 40.375 \nQ 26.375 40.375 22.484375 35.828125 \nQ 18.609375 31.296875 18.609375 23.390625 \nQ 18.609375 15.53125 22.484375 10.953125 \nQ 26.375 6.390625 33.015625 6.390625 \nQ 39.65625 6.390625 43.53125 10.953125 \nQ 47.40625 15.53125 47.40625 23.390625 \nQ 47.40625 31.296875 43.53125 35.828125 \nQ 39.65625 40.375 33.015625 40.375 \nz\nM 52.59375 71.296875 \nL 52.59375 62.3125 \nQ 48.875 64.0625 45.09375 64.984375 \nQ 41.3125 65.921875 37.59375 65.921875 \nQ 27.828125 65.921875 22.671875 59.328125 \nQ 17.53125 52.734375 16.796875 39.40625 \nQ 19.671875 43.65625 24.015625 45.921875 \nQ 28.375 48.1875 33.59375 48.1875 \nQ 44.578125 48.1875 50.953125 41.515625 \nQ 57.328125 34.859375 57.328125 23.390625 \nQ 57.328125 12.15625 50.6875 5.359375 \nQ 44.046875 -1.421875 33.015625 -1.421875 \nQ 20.359375 -1.421875 13.671875 8.265625 \nQ 6.984375 17.96875 6.984375 36.375 \nQ 6.984375 53.65625 15.1875 63.9375 \nQ 23.390625 74.21875 37.203125 74.21875 \nQ 40.921875 74.21875 44.703125 73.484375 \nQ 48.484375 72.75 52.59375 71.296875 \nz\n\" id=\"DejaVuSans-54\"/>\n       </defs>\n       <use xlink:href=\"#DejaVuSans-48\"/>\n       <use x=\"63.623047\" xlink:href=\"#DejaVuSans-46\"/>\n       <use x=\"95.410156\" xlink:href=\"#DejaVuSans-54\"/>\n      </g>\n     </g>\n    </g>\n    <g id=\"xtick_5\">\n     <g id=\"line2d_5\">\n      <g>\n       <use style=\"stroke:#000000;stroke-width:0.8;\" x=\"302.490341\" xlink:href=\"#m98c290aba4\" y=\"239.758125\"/>\n      </g>\n     </g>\n     <g id=\"text_5\">\n      <!-- 0.8 -->\n      <g transform=\"translate(294.538778 254.356562)scale(0.1 -0.1)\">\n       <defs>\n        <path d=\"M 31.78125 34.625 \nQ 24.75 34.625 20.71875 30.859375 \nQ 16.703125 27.09375 16.703125 20.515625 \nQ 16.703125 13.921875 20.71875 10.15625 \nQ 24.75 6.390625 31.78125 6.390625 \nQ 38.8125 6.390625 42.859375 10.171875 \nQ 46.921875 13.96875 46.921875 20.515625 \nQ 46.921875 27.09375 42.890625 30.859375 \nQ 38.875 34.625 31.78125 34.625 \nz\nM 21.921875 38.8125 \nQ 15.578125 40.375 12.03125 44.71875 \nQ 8.5 49.078125 8.5 55.328125 \nQ 8.5 64.0625 14.71875 69.140625 \nQ 20.953125 74.21875 31.78125 74.21875 \nQ 42.671875 74.21875 48.875 69.140625 \nQ 55.078125 64.0625 55.078125 55.328125 \nQ 55.078125 49.078125 51.53125 44.71875 \nQ 48 40.375 41.703125 38.8125 \nQ 48.828125 37.15625 52.796875 32.3125 \nQ 56.78125 27.484375 56.78125 20.515625 \nQ 56.78125 9.90625 50.3125 4.234375 \nQ 43.84375 -1.421875 31.78125 -1.421875 \nQ 19.734375 -1.421875 13.25 4.234375 \nQ 6.78125 9.90625 6.78125 20.515625 \nQ 6.78125 27.484375 10.78125 32.3125 \nQ 14.796875 37.15625 21.921875 38.8125 \nz\nM 18.3125 54.390625 \nQ 18.3125 48.734375 21.84375 45.5625 \nQ 25.390625 42.390625 31.78125 42.390625 \nQ 38.140625 42.390625 41.71875 45.5625 \nQ 45.3125 48.734375 45.3125 54.390625 \nQ 45.3125 60.0625 41.71875 63.234375 \nQ 38.140625 66.40625 31.78125 66.40625 \nQ 25.390625 66.40625 21.84375 63.234375 \nQ 18.3125 60.0625 18.3125 54.390625 \nz\n\" id=\"DejaVuSans-56\"/>\n       </defs>\n       <use xlink:href=\"#DejaVuSans-48\"/>\n       <use x=\"63.623047\" xlink:href=\"#DejaVuSans-46\"/>\n       <use x=\"95.410156\" xlink:href=\"#DejaVuSans-56\"/>\n      </g>\n     </g>\n    </g>\n    <g id=\"xtick_6\">\n     <g id=\"line2d_6\">\n      <g>\n       <use style=\"stroke:#000000;stroke-width:0.8;\" x=\"363.363068\" xlink:href=\"#m98c290aba4\" y=\"239.758125\"/>\n      </g>\n     </g>\n     <g id=\"text_6\">\n      <!-- 1.0 -->\n      <g transform=\"translate(355.411506 254.356562)scale(0.1 -0.1)\">\n       <defs>\n        <path d=\"M 12.40625 8.296875 \nL 28.515625 8.296875 \nL 28.515625 63.921875 \nL 10.984375 60.40625 \nL 10.984375 69.390625 \nL 28.421875 72.90625 \nL 38.28125 72.90625 \nL 38.28125 8.296875 \nL 54.390625 8.296875 \nL 54.390625 0 \nL 12.40625 0 \nz\n\" id=\"DejaVuSans-49\"/>\n       </defs>\n       <use xlink:href=\"#DejaVuSans-49\"/>\n       <use x=\"63.623047\" xlink:href=\"#DejaVuSans-46\"/>\n       <use x=\"95.410156\" xlink:href=\"#DejaVuSans-48\"/>\n      </g>\n     </g>\n    </g>\n    <g id=\"text_7\">\n     <!-- False Positive Rate -->\n     <g transform=\"translate(164.714844 268.034687)scale(0.1 -0.1)\">\n      <defs>\n       <path d=\"M 9.8125 72.90625 \nL 51.703125 72.90625 \nL 51.703125 64.59375 \nL 19.671875 64.59375 \nL 19.671875 43.109375 \nL 48.578125 43.109375 \nL 48.578125 34.8125 \nL 19.671875 34.8125 \nL 19.671875 0 \nL 9.8125 0 \nz\n\" id=\"DejaVuSans-70\"/>\n       <path d=\"M 34.28125 27.484375 \nQ 23.390625 27.484375 19.1875 25 \nQ 14.984375 22.515625 14.984375 16.5 \nQ 14.984375 11.71875 18.140625 8.90625 \nQ 21.296875 6.109375 26.703125 6.109375 \nQ 34.1875 6.109375 38.703125 11.40625 \nQ 43.21875 16.703125 43.21875 25.484375 \nL 43.21875 27.484375 \nz\nM 52.203125 31.203125 \nL 52.203125 0 \nL 43.21875 0 \nL 43.21875 8.296875 \nQ 40.140625 3.328125 35.546875 0.953125 \nQ 30.953125 -1.421875 24.3125 -1.421875 \nQ 15.921875 -1.421875 10.953125 3.296875 \nQ 6 8.015625 6 15.921875 \nQ 6 25.140625 12.171875 29.828125 \nQ 18.359375 34.515625 30.609375 34.515625 \nL 43.21875 34.515625 \nL 43.21875 35.40625 \nQ 43.21875 41.609375 39.140625 45 \nQ 35.0625 48.390625 27.6875 48.390625 \nQ 23 48.390625 18.546875 47.265625 \nQ 14.109375 46.140625 10.015625 43.890625 \nL 10.015625 52.203125 \nQ 14.9375 54.109375 19.578125 55.046875 \nQ 24.21875 56 28.609375 56 \nQ 40.484375 56 46.34375 49.84375 \nQ 52.203125 43.703125 52.203125 31.203125 \nz\n\" id=\"DejaVuSans-97\"/>\n       <path d=\"M 9.421875 75.984375 \nL 18.40625 75.984375 \nL 18.40625 0 \nL 9.421875 0 \nz\n\" id=\"DejaVuSans-108\"/>\n       <path d=\"M 44.28125 53.078125 \nL 44.28125 44.578125 \nQ 40.484375 46.53125 36.375 47.5 \nQ 32.28125 48.484375 27.875 48.484375 \nQ 21.1875 48.484375 17.84375 46.4375 \nQ 14.5 44.390625 14.5 40.28125 \nQ 14.5 37.15625 16.890625 35.375 \nQ 19.28125 33.59375 26.515625 31.984375 \nL 29.59375 31.296875 \nQ 39.15625 29.25 43.1875 25.515625 \nQ 47.21875 21.78125 47.21875 15.09375 \nQ 47.21875 7.46875 41.1875 3.015625 \nQ 35.15625 -1.421875 24.609375 -1.421875 \nQ 20.21875 -1.421875 15.453125 -0.5625 \nQ 10.6875 0.296875 5.421875 2 \nL 5.421875 11.28125 \nQ 10.40625 8.6875 15.234375 7.390625 \nQ 20.0625 6.109375 24.8125 6.109375 \nQ 31.15625 6.109375 34.5625 8.28125 \nQ 37.984375 10.453125 37.984375 14.40625 \nQ 37.984375 18.0625 35.515625 20.015625 \nQ 33.0625 21.96875 24.703125 23.78125 \nL 21.578125 24.515625 \nQ 13.234375 26.265625 9.515625 29.90625 \nQ 5.8125 33.546875 5.8125 39.890625 \nQ 5.8125 47.609375 11.28125 51.796875 \nQ 16.75 56 26.8125 56 \nQ 31.78125 56 36.171875 55.265625 \nQ 40.578125 54.546875 44.28125 53.078125 \nz\n\" id=\"DejaVuSans-115\"/>\n       <path d=\"M 56.203125 29.59375 \nL 56.203125 25.203125 \nL 14.890625 25.203125 \nQ 15.484375 15.921875 20.484375 11.0625 \nQ 25.484375 6.203125 34.421875 6.203125 \nQ 39.59375 6.203125 44.453125 7.46875 \nQ 49.3125 8.734375 54.109375 11.28125 \nL 54.109375 2.78125 \nQ 49.265625 0.734375 44.1875 -0.34375 \nQ 39.109375 -1.421875 33.890625 -1.421875 \nQ 20.796875 -1.421875 13.15625 6.1875 \nQ 5.515625 13.8125 5.515625 26.8125 \nQ 5.515625 40.234375 12.765625 48.109375 \nQ 20.015625 56 32.328125 56 \nQ 43.359375 56 49.78125 48.890625 \nQ 56.203125 41.796875 56.203125 29.59375 \nz\nM 47.21875 32.234375 \nQ 47.125 39.59375 43.09375 43.984375 \nQ 39.0625 48.390625 32.421875 48.390625 \nQ 24.90625 48.390625 20.390625 44.140625 \nQ 15.875 39.890625 15.1875 32.171875 \nz\n\" id=\"DejaVuSans-101\"/>\n       <path id=\"DejaVuSans-32\"/>\n       <path d=\"M 19.671875 64.796875 \nL 19.671875 37.40625 \nL 32.078125 37.40625 \nQ 38.96875 37.40625 42.71875 40.96875 \nQ 46.484375 44.53125 46.484375 51.125 \nQ 46.484375 57.671875 42.71875 61.234375 \nQ 38.96875 64.796875 32.078125 64.796875 \nz\nM 9.8125 72.90625 \nL 32.078125 72.90625 \nQ 44.34375 72.90625 50.609375 67.359375 \nQ 56.890625 61.8125 56.890625 51.125 \nQ 56.890625 40.328125 50.609375 34.8125 \nQ 44.34375 29.296875 32.078125 29.296875 \nL 19.671875 29.296875 \nL 19.671875 0 \nL 9.8125 0 \nz\n\" id=\"DejaVuSans-80\"/>\n       <path d=\"M 30.609375 48.390625 \nQ 23.390625 48.390625 19.1875 42.75 \nQ 14.984375 37.109375 14.984375 27.296875 \nQ 14.984375 17.484375 19.15625 11.84375 \nQ 23.34375 6.203125 30.609375 6.203125 \nQ 37.796875 6.203125 41.984375 11.859375 \nQ 46.1875 17.53125 46.1875 27.296875 \nQ 46.1875 37.015625 41.984375 42.703125 \nQ 37.796875 48.390625 30.609375 48.390625 \nz\nM 30.609375 56 \nQ 42.328125 56 49.015625 48.375 \nQ 55.71875 40.765625 55.71875 27.296875 \nQ 55.71875 13.875 49.015625 6.21875 \nQ 42.328125 -1.421875 30.609375 -1.421875 \nQ 18.84375 -1.421875 12.171875 6.21875 \nQ 5.515625 13.875 5.515625 27.296875 \nQ 5.515625 40.765625 12.171875 48.375 \nQ 18.84375 56 30.609375 56 \nz\n\" id=\"DejaVuSans-111\"/>\n       <path d=\"M 9.421875 54.6875 \nL 18.40625 54.6875 \nL 18.40625 0 \nL 9.421875 0 \nz\nM 9.421875 75.984375 \nL 18.40625 75.984375 \nL 18.40625 64.59375 \nL 9.421875 64.59375 \nz\n\" id=\"DejaVuSans-105\"/>\n       <path d=\"M 18.3125 70.21875 \nL 18.3125 54.6875 \nL 36.8125 54.6875 \nL 36.8125 47.703125 \nL 18.3125 47.703125 \nL 18.3125 18.015625 \nQ 18.3125 11.328125 20.140625 9.421875 \nQ 21.96875 7.515625 27.59375 7.515625 \nL 36.8125 7.515625 \nL 36.8125 0 \nL 27.59375 0 \nQ 17.1875 0 13.234375 3.875 \nQ 9.28125 7.765625 9.28125 18.015625 \nL 9.28125 47.703125 \nL 2.6875 47.703125 \nL 2.6875 54.6875 \nL 9.28125 54.6875 \nL 9.28125 70.21875 \nz\n\" id=\"DejaVuSans-116\"/>\n       <path d=\"M 2.984375 54.6875 \nL 12.5 54.6875 \nL 29.59375 8.796875 \nL 46.6875 54.6875 \nL 56.203125 54.6875 \nL 35.6875 0 \nL 23.484375 0 \nz\n\" id=\"DejaVuSans-118\"/>\n       <path d=\"M 44.390625 34.1875 \nQ 47.5625 33.109375 50.5625 29.59375 \nQ 53.5625 26.078125 56.59375 19.921875 \nL 66.609375 0 \nL 56 0 \nL 46.6875 18.703125 \nQ 43.0625 26.03125 39.671875 28.421875 \nQ 36.28125 30.8125 30.421875 30.8125 \nL 19.671875 30.8125 \nL 19.671875 0 \nL 9.8125 0 \nL 9.8125 72.90625 \nL 32.078125 72.90625 \nQ 44.578125 72.90625 50.734375 67.671875 \nQ 56.890625 62.453125 56.890625 51.90625 \nQ 56.890625 45.015625 53.6875 40.46875 \nQ 50.484375 35.9375 44.390625 34.1875 \nz\nM 19.671875 64.796875 \nL 19.671875 38.921875 \nL 32.078125 38.921875 \nQ 39.203125 38.921875 42.84375 42.21875 \nQ 46.484375 45.515625 46.484375 51.90625 \nQ 46.484375 58.296875 42.84375 61.546875 \nQ 39.203125 64.796875 32.078125 64.796875 \nz\n\" id=\"DejaVuSans-82\"/>\n      </defs>\n      <use xlink:href=\"#DejaVuSans-70\"/>\n      <use x=\"48.394531\" xlink:href=\"#DejaVuSans-97\"/>\n      <use x=\"109.673828\" xlink:href=\"#DejaVuSans-108\"/>\n      <use x=\"137.457031\" xlink:href=\"#DejaVuSans-115\"/>\n      <use x=\"189.556641\" xlink:href=\"#DejaVuSans-101\"/>\n      <use x=\"251.080078\" xlink:href=\"#DejaVuSans-32\"/>\n      <use x=\"282.867188\" xlink:href=\"#DejaVuSans-80\"/>\n      <use x=\"339.544922\" xlink:href=\"#DejaVuSans-111\"/>\n      <use x=\"400.726562\" xlink:href=\"#DejaVuSans-115\"/>\n      <use x=\"452.826172\" xlink:href=\"#DejaVuSans-105\"/>\n      <use x=\"480.609375\" xlink:href=\"#DejaVuSans-116\"/>\n      <use x=\"519.818359\" xlink:href=\"#DejaVuSans-105\"/>\n      <use x=\"547.601562\" xlink:href=\"#DejaVuSans-118\"/>\n      <use x=\"606.78125\" xlink:href=\"#DejaVuSans-101\"/>\n      <use x=\"668.304688\" xlink:href=\"#DejaVuSans-32\"/>\n      <use x=\"700.091797\" xlink:href=\"#DejaVuSans-82\"/>\n      <use x=\"767.324219\" xlink:href=\"#DejaVuSans-97\"/>\n      <use x=\"828.603516\" xlink:href=\"#DejaVuSans-116\"/>\n      <use x=\"867.8125\" xlink:href=\"#DejaVuSans-101\"/>\n     </g>\n    </g>\n   </g>\n   <g id=\"matplotlib.axis_2\">\n    <g id=\"ytick_1\">\n     <g id=\"line2d_7\">\n      <defs>\n       <path d=\"M 0 0 \nL -3.5 0 \n\" id=\"mbc12dd5ebf\" style=\"stroke:#000000;stroke-width:0.8;\"/>\n      </defs>\n      <g>\n       <use style=\"stroke:#000000;stroke-width:0.8;\" x=\"43.78125\" xlink:href=\"#mbc12dd5ebf\" y=\"229.874489\"/>\n      </g>\n     </g>\n     <g id=\"text_8\">\n      <!-- 0.0 -->\n      <g transform=\"translate(20.878125 233.673707)scale(0.1 -0.1)\">\n       <use xlink:href=\"#DejaVuSans-48\"/>\n       <use x=\"63.623047\" xlink:href=\"#DejaVuSans-46\"/>\n       <use x=\"95.410156\" xlink:href=\"#DejaVuSans-48\"/>\n      </g>\n     </g>\n    </g>\n    <g id=\"ytick_2\">\n     <g id=\"line2d_8\">\n      <g>\n       <use style=\"stroke:#000000;stroke-width:0.8;\" x=\"43.78125\" xlink:href=\"#mbc12dd5ebf\" y=\"190.339943\"/>\n      </g>\n     </g>\n     <g id=\"text_9\">\n      <!-- 0.2 -->\n      <g transform=\"translate(20.878125 194.139162)scale(0.1 -0.1)\">\n       <use xlink:href=\"#DejaVuSans-48\"/>\n       <use x=\"63.623047\" xlink:href=\"#DejaVuSans-46\"/>\n       <use x=\"95.410156\" xlink:href=\"#DejaVuSans-50\"/>\n      </g>\n     </g>\n    </g>\n    <g id=\"ytick_3\">\n     <g id=\"line2d_9\">\n      <g>\n       <use style=\"stroke:#000000;stroke-width:0.8;\" x=\"43.78125\" xlink:href=\"#mbc12dd5ebf\" y=\"150.805398\"/>\n      </g>\n     </g>\n     <g id=\"text_10\">\n      <!-- 0.4 -->\n      <g transform=\"translate(20.878125 154.604616)scale(0.1 -0.1)\">\n       <use xlink:href=\"#DejaVuSans-48\"/>\n       <use x=\"63.623047\" xlink:href=\"#DejaVuSans-46\"/>\n       <use x=\"95.410156\" xlink:href=\"#DejaVuSans-52\"/>\n      </g>\n     </g>\n    </g>\n    <g id=\"ytick_4\">\n     <g id=\"line2d_10\">\n      <g>\n       <use style=\"stroke:#000000;stroke-width:0.8;\" x=\"43.78125\" xlink:href=\"#mbc12dd5ebf\" y=\"111.270852\"/>\n      </g>\n     </g>\n     <g id=\"text_11\">\n      <!-- 0.6 -->\n      <g transform=\"translate(20.878125 115.070071)scale(0.1 -0.1)\">\n       <use xlink:href=\"#DejaVuSans-48\"/>\n       <use x=\"63.623047\" xlink:href=\"#DejaVuSans-46\"/>\n       <use x=\"95.410156\" xlink:href=\"#DejaVuSans-54\"/>\n      </g>\n     </g>\n    </g>\n    <g id=\"ytick_5\">\n     <g id=\"line2d_11\">\n      <g>\n       <use style=\"stroke:#000000;stroke-width:0.8;\" x=\"43.78125\" xlink:href=\"#mbc12dd5ebf\" y=\"71.736307\"/>\n      </g>\n     </g>\n     <g id=\"text_12\">\n      <!-- 0.8 -->\n      <g transform=\"translate(20.878125 75.535526)scale(0.1 -0.1)\">\n       <use xlink:href=\"#DejaVuSans-48\"/>\n       <use x=\"63.623047\" xlink:href=\"#DejaVuSans-46\"/>\n       <use x=\"95.410156\" xlink:href=\"#DejaVuSans-56\"/>\n      </g>\n     </g>\n    </g>\n    <g id=\"ytick_6\">\n     <g id=\"line2d_12\">\n      <g>\n       <use style=\"stroke:#000000;stroke-width:0.8;\" x=\"43.78125\" xlink:href=\"#mbc12dd5ebf\" y=\"32.201761\"/>\n      </g>\n     </g>\n     <g id=\"text_13\">\n      <!-- 1.0 -->\n      <g transform=\"translate(20.878125 36.00098)scale(0.1 -0.1)\">\n       <use xlink:href=\"#DejaVuSans-49\"/>\n       <use x=\"63.623047\" xlink:href=\"#DejaVuSans-46\"/>\n       <use x=\"95.410156\" xlink:href=\"#DejaVuSans-48\"/>\n      </g>\n     </g>\n    </g>\n    <g id=\"text_14\">\n     <!-- True Positive Rate -->\n     <g transform=\"translate(14.798438 175.567812)rotate(-90)scale(0.1 -0.1)\">\n      <defs>\n       <path d=\"M -0.296875 72.90625 \nL 61.375 72.90625 \nL 61.375 64.59375 \nL 35.5 64.59375 \nL 35.5 0 \nL 25.59375 0 \nL 25.59375 64.59375 \nL -0.296875 64.59375 \nz\n\" id=\"DejaVuSans-84\"/>\n       <path d=\"M 41.109375 46.296875 \nQ 39.59375 47.171875 37.8125 47.578125 \nQ 36.03125 48 33.890625 48 \nQ 26.265625 48 22.1875 43.046875 \nQ 18.109375 38.09375 18.109375 28.8125 \nL 18.109375 0 \nL 9.078125 0 \nL 9.078125 54.6875 \nL 18.109375 54.6875 \nL 18.109375 46.1875 \nQ 20.953125 51.171875 25.484375 53.578125 \nQ 30.03125 56 36.53125 56 \nQ 37.453125 56 38.578125 55.875 \nQ 39.703125 55.765625 41.0625 55.515625 \nz\n\" id=\"DejaVuSans-114\"/>\n       <path d=\"M 8.5 21.578125 \nL 8.5 54.6875 \nL 17.484375 54.6875 \nL 17.484375 21.921875 \nQ 17.484375 14.15625 20.5 10.265625 \nQ 23.53125 6.390625 29.59375 6.390625 \nQ 36.859375 6.390625 41.078125 11.03125 \nQ 45.3125 15.671875 45.3125 23.6875 \nL 45.3125 54.6875 \nL 54.296875 54.6875 \nL 54.296875 0 \nL 45.3125 0 \nL 45.3125 8.40625 \nQ 42.046875 3.421875 37.71875 1 \nQ 33.40625 -1.421875 27.6875 -1.421875 \nQ 18.265625 -1.421875 13.375 4.4375 \nQ 8.5 10.296875 8.5 21.578125 \nz\nM 31.109375 56 \nz\n\" id=\"DejaVuSans-117\"/>\n      </defs>\n      <use xlink:href=\"#DejaVuSans-84\"/>\n      <use x=\"46.333984\" xlink:href=\"#DejaVuSans-114\"/>\n      <use x=\"87.447266\" xlink:href=\"#DejaVuSans-117\"/>\n      <use x=\"150.826172\" xlink:href=\"#DejaVuSans-101\"/>\n      <use x=\"212.349609\" xlink:href=\"#DejaVuSans-32\"/>\n      <use x=\"244.136719\" xlink:href=\"#DejaVuSans-80\"/>\n      <use x=\"300.814453\" xlink:href=\"#DejaVuSans-111\"/>\n      <use x=\"361.996094\" xlink:href=\"#DejaVuSans-115\"/>\n      <use x=\"414.095703\" xlink:href=\"#DejaVuSans-105\"/>\n      <use x=\"441.878906\" xlink:href=\"#DejaVuSans-116\"/>\n      <use x=\"481.087891\" xlink:href=\"#DejaVuSans-105\"/>\n      <use x=\"508.871094\" xlink:href=\"#DejaVuSans-118\"/>\n      <use x=\"568.050781\" xlink:href=\"#DejaVuSans-101\"/>\n      <use x=\"629.574219\" xlink:href=\"#DejaVuSans-32\"/>\n      <use x=\"661.361328\" xlink:href=\"#DejaVuSans-82\"/>\n      <use x=\"728.59375\" xlink:href=\"#DejaVuSans-97\"/>\n      <use x=\"789.873047\" xlink:href=\"#DejaVuSans-116\"/>\n      <use x=\"829.082031\" xlink:href=\"#DejaVuSans-101\"/>\n     </g>\n    </g>\n   </g>\n   <g id=\"line2d_13\">\n    <path clip-path=\"url(#p929a696b12)\" d=\"M 58.999432 229.874489 \nL 59.082072 229.874489 \nL 59.164712 228.802511 \nL 59.247352 228.802511 \nL 59.247352 228.37372 \nL 59.329992 228.37372 \nL 59.743193 227.301742 \nL 59.825833 224.085808 \nL 60.321674 224.085808 \nL 60.321674 223.657017 \nL 60.569594 222.370643 \nL 60.652235 221.08427 \nL 60.734875 221.08427 \nL 61.065435 220.655479 \nL 61.065435 220.012292 \nL 61.313356 220.012292 \nL 61.974477 218.297127 \nL 62.139757 218.297127 \nL 62.387678 216.796358 \nL 62.470318 216.796358 \nL 62.470318 216.581963 \nL 62.635598 216.581963 \nL 62.635598 216.367567 \nL 62.966159 216.367567 \nL 62.966159 216.153171 \nL 63.379359 214.438007 \nL 65.362723 204.57581 \nL 67.098166 197.715151 \nL 67.263446 197.715151 \nL 67.263446 197.28636 \nL 67.346086 197.28636 \nL 67.594006 196.214382 \nL 68.089847 196.214382 \nL 68.089847 195.571195 \nL 68.172487 195.571195 \nL 68.337768 195.571195 \nL 68.337768 195.3568 \nL 68.585688 195.3568 \nL 68.585688 195.142404 \nL 68.668328 195.142404 \nL 69.164169 195.142404 \nL 69.164169 194.928009 \nL 69.412089 194.070426 \nL 69.82529 194.070426 \nL 70.403771 193.641635 \nL 70.899612 193.641635 \nL 73.130896 189.353724 \nL 73.544096 189.139328 \nL 73.544096 188.924932 \nL 74.618418 186.13779 \nL 75.031619 185.923394 \nL 75.031619 185.494603 \nL 75.279539 185.494603 \nL 75.44482 185.065812 \nL 75.940661 184.422625 \nL 76.353861 184.422625 \nL 84.122034 173.274055 \nL 84.122034 172.845264 \nL 85.113716 169.200539 \nL 85.940118 169.200539 \nL 85.940118 168.771748 \nL 86.188038 168.771748 \nL 86.353318 168.557352 \nL 94.286772 161.696693 \nL 94.534692 160.839111 \nL 119.326734 142.615486 \nL 119.492014 142.615486 \nL 119.657295 142.186695 \nL 121.558018 140.042739 \nL 121.723298 140.042739 \nL 122.219139 139.828344 \nL 125.524745 134.897245 \nL 127.094907 133.182081 \nL 127.177547 132.538894 \nL 127.425468 132.538894 \nL 127.756028 132.110103 \nL 129.822032 129.537356 \nL 129.822032 129.108565 \nL 129.987312 129.108565 \nL 130.978994 125.035049 \nL 132.962357 123.748675 \nL 132.962357 123.319884 \nL 133.044997 123.319884 \nL 134.61516 122.462302 \nL 135.193641 122.462302 \nL 135.689482 122.247906 \nL 135.689482 122.033511 \nL 136.515883 121.175928 \nL 137.177004 120.747137 \nL 137.590205 120.318346 \nL 137.672845 119.889555 \nL 138.086046 119.889555 \nL 138.086046 119.675159 \nL 138.499247 118.603181 \nL 138.995088 118.17439 \nL 138.995088 117.959994 \nL 139.573569 117.959994 \nL 139.573569 117.745599 \nL 139.656209 117.745599 \nL 139.821489 117.745599 \nL 139.821489 117.531203 \nL 141.061091 116.888017 \nL 141.309011 116.888017 \nL 141.309011 116.673621 \nL 141.391652 116.673621 \nL 146.845901 110.670545 \nL 147.093821 110.670545 \nL 147.093821 110.456149 \nL 147.259102 110.456149 \nL 147.259102 110.241753 \nL 147.837583 110.241753 \nL 151.639029 108.95538 \nL 151.639029 108.740984 \nL 152.13487 108.740984 \nL 152.21751 108.526589 \nL 152.795991 108.526589 \nL 153.622392 108.097798 \nL 153.870313 107.883402 \nL 154.118233 107.883402 \nL 155.523116 107.454611 \nL 155.523116 107.240215 \nL 155.688396 107.240215 \nL 158.828721 105.525051 \nL 159.159282 105.525051 \nL 160.316244 104.881864 \nL 160.316244 104.667468 \nL 160.481524 104.238677 \nL 166.844815 101.451535 \nL 169.489299 97.80681 \nL 170.480981 96.520436 \nL 170.563621 95.662854 \nL 174.860908 92.661316 \nL 178.249154 90.51736 \nL 178.249154 90.302964 \nL 180.315158 89.230986 \nL 180.563078 89.230986 \nL 182.381161 88.373404 \nL 216.511539 79.154394 \nL 228.081159 77.224834 \nL 228.163799 77.010438 \nL 228.82492 76.581647 \nL 229.320761 76.367251 \nL 231.882605 74.223296 \nL 239.072297 70.792966 \nL 239.154937 70.578571 \nL 239.816059 70.578571 \nL 239.981339 70.14978 \nL 246.179349 65.433077 \nL 248.162713 65.218681 \nL 248.162713 65.004286 \nL 248.493273 64.78989 \nL 248.823834 64.78989 \nL 259.071211 59.858792 \nL 269.401229 59.001209 \nL 270.31027 58.572418 \nL 272.128353 57.071649 \nL 272.954755 56.857253 \nL 273.367956 56.857253 \nL 276.508281 55.57088 \nL 277.499963 55.57088 \nL 285.598696 52.569342 \nL 292.788388 50.854177 \nL 328.075728 36.704069 \nL 328.323649 36.489673 \nL 329.31533 36.489673 \nL 336.257102 35.417695 \nL 336.918223 34.774508 \nL 337.661985 34.774508 \nL 363.363068 32.201761 \nL 363.363068 32.201761 \n\" style=\"fill:none;stroke:#ffa500;stroke-linecap:square;stroke-width:1.5;\"/>\n   </g>\n   <g id=\"line2d_14\">\n    <path clip-path=\"url(#p929a696b12)\" d=\"M 58.999432 229.874489 \nL 363.363068 32.201761 \n\" style=\"fill:none;stroke:#00008b;stroke-dasharray:5.55,2.4;stroke-dashoffset:0;stroke-width:1.5;\"/>\n   </g>\n   <g id=\"patch_3\">\n    <path d=\"M 43.78125 239.758125 \nL 43.78125 22.318125 \n\" style=\"fill:none;stroke:#000000;stroke-linecap:square;stroke-linejoin:miter;stroke-width:0.8;\"/>\n   </g>\n   <g id=\"patch_4\">\n    <path d=\"M 378.58125 239.758125 \nL 378.58125 22.318125 \n\" style=\"fill:none;stroke:#000000;stroke-linecap:square;stroke-linejoin:miter;stroke-width:0.8;\"/>\n   </g>\n   <g id=\"patch_5\">\n    <path d=\"M 43.78125 239.758125 \nL 378.58125 239.758125 \n\" style=\"fill:none;stroke:#000000;stroke-linecap:square;stroke-linejoin:miter;stroke-width:0.8;\"/>\n   </g>\n   <g id=\"patch_6\">\n    <path d=\"M 43.78125 22.318125 \nL 378.58125 22.318125 \n\" style=\"fill:none;stroke:#000000;stroke-linecap:square;stroke-linejoin:miter;stroke-width:0.8;\"/>\n   </g>\n   <g id=\"text_15\">\n    <!-- Receiver Operating Characteristic (ROC) Curve -->\n    <g transform=\"translate(70.39875 16.318125)scale(0.12 -0.12)\">\n     <defs>\n      <path d=\"M 48.78125 52.59375 \nL 48.78125 44.1875 \nQ 44.96875 46.296875 41.140625 47.34375 \nQ 37.3125 48.390625 33.40625 48.390625 \nQ 24.65625 48.390625 19.8125 42.84375 \nQ 14.984375 37.3125 14.984375 27.296875 \nQ 14.984375 17.28125 19.8125 11.734375 \nQ 24.65625 6.203125 33.40625 6.203125 \nQ 37.3125 6.203125 41.140625 7.25 \nQ 44.96875 8.296875 48.78125 10.40625 \nL 48.78125 2.09375 \nQ 45.015625 0.34375 40.984375 -0.53125 \nQ 36.96875 -1.421875 32.421875 -1.421875 \nQ 20.0625 -1.421875 12.78125 6.34375 \nQ 5.515625 14.109375 5.515625 27.296875 \nQ 5.515625 40.671875 12.859375 48.328125 \nQ 20.21875 56 33.015625 56 \nQ 37.15625 56 41.109375 55.140625 \nQ 45.0625 54.296875 48.78125 52.59375 \nz\n\" id=\"DejaVuSans-99\"/>\n      <path d=\"M 39.40625 66.21875 \nQ 28.65625 66.21875 22.328125 58.203125 \nQ 16.015625 50.203125 16.015625 36.375 \nQ 16.015625 22.609375 22.328125 14.59375 \nQ 28.65625 6.59375 39.40625 6.59375 \nQ 50.140625 6.59375 56.421875 14.59375 \nQ 62.703125 22.609375 62.703125 36.375 \nQ 62.703125 50.203125 56.421875 58.203125 \nQ 50.140625 66.21875 39.40625 66.21875 \nz\nM 39.40625 74.21875 \nQ 54.734375 74.21875 63.90625 63.9375 \nQ 73.09375 53.65625 73.09375 36.375 \nQ 73.09375 19.140625 63.90625 8.859375 \nQ 54.734375 -1.421875 39.40625 -1.421875 \nQ 24.03125 -1.421875 14.8125 8.828125 \nQ 5.609375 19.09375 5.609375 36.375 \nQ 5.609375 53.65625 14.8125 63.9375 \nQ 24.03125 74.21875 39.40625 74.21875 \nz\n\" id=\"DejaVuSans-79\"/>\n      <path d=\"M 18.109375 8.203125 \nL 18.109375 -20.796875 \nL 9.078125 -20.796875 \nL 9.078125 54.6875 \nL 18.109375 54.6875 \nL 18.109375 46.390625 \nQ 20.953125 51.265625 25.265625 53.625 \nQ 29.59375 56 35.59375 56 \nQ 45.5625 56 51.78125 48.09375 \nQ 58.015625 40.1875 58.015625 27.296875 \nQ 58.015625 14.40625 51.78125 6.484375 \nQ 45.5625 -1.421875 35.59375 -1.421875 \nQ 29.59375 -1.421875 25.265625 0.953125 \nQ 20.953125 3.328125 18.109375 8.203125 \nz\nM 48.6875 27.296875 \nQ 48.6875 37.203125 44.609375 42.84375 \nQ 40.53125 48.484375 33.40625 48.484375 \nQ 26.265625 48.484375 22.1875 42.84375 \nQ 18.109375 37.203125 18.109375 27.296875 \nQ 18.109375 17.390625 22.1875 11.75 \nQ 26.265625 6.109375 33.40625 6.109375 \nQ 40.53125 6.109375 44.609375 11.75 \nQ 48.6875 17.390625 48.6875 27.296875 \nz\n\" id=\"DejaVuSans-112\"/>\n      <path d=\"M 54.890625 33.015625 \nL 54.890625 0 \nL 45.90625 0 \nL 45.90625 32.71875 \nQ 45.90625 40.484375 42.875 44.328125 \nQ 39.84375 48.1875 33.796875 48.1875 \nQ 26.515625 48.1875 22.3125 43.546875 \nQ 18.109375 38.921875 18.109375 30.90625 \nL 18.109375 0 \nL 9.078125 0 \nL 9.078125 54.6875 \nL 18.109375 54.6875 \nL 18.109375 46.1875 \nQ 21.34375 51.125 25.703125 53.5625 \nQ 30.078125 56 35.796875 56 \nQ 45.21875 56 50.046875 50.171875 \nQ 54.890625 44.34375 54.890625 33.015625 \nz\n\" id=\"DejaVuSans-110\"/>\n      <path d=\"M 45.40625 27.984375 \nQ 45.40625 37.75 41.375 43.109375 \nQ 37.359375 48.484375 30.078125 48.484375 \nQ 22.859375 48.484375 18.828125 43.109375 \nQ 14.796875 37.75 14.796875 27.984375 \nQ 14.796875 18.265625 18.828125 12.890625 \nQ 22.859375 7.515625 30.078125 7.515625 \nQ 37.359375 7.515625 41.375 12.890625 \nQ 45.40625 18.265625 45.40625 27.984375 \nz\nM 54.390625 6.78125 \nQ 54.390625 -7.171875 48.1875 -13.984375 \nQ 42 -20.796875 29.203125 -20.796875 \nQ 24.46875 -20.796875 20.265625 -20.09375 \nQ 16.0625 -19.390625 12.109375 -17.921875 \nL 12.109375 -9.1875 \nQ 16.0625 -11.328125 19.921875 -12.34375 \nQ 23.78125 -13.375 27.78125 -13.375 \nQ 36.625 -13.375 41.015625 -8.765625 \nQ 45.40625 -4.15625 45.40625 5.171875 \nL 45.40625 9.625 \nQ 42.625 4.78125 38.28125 2.390625 \nQ 33.9375 0 27.875 0 \nQ 17.828125 0 11.671875 7.65625 \nQ 5.515625 15.328125 5.515625 27.984375 \nQ 5.515625 40.671875 11.671875 48.328125 \nQ 17.828125 56 27.875 56 \nQ 33.9375 56 38.28125 53.609375 \nQ 42.625 51.21875 45.40625 46.390625 \nL 45.40625 54.6875 \nL 54.390625 54.6875 \nz\n\" id=\"DejaVuSans-103\"/>\n      <path d=\"M 64.40625 67.28125 \nL 64.40625 56.890625 \nQ 59.421875 61.53125 53.78125 63.8125 \nQ 48.140625 66.109375 41.796875 66.109375 \nQ 29.296875 66.109375 22.65625 58.46875 \nQ 16.015625 50.828125 16.015625 36.375 \nQ 16.015625 21.96875 22.65625 14.328125 \nQ 29.296875 6.6875 41.796875 6.6875 \nQ 48.140625 6.6875 53.78125 8.984375 \nQ 59.421875 11.28125 64.40625 15.921875 \nL 64.40625 5.609375 \nQ 59.234375 2.09375 53.4375 0.328125 \nQ 47.65625 -1.421875 41.21875 -1.421875 \nQ 24.65625 -1.421875 15.125 8.703125 \nQ 5.609375 18.84375 5.609375 36.375 \nQ 5.609375 53.953125 15.125 64.078125 \nQ 24.65625 74.21875 41.21875 74.21875 \nQ 47.75 74.21875 53.53125 72.484375 \nQ 59.328125 70.75 64.40625 67.28125 \nz\n\" id=\"DejaVuSans-67\"/>\n      <path d=\"M 54.890625 33.015625 \nL 54.890625 0 \nL 45.90625 0 \nL 45.90625 32.71875 \nQ 45.90625 40.484375 42.875 44.328125 \nQ 39.84375 48.1875 33.796875 48.1875 \nQ 26.515625 48.1875 22.3125 43.546875 \nQ 18.109375 38.921875 18.109375 30.90625 \nL 18.109375 0 \nL 9.078125 0 \nL 9.078125 75.984375 \nL 18.109375 75.984375 \nL 18.109375 46.1875 \nQ 21.34375 51.125 25.703125 53.5625 \nQ 30.078125 56 35.796875 56 \nQ 45.21875 56 50.046875 50.171875 \nQ 54.890625 44.34375 54.890625 33.015625 \nz\n\" id=\"DejaVuSans-104\"/>\n      <path d=\"M 31 75.875 \nQ 24.46875 64.65625 21.28125 53.65625 \nQ 18.109375 42.671875 18.109375 31.390625 \nQ 18.109375 20.125 21.3125 9.0625 \nQ 24.515625 -2 31 -13.1875 \nL 23.1875 -13.1875 \nQ 15.875 -1.703125 12.234375 9.375 \nQ 8.59375 20.453125 8.59375 31.390625 \nQ 8.59375 42.28125 12.203125 53.3125 \nQ 15.828125 64.359375 23.1875 75.875 \nz\n\" id=\"DejaVuSans-40\"/>\n      <path d=\"M 8.015625 75.875 \nL 15.828125 75.875 \nQ 23.140625 64.359375 26.78125 53.3125 \nQ 30.421875 42.28125 30.421875 31.390625 \nQ 30.421875 20.453125 26.78125 9.375 \nQ 23.140625 -1.703125 15.828125 -13.1875 \nL 8.015625 -13.1875 \nQ 14.5 -2 17.703125 9.0625 \nQ 20.90625 20.125 20.90625 31.390625 \nQ 20.90625 42.671875 17.703125 53.65625 \nQ 14.5 64.65625 8.015625 75.875 \nz\n\" id=\"DejaVuSans-41\"/>\n     </defs>\n     <use xlink:href=\"#DejaVuSans-82\"/>\n     <use x=\"64.982422\" xlink:href=\"#DejaVuSans-101\"/>\n     <use x=\"126.505859\" xlink:href=\"#DejaVuSans-99\"/>\n     <use x=\"181.486328\" xlink:href=\"#DejaVuSans-101\"/>\n     <use x=\"243.009766\" xlink:href=\"#DejaVuSans-105\"/>\n     <use x=\"270.792969\" xlink:href=\"#DejaVuSans-118\"/>\n     <use x=\"329.972656\" xlink:href=\"#DejaVuSans-101\"/>\n     <use x=\"391.496094\" xlink:href=\"#DejaVuSans-114\"/>\n     <use x=\"432.609375\" xlink:href=\"#DejaVuSans-32\"/>\n     <use x=\"464.396484\" xlink:href=\"#DejaVuSans-79\"/>\n     <use x=\"543.107422\" xlink:href=\"#DejaVuSans-112\"/>\n     <use x=\"606.583984\" xlink:href=\"#DejaVuSans-101\"/>\n     <use x=\"668.107422\" xlink:href=\"#DejaVuSans-114\"/>\n     <use x=\"709.220703\" xlink:href=\"#DejaVuSans-97\"/>\n     <use x=\"770.5\" xlink:href=\"#DejaVuSans-116\"/>\n     <use x=\"809.708984\" xlink:href=\"#DejaVuSans-105\"/>\n     <use x=\"837.492188\" xlink:href=\"#DejaVuSans-110\"/>\n     <use x=\"900.871094\" xlink:href=\"#DejaVuSans-103\"/>\n     <use x=\"964.347656\" xlink:href=\"#DejaVuSans-32\"/>\n     <use x=\"996.134766\" xlink:href=\"#DejaVuSans-67\"/>\n     <use x=\"1065.958984\" xlink:href=\"#DejaVuSans-104\"/>\n     <use x=\"1129.337891\" xlink:href=\"#DejaVuSans-97\"/>\n     <use x=\"1190.617188\" xlink:href=\"#DejaVuSans-114\"/>\n     <use x=\"1231.730469\" xlink:href=\"#DejaVuSans-97\"/>\n     <use x=\"1293.009766\" xlink:href=\"#DejaVuSans-99\"/>\n     <use x=\"1347.990234\" xlink:href=\"#DejaVuSans-116\"/>\n     <use x=\"1387.199219\" xlink:href=\"#DejaVuSans-101\"/>\n     <use x=\"1448.722656\" xlink:href=\"#DejaVuSans-114\"/>\n     <use x=\"1489.835938\" xlink:href=\"#DejaVuSans-105\"/>\n     <use x=\"1517.619141\" xlink:href=\"#DejaVuSans-115\"/>\n     <use x=\"1569.71875\" xlink:href=\"#DejaVuSans-116\"/>\n     <use x=\"1608.927734\" xlink:href=\"#DejaVuSans-105\"/>\n     <use x=\"1636.710938\" xlink:href=\"#DejaVuSans-99\"/>\n     <use x=\"1691.691406\" xlink:href=\"#DejaVuSans-32\"/>\n     <use x=\"1723.478516\" xlink:href=\"#DejaVuSans-40\"/>\n     <use x=\"1762.492188\" xlink:href=\"#DejaVuSans-82\"/>\n     <use x=\"1831.974609\" xlink:href=\"#DejaVuSans-79\"/>\n     <use x=\"1910.685547\" xlink:href=\"#DejaVuSans-67\"/>\n     <use x=\"1980.509766\" xlink:href=\"#DejaVuSans-41\"/>\n     <use x=\"2019.523438\" xlink:href=\"#DejaVuSans-32\"/>\n     <use x=\"2051.310547\" xlink:href=\"#DejaVuSans-67\"/>\n     <use x=\"2121.134766\" xlink:href=\"#DejaVuSans-117\"/>\n     <use x=\"2184.513672\" xlink:href=\"#DejaVuSans-114\"/>\n     <use x=\"2225.626953\" xlink:href=\"#DejaVuSans-118\"/>\n     <use x=\"2284.806641\" xlink:href=\"#DejaVuSans-101\"/>\n    </g>\n   </g>\n   <g id=\"legend_1\">\n    <g id=\"patch_7\">\n     <path d=\"M 50.78125 44.99625 \nL 104.584375 44.99625 \nQ 106.584375 44.99625 106.584375 42.99625 \nL 106.584375 29.318125 \nQ 106.584375 27.318125 104.584375 27.318125 \nL 50.78125 27.318125 \nQ 48.78125 27.318125 48.78125 29.318125 \nL 48.78125 42.99625 \nQ 48.78125 44.99625 50.78125 44.99625 \nz\n\" style=\"fill:#ffffff;opacity:0.8;stroke:#cccccc;stroke-linejoin:miter;\"/>\n    </g>\n    <g id=\"line2d_15\">\n     <path d=\"M 52.78125 35.416562 \nL 72.78125 35.416562 \n\" style=\"fill:none;stroke:#ffa500;stroke-linecap:square;stroke-width:1.5;\"/>\n    </g>\n    <g id=\"line2d_16\"/>\n    <g id=\"text_16\">\n     <!-- ROC -->\n     <g transform=\"translate(80.78125 38.916562)scale(0.1 -0.1)\">\n      <use xlink:href=\"#DejaVuSans-82\"/>\n      <use x=\"69.482422\" xlink:href=\"#DejaVuSans-79\"/>\n      <use x=\"148.193359\" xlink:href=\"#DejaVuSans-67\"/>\n     </g>\n    </g>\n   </g>\n  </g>\n </g>\n <defs>\n  <clipPath id=\"p929a696b12\">\n   <rect height=\"217.44\" width=\"334.8\" x=\"43.78125\" y=\"22.318125\"/>\n  </clipPath>\n </defs>\n</svg>\n",
      "image/png": "[encoded data removed]"
     },
     "metadata": {
      "needs_background": "light"
     }
    }
   ],
   "source": [
    "plot_roc_curve(fpr,tpr)"
   ]
  },
  {
   "cell_type": "code",
   "execution_count": 37,
   "metadata": {},
   "outputs": [],
   "source": [
    "from sklearn.metrics import precision_recall_fscore_support as score"
   ]
  },
  {
   "cell_type": "code",
   "execution_count": 38,
   "metadata": {},
   "outputs": [
    {
     "output_type": "stream",
     "name": "stdout",
     "text": [
      "Precision : 0.404 / Recall : 0.462  / F1 Score : 0.431\n"
     ]
    }
   ],
   "source": [
    "y_pred = rf_model.predict(X_test)\n",
    "\n",
    "# print the first predicted probabilities of class membership\n",
    "y_pred_class =(rf_model.predict_proba(X_test)[:,1] >=0.3).astype(bool)\n",
    "\n",
    "\n",
    "precision, recall,fscore,support = score(y_test,y_pred_class,pos_label=1,average='binary')\n",
    "\n",
    "print('Precision : {} / Recall : {}  / F1 Score : {}'.format(round(precision,3),round(recall,3),round(fscore,3)))"
   ]
  },
  {
   "cell_type": "code",
   "execution_count": 39,
   "metadata": {},
   "outputs": [
    {
     "output_type": "execute_result",
     "data": {
      "text/plain": [
       "['final_sentence_lex_train.pkl']"
      ]
     },
     "metadata": {},
     "execution_count": 39
    }
   ],
   "source": [
    "model_Name = 'final_sentence_lex_train.pkl'\n",
    "joblib.dump(model,model_Name)"
   ]
  },
  {
   "cell_type": "code",
   "execution_count": 40,
   "metadata": {},
   "outputs": [
    {
     "output_type": "stream",
     "name": "stdout",
     "text": [
      "0.7350705754614549\n"
     ]
    }
   ],
   "source": [
    "# load the model from disk\n",
    "\n",
    "loaded_model = joblib.load(model_Name)\n",
    "result = loaded_model.score(X_test,y_test)\n",
    "print(result)"
   ]
  },
  {
   "source": [
    "## Prediction Pipeline"
   ],
   "cell_type": "markdown",
   "metadata": {}
  },
  {
   "cell_type": "code",
   "execution_count": 41,
   "metadata": {},
   "outputs": [],
   "source": [
    "import sentence_weight_func as weight \n",
    "import pandas as pd \n",
    "from importlib import reload\n",
    "from tqdm import tqdm\n",
    "\n",
    "reload(weight);"
   ]
  },
  {
   "cell_type": "code",
   "execution_count": 42,
   "metadata": {},
   "outputs": [],
   "source": [
    "weight_value = pd.read_csv('example.csv')"
   ]
  },
  {
   "cell_type": "code",
   "execution_count": 43,
   "metadata": {},
   "outputs": [],
   "source": [
    "lexicon_weight = weight.weight_calculation_sentence(weight_value)"
   ]
  },
  {
   "cell_type": "code",
   "execution_count": 44,
   "metadata": {},
   "outputs": [
    {
     "output_type": "execute_result",
     "data": {
      "text/plain": [
       "[['ကုလားတွေ',\n",
       "  'ဗမာတွေ ကို ပဲ အပြစ်ပြော ရဲ ကျ တယ် ဟို ရင် တစ် ချိန် က ဘူး သီး တောင် မောင် တော မှာ ကု လ ားတွေ ဖင် ဝိုင်း လိုး တော့ ကု လ ား တွေ ကို မ ပြော ရဲ ကျ ဘူး ဖင် ချ မှာ ကြောက် လို့ လား',\n",
       "  nan,\n",
       "  0],\n",
       " ['ကုလားတွေ',\n",
       "  'ပြည် သူ တွေ အကာ ကွယ် လုပ် ချင် လုပ် မ လုပ် ချင် နေကာ ကွယ် နေ တဲ့ သူ တွေ လည်း အသေ ပဲး သေ ရဲ ရင်ကာ ကွယ် ဘယ်သူ မ လွတ် တော့ ဘူး ပြည် သူ ကို ချစ် ရင် ပြည် သူ တွေ ဒုက္ခ မ ရောက် အောင် လုပ် လား ထွန်း မြတ် နိူင် ခိုင် သုခ ပြေား လိုက် ရင် ပြည် သူ ချစ် တော် ကြီး ဘာ တွေ ကာကွယ် ဖူး ပီ လည်း ပြည် သူ တွေ ကို မူ စ လင် ကုလားတွေ ဖင် လုပ် ပီး သက် ပြစ် တာ တောင် ဘာ မ လုပ် ပေး တဲ့ AA သူပုန် မူ စ လင် ကုလား အဖေ ခေါ် တဲ့ ထွန် မြတ် နိူင် ခိုင် သုခ',\n",
       "  'AA သူပုန်,  မူ စ လင် ကုလား',\n",
       "  0.6492536999999999],\n",
       " ['ကြံ့ဖွတ်',\n",
       "  'ဒီလို ပဲ မ ထူး ဇာတ်ခင်း ပြီး မိုက်တွင်းနက် နေ မယ် ဆို ရင် တိုင်းပြည် လည်း ဆင်းရဲ တွင်း က ထွက် နိုင် မှာ မဟုတ် ဘူး ။ ကြံ့ဖွတ် လည်း န လန် ထူ နိုင် စရာ အကြောင်း မ မြင် ၊ နစ် ပြီး ရင်း နစ် မယ့် လူ တွေ တိုင်း ပြ ည ကို ပါ ဆွဲချ ချင် နေ တာ',\n",
       "  nan,\n",
       "  0.3242259],\n",
       " ['စစ်ခွေး',\n",
       "  'ဒေ အစိုးရ လည်း အမှတ်မရှိ အရင် တုံး က လည်း တစ်ခါ aa ကို တရားစွဲ ဟာသ ခု လည်း တစ်ခါ သောင်း ကြမ်း သူ သတ်မှတ် ဟာသ ငါ လေ ဒီ သတင်း နားထောင် ရင် စိတ် ထဲ မှာ ကလိ ကလိ နှင့် ရီ နေ တာ မ ဖြစ် နိုင် တာကို ပါးစပ် အရသာ ခံ ပြီး အနိုင် လိုချင် တယ် လူ ချင်း စစ်တိုက် တော့ စစ်ခွေး တွေ က ခွေ လို ဝက် လို သေ ဟာသ တွေ သိပ် မ ပြော နှင့် ရီ ချင် လို့',\n",
       "  nan,\n",
       "  0.3583441]]"
      ]
     },
     "metadata": {},
     "execution_count": 44
    }
   ],
   "source": [
    "lexicon_weight"
   ]
  },
  {
   "cell_type": "code",
   "execution_count": 45,
   "metadata": {},
   "outputs": [],
   "source": [
    "def Extract(lexicon_weight): \n",
    "    return [[item[-1]] for item in lexicon_weight] "
   ]
  },
  {
   "cell_type": "code",
   "execution_count": 46,
   "metadata": {},
   "outputs": [],
   "source": [
    "X_test_input = Extract(lexicon_weight)"
   ]
  },
  {
   "cell_type": "code",
   "execution_count": 47,
   "metadata": {},
   "outputs": [
    {
     "output_type": "execute_result",
     "data": {
      "text/plain": [
       "[[0], [0.6492536999999999], [0.3242259], [0.3583441]]"
      ]
     },
     "metadata": {},
     "execution_count": 47
    }
   ],
   "source": [
    "X_test_input"
   ]
  },
  {
   "cell_type": "code",
   "execution_count": 48,
   "metadata": {},
   "outputs": [
    {
     "output_type": "execute_result",
     "data": {
      "text/plain": [
       "0    0\n",
       "1    1\n",
       "2    0\n",
       "3    0\n",
       "Name: IsHS, dtype: int64"
      ]
     },
     "metadata": {},
     "execution_count": 48
    }
   ],
   "source": [
    "#make a prediction\n",
    "ynew =rf_model.predict(X_test_input)\n",
    "\n",
    "ynew_pd = pd.Series(ynew, name='IsHS')\n",
    "ynew_pd"
   ]
  },
  {
   "cell_type": "code",
   "execution_count": 49,
   "metadata": {},
   "outputs": [],
   "source": [
    "# Show a result pandas dataframe\n",
    "weight_prediction_result = pd.concat([weight_value, ynew_pd], axis=1)"
   ]
  },
  {
   "cell_type": "code",
   "execution_count": 50,
   "metadata": {},
   "outputs": [
    {
     "output_type": "execute_result",
     "data": {
      "text/plain": [
       "   LexFound                                          MsgUniSeg  \\\n",
       "0  ကုလားတွေ  ဗမာတွေ ကို ပဲ အပြစ်ပြော ရဲ ကျ တယ် ဟို ရင် တစ် ...   \n",
       "1  ကုလားတွေ  ပြည် သူ တွေ အကာ ကွယ် လုပ် ချင် လုပ် မ လုပ် ချင...   \n",
       "2  ကြံ့ဖွတ်  ဒီလို ပဲ မ ထူး ဇာတ်ခင်း ပြီး မိုက်တွင်းနက် နေ ...   \n",
       "3   စစ်ခွေး  ဒေ အစိုးရ လည်း အမှတ်မရှိ အရင် တုံး က လည်း တစ်ခ...   \n",
       "\n",
       "          NewHSWordInSentence  IsHS  \n",
       "0                         NaN     0  \n",
       "1  AA သူပုန်,  မူ စ လင် ကုလား     1  \n",
       "2                         NaN     0  \n",
       "3                         NaN     0  "
      ],
      "text/html": "<div>\n<style scoped>\n    .dataframe tbody tr th:only-of-type {\n        vertical-align: middle;\n    }\n\n    .dataframe tbody tr th {\n        vertical-align: top;\n    }\n\n    .dataframe thead th {\n        text-align: right;\n    }\n</style>\n<table border=\"1\" class=\"dataframe\">\n  <thead>\n    <tr style=\"text-align: right;\">\n      <th></th>\n      <th>LexFound</th>\n      <th>MsgUniSeg</th>\n      <th>NewHSWordInSentence</th>\n      <th>IsHS</th>\n    </tr>\n  </thead>\n  <tbody>\n    <tr>\n      <th>0</th>\n      <td>ကုလားတွေ</td>\n      <td>ဗမာတွေ ကို ပဲ အပြစ်ပြော ရဲ ကျ တယ် ဟို ရင် တစ် ...</td>\n      <td>NaN</td>\n      <td>0</td>\n    </tr>\n    <tr>\n      <th>1</th>\n      <td>ကုလားတွေ</td>\n      <td>ပြည် သူ တွေ အကာ ကွယ် လုပ် ချင် လုပ် မ လုပ် ချင...</td>\n      <td>AA သူပုန်,  မူ စ လင် ကုလား</td>\n      <td>1</td>\n    </tr>\n    <tr>\n      <th>2</th>\n      <td>ကြံ့ဖွတ်</td>\n      <td>ဒီလို ပဲ မ ထူး ဇာတ်ခင်း ပြီး မိုက်တွင်းနက် နေ ...</td>\n      <td>NaN</td>\n      <td>0</td>\n    </tr>\n    <tr>\n      <th>3</th>\n      <td>စစ်ခွေး</td>\n      <td>ဒေ အစိုးရ လည်း အမှတ်မရှိ အရင် တုံး က လည်း တစ်ခ...</td>\n      <td>NaN</td>\n      <td>0</td>\n    </tr>\n  </tbody>\n</table>\n</div>"
     },
     "metadata": {},
     "execution_count": 50
    }
   ],
   "source": [
    "weight_prediction_result"
   ]
  }
 ]
}