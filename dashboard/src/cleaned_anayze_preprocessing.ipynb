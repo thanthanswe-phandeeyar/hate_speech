{
 "cells": [
  {
   "cell_type": "markdown",
   "metadata": {},
   "source": [
    "# Cleaned aggregated data \n",
    "- data which is getting from STAGE1_hsaggregate file that will get 5 csv files.\n",
    "- check and remove (missing or null)values, invalid values \n",
    "- create a new (cleaned-aggregated) folder ,then save all clean data into it."
   ]
  },
  {
   "cell_type": "code",
   "execution_count": 1,
   "metadata": {},
   "outputs": [],
   "source": [
    "import os\n",
    "import pandas as pd \n",
    "import numpy as np \n",
    "from glob import glob\n",
    "from tqdm import tqdm\n",
    "import csv\n",
    "from pathlib import Path"
   ]
  },
  {
   "cell_type": "markdown",
   "metadata": {},
   "source": [
    "### Clean aggregated data function is searching for (missing, null or invalid values) by using each row in a given csv file"
   ]
  },
  {
   "cell_type": "code",
   "execution_count": 2,
   "metadata": {},
   "outputs": [],
   "source": [
    "def clean_aggregated_data(split_csv_path,split_file_name):\n",
    "    cleaned_aggregated =final_aggregated_folder+'/cleaned-aggregated/'\n",
    "    if not os.path.exists(cleaned_aggregated): \n",
    "        cleaned_path =os.makedirs(cleaned_aggregated)\n",
    "        csv_file=Path(str(cleaned_path)+split_file_name)\n",
    "    csv_file=Path(cleaned_aggregated+split_file_name)\n",
    "    data_store =[]\n",
    "    with open(split_csv_path, \"r\") as f:\n",
    "        reader = csv.reader(f, delimiter=\"~\")\n",
    "        for i, line in enumerate(reader):\n",
    "            str_line=line[0]\n",
    "            if not \"Offical Close Group\" in str_line:\n",
    "                data_store.append(line)\n",
    "                df = pd.DataFrame(data_store)\n",
    "                # Saved updated file instead of old file in the same directory\n",
    "                df.to_csv(csv_file,index=False, header=False,sep='~')\n",
    "\n",
    "    return df"
   ]
  },
  {
   "cell_type": "markdown",
   "metadata": {},
   "source": [
    "### Get all five csv files from aggregated folder"
   ]
  },
  {
   "cell_type": "code",
   "execution_count": 3,
   "metadata": {},
   "outputs": [],
   "source": [
    "aggregated_folder =sorted(glob('../../dashboard/clean-data/aggregated/*'))\n",
    "final_aggregated_folder = max(aggregated_folder, key=os.path.getmtime)\n",
    "files = glob(final_aggregated_folder+'/*.csv')\n",
    "cleaned_path =os.makedirs(final_aggregated_folder+'/cleaned-aggregated/')"
   ]
  },
  {
   "cell_type": "code",
   "execution_count": 4,
   "metadata": {},
   "outputs": [
    {
     "name": "stderr",
     "output_type": "stream",
     "text": [
      "100%|██████████| 5/5 [00:19<00:00,  4.00s/it]\n"
     ]
    }
   ],
   "source": [
    "for f in tqdm(files):\n",
    "    split_csv_file = str(f).split('/')[6]\n",
    "    if split_csv_file=='page-hs-ratio.csv': \n",
    "        clean_aggregated_data(f,split_csv_file)\n",
    "    elif split_csv_file=='hsfirst-comment-effect.csv':\n",
    "        clean_aggregated_data(f,split_csv_file)\n",
    "    elif split_csv_file=='hspost-effect.csv':\n",
    "        clean_aggregated_data(f,split_csv_file)\n",
    "    elif split_csv_file=='lex-topic-page-time.csv':\n",
    "        clean_aggregated_data(f,split_csv_file)\n",
    "    else:\n",
    "        clean_aggregated_data(f,split_csv_file)"
   ]
  },
  {
   "cell_type": "code",
   "execution_count": null,
   "metadata": {},
   "outputs": [],
   "source": []
  }
 ],
 "metadata": {
  "kernelspec": {
   "display_name": "Python 3",
   "language": "python",
   "name": "python3"
  },
  "language_info": {
   "codemirror_mode": {
    "name": "ipython",
    "version": 3
   },
   "file_extension": ".py",
   "mimetype": "text/x-python",
   "name": "python",
   "nbconvert_exporter": "python",
   "pygments_lexer": "ipython3",
   "version": "3.7.7"
  }
 },
 "nbformat": 4,
 "nbformat_minor": 4
}
