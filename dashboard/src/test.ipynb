{
 "cells": [
  {
   "cell_type": "code",
   "execution_count": 18,
   "metadata": {},
   "outputs": [],
   "source": [
    "from google_auth_oauthlib.flow import InstalledAppFlow\n",
    "import pickle\n",
    "\n",
    "from googleapiclient import discovery\n",
    "from oauth2client import client\n",
    "\n",
    "def get_credentials(SCOPES, outfile):\n",
    "    creds = None\n",
    "    if os.path.exists(outfile):\n",
    "        with open(outfile, 'rb') as token:\n",
    "            creds = pickle.load(token)\n",
    "    # If there are no (valid) credentials available, let the user log in.\n",
    "    if not creds or not creds.valid:\n",
    "        if creds and creds.expired and creds.refresh_token:\n",
    "            creds.refresh(Request())\n",
    "        else:\n",
    "            flow = InstalledAppFlow.from_client_secrets_file(\n",
    "                'credentials.json', SCOPES)\n",
    "            creds = flow.run_local_server(port=0)\n",
    "        # Save the credentials for the next run\n",
    "        with open(outfile, 'wb') as token:\n",
    "            pickle.dump(creds, token)\n",
    "    return creds\n",
    "\n",
    "\n",
    "def get_service(SCOPES, token_file):\n",
    "    SCOPES = ['https://www.googleapis.com/auth/spreadsheets']\n",
    "    credentials = get_credentials(SCOPES, token_file)\n",
    "    service = discovery.build('sheets', 'v4', credentials=credentials)\n",
    "    return service\n"
   ]
  },
  {
   "cell_type": "code",
   "execution_count": 20,
   "metadata": {},
   "outputs": [],
   "source": [
    "service = get_service(SCOPES, 'write-token.pkl')\n",
    "\n",
    "spreadsheet_id = '127lZRzN8YhJrJctA9spiyMxyv9b99bZ9arQtEcxVDVo' # clear-test  # TODO: Update placeholder value.\n",
    "range_ = 'test!A1:G'  # TODO: Update placeholder value.\n",
    "clear_values_request_body = {\n",
    "    # TODO: Add desired entries to the request body.\n",
    "}\n",
    "\n",
    "request = service.spreadsheets().values().clear(spreadsheetId=spreadsheet_id, range=range_, body=clear_values_request_body)\n",
    "try:\n",
    "    response = request.execute()\n",
    "except Exception as e:\n",
    "    print(e._get_reason())"
   ]
  },
  {
   "cell_type": "code",
   "execution_count": 15,
   "metadata": {},
   "outputs": [
    {
     "output_type": "stream",
     "name": "stdout",
     "text": "Please visit this URL to authorize this application: https://accounts.google.com/o/oauth2/auth?response_type=code&client_id=34883663439-papj7s3sq46u5tupu4dnj8j1j8lejuo2.apps.googleusercontent.com&redirect_uri=http%3A%2F%2Flocalhost%3A32965%2F&scope=https%3A%2F%2Fwww.googleapis.com%2Fauth%2Fspreadsheets&state=QJgKpF007LqoUZTxJnWEJa4nB2hE8j&access_type=offline\n{'clearedRange': 'test!A1:G1000',\n 'spreadsheetId': '127lZRzN8YhJrJctA9spiyMxyv9b99bZ9arQtEcxVDVo'}\n"
    }
   ],
   "source": [
    "\"\"\"\n",
    "BEFORE RUNNING:\n",
    "---------------\n",
    "1. If not already done, enable the Google Sheets API\n",
    "   and check the quota for your project at\n",
    "   https://console.developers.google.com/apis/api/sheets\n",
    "2. Install the Python client library for Google APIs by running\n",
    "   `pip install --upgrade google-api-python-client`\n",
    "\"\"\"\n",
    "from pprint import pprint\n",
    "\n",
    "\n",
    "# TODO: Change placeholder below to generate authentication credentials. See\n",
    "# https://developers.google.com/sheets/quickstart/python#step_3_set_up_the_sample\n",
    "#\n",
    "# Authorize using one of the following scopes:\n",
    "#     'https://www.googleapis.com/auth/drive'\n",
    "#     'https://www.googleapis.com/auth/drive.file'\n",
    "#     'https://www.googleapis.com/auth/spreadsheets'\n",
    "\n",
    "SCOPES = ['https://www.googleapis.com/auth/spreadsheets']\n",
    "credentials = get_credentials(SCOPES, 'write-token.pkl')\n",
    "\n",
    "service = discovery.build('sheets', 'v4', credentials=credentials)\n",
    "\n",
    "# The ID of the spreadsheet to update.\n",
    "spreadsheet_id = '127lZRzN8YhJrJctA9spiyMxyv9b99bZ9arQtEcxVDVo' # clear-test  # TODO: Update placeholder value.\n",
    "\n",
    "# The A1 notation of the values to clear.\n",
    "range_ = 'test!A1:G'  # TODO: Update placeholder value.\n",
    "\n",
    "clear_values_request_body = {\n",
    "    # TODO: Add desired entries to the request body.\n",
    "}\n",
    "\n",
    "request = service.spreadsheets().values().clear(spreadsheetId=spreadsheet_id, range=range_, body=clear_values_request_body)\n",
    "try:\n",
    "    response = request.execute()\n",
    "except Exception as e:\n",
    "    print(e._get_reason())\n",
    "\n",
    "# TODO: Change code below to process the `response` dict:\n",
    "pprint(response)"
   ]
  },
  {
   "cell_type": "code",
   "execution_count": 1,
   "metadata": {},
   "outputs": [],
   "source": [
    "import pandas as pd"
   ]
  },
  {
   "cell_type": "code",
   "execution_count": 2,
   "metadata": {},
   "outputs": [],
   "source": [
    "df = pd.read_csv('/home/bupi/Documents/pdy/scripted_projects/hate-speech/dashboard/clean-data/aggregated/20200623113331/lex-topic-page-time.csv', sep='~', usecols=['Date'])"
   ]
  },
  {
   "cell_type": "code",
   "execution_count": 3,
   "metadata": {},
   "outputs": [
    {
     "output_type": "execute_result",
     "data": {
      "text/plain": "'2020-06-21'"
     },
     "metadata": {},
     "execution_count": 3
    }
   ],
   "source": [
    "df.Date.max()"
   ]
  },
  {
   "cell_type": "code",
   "execution_count": null,
   "metadata": {},
   "outputs": [],
   "source": [
    "df = pd.read_csv('')"
   ]
  }
 ],
 "metadata": {
  "language_info": {
   "codemirror_mode": {
    "name": "ipython",
    "version": 3
   },
   "file_extension": ".py",
   "mimetype": "text/x-python",
   "name": "python",
   "nbconvert_exporter": "python",
   "pygments_lexer": "ipython3",
   "version": "3.7.6-final"
  },
  "orig_nbformat": 2,
  "kernelspec": {
   "name": "python3",
   "display_name": "Python 3"
  }
 },
 "nbformat": 4,
 "nbformat_minor": 2
}