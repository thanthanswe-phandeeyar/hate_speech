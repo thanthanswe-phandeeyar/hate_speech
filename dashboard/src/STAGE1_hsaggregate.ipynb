{
 "cells": [
  {
   "cell_type": "code",
   "execution_count": 1,
   "metadata": {
    "tags": []
   },
   "outputs": [
    {
     "name": "stderr",
     "output_type": "stream",
     "text": [
      "/home/curiousgirl/Public/Desktop/hate-speech-new/hsle/modules/CrowdTangleExportCommentsTools/CrowdTangleExportCommentsTools/HsleCandidateGenerationUtils.py:88: SettingWithCopyWarning: \n",
      "A value is trying to be set on a copy of a slice from a DataFrame.\n",
      "Try using .loc[row_indexer,col_indexer] = value instead\n",
      "\n",
      "See the caveats in the documentation: https://pandas.pydata.org/pandas-docs/stable/user_guide/indexing.html#returning-a-view-versus-a-copy\n",
      "  CLN.web_clean(l) for l in tmp.label_alternative_spelling]\n",
      "  0%|          | 0/20 [00:00<?, ?it/s]/home/curiousgirl/Public/Desktop/hate-speech-new/dashboard/src/HateSpeechAggregator.py:214: FutureWarning: The pandas.datetime class is deprecated and will be removed from pandas in a future version. Import from datetime module instead.\n",
      "  return pd.datetime(\n"
     ]
    },
    {
     "name": "stdout",
     "output_type": "stream",
     "text": [
      "Current date range: 20200706 20200709\n",
      "=========================================\n",
      "Processing: 20200706_20200709.csv\n"
     ]
    },
    {
     "name": "stderr",
     "output_type": "stream",
     "text": [
      "/home/curiousgirl/Public/Desktop/hate-speech-new/dashboard/src/HateSpeechAggregator.py:95: FutureWarning: The pandas.datetime class is deprecated and will be removed from pandas in a future version. Import from datetime module instead.\n",
      "  comment_df['date'] = [pd.datetime(d.year, d.month, d.day) for d in comment_df.datetime]\n",
      "/home/curiousgirl/Public/Desktop/hate-speech-new/dashboard/src/HateSpeechAggregator.py:123: FutureWarning: The pandas.datetime class is deprecated and will be removed from pandas in a future version. Import from datetime module instead.\n",
      "  for d in lex_topic_page_time_df.DateTime]\n"
     ]
    },
    {
     "name": "stdout",
     "output_type": "stream",
     "text": [
      "Writing 1818 lines...\n",
      "Done.\n",
      "Writing 170 lines...\n",
      "Done.\n",
      "Writing 4 lines...\n",
      "Done.\n"
     ]
    },
    {
     "name": "stderr",
     "output_type": "stream",
     "text": [
      "100%|██████████| 20/20 [00:01<00:00, 14.83it/s]"
     ]
    },
    {
     "name": "stdout",
     "output_type": "stream",
     "text": [
      "Writing 4 lines...\n",
      "Done.\n",
      "Writing 170 lines...\n",
      "Done.\n"
     ]
    },
    {
     "name": "stderr",
     "output_type": "stream",
     "text": [
      "\n"
     ]
    }
   ],
   "source": [
    "from importlib import reload\n",
    "from tqdm import tqdm\n",
    "import HateSpeechAggregator as hsa\n",
    "from glob import glob\n",
    "import json\n",
    "\n",
    "reload(hsa);\n",
    "\n",
    "\n",
    "files = glob('../clean-data/comments/*.csv')\n",
    "files.sort()\n",
    "\n",
    "with open('../../hsle/src/_current_data_.json') as f:\n",
    "  data = json.load(f)\n",
    "  daterange =data['daterange']\n",
    "\n",
    "f.close() \n",
    "\n",
    "for f in tqdm(files):\n",
    "    split_file = str(f).split('/')[3]\n",
    "    date_file=split_file.split(\".\")[0]\n",
    "    if date_file==daterange:\n",
    "        file_check =glob(f)\n",
    "        hsa.run(file_check)"
   ]
  },
  {
   "cell_type": "markdown",
   "metadata": {},
   "source": [
    "## Calculate X2"
   ]
  },
  {
   "cell_type": "code",
   "execution_count": null,
   "metadata": {},
   "outputs": [],
   "source": []
  },
  {
   "cell_type": "code",
   "execution_count": 2,
   "metadata": {
    "tags": []
   },
   "outputs": [
    {
     "name": "stdout",
     "output_type": "stream",
     "text": [
      "20200715030318\n",
      "############### 20200715030318\n",
      "(114.37089441686905, 1.0807880111310106e-26, 1) \n",
      " (83.47357967020228, 6.457323898287198e-20, 1)\n"
     ]
    }
   ],
   "source": [
    "from scipy.stats import chi2_contingency\n",
    "import pandas as pd\n",
    "from glob import glob\n",
    "\n",
    "aggredate_id = str(max([int(f.split('/')[-1]) for f in glob('../../dashboard/clean-data/aggregated/*')]))\n",
    "print(aggredate_id)\n",
    "print('###############', aggredate_id)\n",
    "print(\n",
    "    chi2_contingency(pd.read_csv(\n",
    "        '../clean-data/aggregated/'+aggredate_id+'/hspost-effect.csv', sep='~').groupby(\n",
    "            ['post_has_lex','comment_has_lex'])['count'].sum().unstack())[:3],\n",
    "    '\\n',\n",
    "    chi2_contingency(pd.read_csv(\n",
    "        '../clean-data/aggregated/'+aggredate_id+'/hsfirst-comment-effect.csv', sep='~').groupby(\n",
    "            ['first_comment_has_lex','reply_has_lex'])['count'].sum().unstack())[:3]\n",
    ")"
   ]
  },
  {
   "cell_type": "markdown",
   "metadata": {},
   "source": [
    "## Calculate Coorelation between #HS-#UniqueAccounts"
   ]
  },
  {
   "cell_type": "code",
   "execution_count": 3,
   "metadata": {},
   "outputs": [
    {
     "data": {
      "text/html": [
       "<div>\n",
       "<style scoped>\n",
       "    .dataframe tbody tr th:only-of-type {\n",
       "        vertical-align: middle;\n",
       "    }\n",
       "\n",
       "    .dataframe tbody tr th {\n",
       "        vertical-align: top;\n",
       "    }\n",
       "\n",
       "    .dataframe thead th {\n",
       "        text-align: right;\n",
       "    }\n",
       "</style>\n",
       "<table border=\"1\" class=\"dataframe\">\n",
       "  <thead>\n",
       "    <tr style=\"text-align: right;\">\n",
       "      <th></th>\n",
       "      <th>Profile ID</th>\n",
       "      <th>Name</th>\n",
       "      <th>Hate Speech Phrase</th>\n",
       "      <th>Topic</th>\n",
       "      <th>Page</th>\n",
       "      <th>DateTime</th>\n",
       "      <th>Hour</th>\n",
       "      <th>Date</th>\n",
       "      <th>ISOWeek</th>\n",
       "      <th>key</th>\n",
       "    </tr>\n",
       "  </thead>\n",
       "  <tbody>\n",
       "    <tr>\n",
       "      <th>0</th>\n",
       "      <td>100045415926472</td>\n",
       "      <td>UThan</td>\n",
       "      <td>အကြမ်းဖက်</td>\n",
       "      <td>AA</td>\n",
       "      <td>Unicef Myanmar</td>\n",
       "      <td>2020-07-08 10:52:23</td>\n",
       "      <td>10</td>\n",
       "      <td>2020-07-08</td>\n",
       "      <td>2020-07-08</td>\n",
       "      <td>Unicef Myanmar-2020-07-08</td>\n",
       "    </tr>\n",
       "    <tr>\n",
       "      <th>1</th>\n",
       "      <td>100050628121548</td>\n",
       "      <td>အမေ မာ</td>\n",
       "      <td>အကြမ်းဖက်</td>\n",
       "      <td>AA</td>\n",
       "      <td>Unicef Myanmar</td>\n",
       "      <td>2020-07-08 14:00:13</td>\n",
       "      <td>14</td>\n",
       "      <td>2020-07-08</td>\n",
       "      <td>2020-07-08</td>\n",
       "      <td>Unicef Myanmar-2020-07-08</td>\n",
       "    </tr>\n",
       "  </tbody>\n",
       "</table>\n",
       "</div>"
      ],
      "text/plain": [
       "        Profile ID    Name Hate Speech Phrase Topic            Page  \\\n",
       "0  100045415926472   UThan          အကြမ်းဖက်    AA  Unicef Myanmar   \n",
       "1  100050628121548  အမေ မာ          အကြမ်းဖက်    AA  Unicef Myanmar   \n",
       "\n",
       "              DateTime  Hour        Date     ISOWeek  \\\n",
       "0  2020-07-08 10:52:23    10  2020-07-08  2020-07-08   \n",
       "1  2020-07-08 14:00:13    14  2020-07-08  2020-07-08   \n",
       "\n",
       "                         key  \n",
       "0  Unicef Myanmar-2020-07-08  \n",
       "1  Unicef Myanmar-2020-07-08  "
      ]
     },
     "metadata": {},
     "output_type": "display_data"
    },
    {
     "data": {
      "text/html": [
       "<div>\n",
       "<style scoped>\n",
       "    .dataframe tbody tr th:only-of-type {\n",
       "        vertical-align: middle;\n",
       "    }\n",
       "\n",
       "    .dataframe tbody tr th {\n",
       "        vertical-align: top;\n",
       "    }\n",
       "\n",
       "    .dataframe thead th {\n",
       "        text-align: right;\n",
       "    }\n",
       "</style>\n",
       "<table border=\"1\" class=\"dataframe\">\n",
       "  <thead>\n",
       "    <tr style=\"text-align: right;\">\n",
       "      <th></th>\n",
       "      <th>page_group_name</th>\n",
       "      <th>date</th>\n",
       "      <th>count</th>\n",
       "      <th>key</th>\n",
       "    </tr>\n",
       "  </thead>\n",
       "  <tbody>\n",
       "    <tr>\n",
       "      <th>0</th>\n",
       "      <td>7Day News Journal</td>\n",
       "      <td>2020-07-06</td>\n",
       "      <td>933</td>\n",
       "      <td>7Day News Journal-2020-07-06</td>\n",
       "    </tr>\n",
       "    <tr>\n",
       "      <th>1</th>\n",
       "      <td>7Day News Journal</td>\n",
       "      <td>2020-07-07</td>\n",
       "      <td>501</td>\n",
       "      <td>7Day News Journal-2020-07-07</td>\n",
       "    </tr>\n",
       "  </tbody>\n",
       "</table>\n",
       "</div>"
      ],
      "text/plain": [
       "     page_group_name        date  count                           key\n",
       "0  7Day News Journal  2020-07-06    933  7Day News Journal-2020-07-06\n",
       "1  7Day News Journal  2020-07-07    501  7Day News Journal-2020-07-07"
      ]
     },
     "metadata": {},
     "output_type": "display_data"
    }
   ],
   "source": [
    "df1 = pd.read_csv('../clean-data/aggregated/'+aggredate_id+'/lex-topic-page-time.csv', sep='~')\n",
    "df1['key'] = ['{}-{}'.format(a,b) for a,b in zip(df1.Page, df1.Date)]\n",
    "display(df1.head(2))\n",
    "\n",
    "df2 = pd.read_csv('../clean-data/aggregated/'+aggredate_id+'/page-reach.csv', sep='~')\n",
    "df2['key'] = ['{}-{}'.format(a,b) for a,b in zip(df2.page_group_name, df2.date)]\n",
    "display(df2.head(2))"
   ]
  },
  {
   "cell_type": "code",
   "execution_count": 4,
   "metadata": {},
   "outputs": [
    {
     "name": "stdout",
     "output_type": "stream",
     "text": [
      "(1818, 5)\n"
     ]
    },
    {
     "data": {
      "text/html": [
       "<div>\n",
       "<style scoped>\n",
       "    .dataframe tbody tr th:only-of-type {\n",
       "        vertical-align: middle;\n",
       "    }\n",
       "\n",
       "    .dataframe tbody tr th {\n",
       "        vertical-align: top;\n",
       "    }\n",
       "\n",
       "    .dataframe thead th {\n",
       "        text-align: right;\n",
       "    }\n",
       "</style>\n",
       "<table border=\"1\" class=\"dataframe\">\n",
       "  <thead>\n",
       "    <tr style=\"text-align: right;\">\n",
       "      <th></th>\n",
       "      <th>Page</th>\n",
       "      <th>Topic</th>\n",
       "      <th>Date</th>\n",
       "      <th>count</th>\n",
       "      <th>Profile ID</th>\n",
       "    </tr>\n",
       "  </thead>\n",
       "  <tbody>\n",
       "    <tr>\n",
       "      <th>0</th>\n",
       "      <td>Unicef Myanmar</td>\n",
       "      <td>AA</td>\n",
       "      <td>2020-07-08</td>\n",
       "      <td>58</td>\n",
       "      <td>100045415926472</td>\n",
       "    </tr>\n",
       "    <tr>\n",
       "      <th>1</th>\n",
       "      <td>Unicef Myanmar</td>\n",
       "      <td>AA</td>\n",
       "      <td>2020-07-08</td>\n",
       "      <td>58</td>\n",
       "      <td>100050628121548</td>\n",
       "    </tr>\n",
       "  </tbody>\n",
       "</table>\n",
       "</div>"
      ],
      "text/plain": [
       "             Page Topic        Date  count       Profile ID\n",
       "0  Unicef Myanmar    AA  2020-07-08     58  100045415926472\n",
       "1  Unicef Myanmar    AA  2020-07-08     58  100050628121548"
      ]
     },
     "execution_count": 4,
     "metadata": {},
     "output_type": "execute_result"
    }
   ],
   "source": [
    "df = df1.merge(df2, how='left', on='key').loc[:, ['Page','Topic','Date','count','Profile ID']]\n",
    "print(df.shape)\n",
    "df.head(2)"
   ]
  },
  {
   "cell_type": "code",
   "execution_count": 5,
   "metadata": {},
   "outputs": [],
   "source": [
    "x = df1.groupby('Page')['Page'].count()\n",
    "x.name = 'hs'\n",
    "y = df2.groupby('page_group_name')['count'].sum()\n",
    "y.name = 'ua'"
   ]
  },
  {
   "cell_type": "code",
   "execution_count": 6,
   "metadata": {},
   "outputs": [],
   "source": [
    "z = pd.DataFrame([x,y]).T.fillna(0)"
   ]
  },
  {
   "cell_type": "code",
   "execution_count": 7,
   "metadata": {},
   "outputs": [
    {
     "data": {
      "text/plain": [
       "[None, None]"
      ]
     },
     "execution_count": 7,
     "metadata": {},
     "output_type": "execute_result"
    },
    {
     "data": {
      "image/png": "[encoded data removed]",
      "text/plain": [
       "<Figure size 432x288 with 1 Axes>"
      ]
     },
     "metadata": {
      "needs_background": "light"
     },
     "output_type": "display_data"
    }
   ],
   "source": [
    "import seaborn as sns\n",
    "\n",
    "ax = sns.scatterplot(x='ua', y='hs', data=z)\n",
    "ax.set(xscale=\"log\", yscale=\"log\")"
   ]
  },
  {
   "cell_type": "code",
   "execution_count": null,
   "metadata": {},
   "outputs": [],
   "source": []
  }
 ],
 "metadata": {
  "file_extension": ".py",
  "kernelspec": {
   "display_name": "Python 3",
   "language": "python",
   "name": "python3"
  },
  "language_info": {
   "codemirror_mode": {
    "name": "ipython",
    "version": 3
   },
   "file_extension": ".py",
   "mimetype": "text/x-python",
   "name": "python",
   "nbconvert_exporter": "python",
   "pygments_lexer": "ipython3",
   "version": "3.7.7"
  },
  "mimetype": "text/x-python",
  "name": "python",
  "npconvert_exporter": "python",
  "pygments_lexer": "ipython3",
  "version": 3
 },
 "nbformat": 4,
 "nbformat_minor": 2
}
