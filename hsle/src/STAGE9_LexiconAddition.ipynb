{
 "cells": [
  {
   "cell_type": "markdown",
   "metadata": {},
   "source": [
    "- Filter empty lines\n",
    "- Split by comma => list of lists\n",
    "- Flatten"
   ]
  },
  {
   "cell_type": "code",
   "execution_count": 1,
   "metadata": {},
   "outputs": [
    {
     "name": "stdout",
     "output_type": "stream",
     "text": [
      "111\n",
      "8\n"
     ]
    }
   ],
   "source": [
    "from HsleCandidateGenerationUtils import LoadLexiconSet\n",
    "lexset = LoadLexiconSet(False, None, True)\n",
    "print(len(lexset))\n",
    "with open('new_lex.txt') as f:\n",
    "    lines = [l.strip() for l in f.readlines() if len(l.strip())>0]\n",
    "lines = [l.split(',') for l in lines]\n",
    "lines = [''.join(a.strip().split()) for b in lines for a in b]\n",
    "lines = set([l for l in lines if len(l)>0])\n",
    "lines = lines.difference(lexset)\n",
    "print(len(lines))\n",
    "with open('new_lex_clean.txt','w') as f:\n",
    "    f.write('\\n'.join(lines))"
   ]
  },
  {
   "cell_type": "code",
   "execution_count": 2,
   "metadata": {},
   "outputs": [
    {
     "data": {
      "text/plain": [
       "{'NewHSWordInSentence',\n",
       " 'ကမ္ဘာ့ကပ်ရောဂါကြီး',\n",
       " 'ခွေး',\n",
       " 'တာလီစော',\n",
       " 'နီပိန်း',\n",
       " 'ဖာသေမစု',\n",
       " 'လီးကြံ့ဖွတ်.',\n",
       " 'ေခွး'}"
      ]
     },
     "execution_count": 2,
     "metadata": {},
     "output_type": "execute_result"
    }
   ],
   "source": [
    "lines"
   ]
  },
  {
   "cell_type": "code",
   "execution_count": 3,
   "metadata": {},
   "outputs": [
    {
     "data": {
      "text/plain": [
       "111"
      ]
     },
     "execution_count": 3,
     "metadata": {},
     "output_type": "execute_result"
    }
   ],
   "source": [
    "lexset = LoadLexiconSet(False, None, True)\n",
    "len(lexset)"
   ]
  },
  {
   "cell_type": "code",
   "execution_count": null,
   "metadata": {},
   "outputs": [],
   "source": []
  }
 ],
 "metadata": {
  "file_extension": ".py",
  "kernelspec": {
   "display_name": "Python 3",
   "language": "python",
   "name": "python3"
  },
  "language_info": {
   "codemirror_mode": {
    "name": "ipython",
    "version": 3
   },
   "file_extension": ".py",
   "mimetype": "text/x-python",
   "name": "python",
   "nbconvert_exporter": "python",
   "pygments_lexer": "ipython3",
   "version": "3.7.7"
  },
  "mimetype": "text/x-python",
  "name": "python",
  "npconvert_exporter": "python",
  "pygments_lexer": "ipython3",
  "version": 3
 },
 "nbformat": 4,
 "nbformat_minor": 2
}
