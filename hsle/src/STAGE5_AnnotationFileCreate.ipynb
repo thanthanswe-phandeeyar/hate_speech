{
 "cells": [
  {
   "cell_type": "markdown",
   "metadata": {},
   "source": [
    "## STAGE 9: Annotation File Creation\n",
    "Follow these steps:\n",
    "\n",
    "1. Update the variables: `COMMENT_FILES_FOLDER` and `POST_FILE`\n"
   ]
  },
  {
   "cell_type": "code",
   "execution_count": 1,
   "metadata": {},
   "outputs": [
    {
     "name": "stdout",
     "output_type": "stream",
     "text": [
      "../data/exportcomments-outputs/20200427_20200430\n"
     ]
    }
   ],
   "source": [
    "import pandas as pd\n",
    "import numpy as np\n",
    "from glob import glob\n",
    "from tqdm import tqdm\n",
    "\n",
    "DATE_RANGE = '20200427_20200430'\n",
    "isGroup = False\n",
    "\n",
    "if isGroup:\n",
    "    COMMENT_FILES_FOLDER = '../data/exportcomments-outputs/groups_{}'.format(DATE_RANGE)\n",
    "    POST_FILE = '../data/crowdtangle-groups/processed_{}.csv'.format(DATE_RANGE)\n",
    "else:\n",
    "    COMMENT_FILES_FOLDER = '../data/exportcomments-outputs/{}'.format(DATE_RANGE)\n",
    "    POST_FILE = '../data/crowdtangle-posts/processed_{}.csv'.format(DATE_RANGE)\n",
    "URL_PREFIX = 'https://www.facebook.com/profile.php?id='\n",
    "print(COMMENT_FILES_FOLDER)"
   ]
  },
  {
   "cell_type": "code",
   "execution_count": 2,
   "metadata": {},
   "outputs": [
    {
     "name": "stdout",
     "output_type": "stream",
     "text": [
      "382\n"
     ]
    }
   ],
   "source": [
    "all_files =  glob(COMMENT_FILES_FOLDER+'/processed/comments_*.csv')\n",
    "print(len(all_files))"
   ]
  },
  {
   "cell_type": "markdown",
   "metadata": {},
   "source": [
    "## Add Post URLs"
   ]
  },
  {
   "cell_type": "code",
   "execution_count": 3,
   "metadata": {},
   "outputs": [
    {
     "name": "stdout",
     "output_type": "stream",
     "text": [
      "(400, 34)\n"
     ]
    },
    {
     "data": {
      "text/html": [
       "<div>\n",
       "<style scoped>\n",
       "    .dataframe tbody tr th:only-of-type {\n",
       "        vertical-align: middle;\n",
       "    }\n",
       "\n",
       "    .dataframe tbody tr th {\n",
       "        vertical-align: top;\n",
       "    }\n",
       "\n",
       "    .dataframe thead th {\n",
       "        text-align: right;\n",
       "    }\n",
       "</style>\n",
       "<table border=\"1\" class=\"dataframe\">\n",
       "  <thead>\n",
       "    <tr style=\"text-align: right;\">\n",
       "      <th></th>\n",
       "      <th>Page Name</th>\n",
       "      <th>User Name</th>\n",
       "      <th>Facebook Id</th>\n",
       "      <th>Likes at Posting</th>\n",
       "      <th>Created</th>\n",
       "      <th>Type</th>\n",
       "      <th>Likes</th>\n",
       "      <th>Comments</th>\n",
       "      <th>Shares</th>\n",
       "      <th>Love</th>\n",
       "      <th>...</th>\n",
       "      <th>Image Text</th>\n",
       "      <th>Link Text</th>\n",
       "      <th>Description</th>\n",
       "      <th>Sponsor Id</th>\n",
       "      <th>Sponsor Name</th>\n",
       "      <th>Overperforming Score</th>\n",
       "      <th>commentsFile</th>\n",
       "      <th>PostId</th>\n",
       "      <th>MessageUni</th>\n",
       "      <th>MsgUniCleanSeg</th>\n",
       "    </tr>\n",
       "  </thead>\n",
       "  <tbody>\n",
       "    <tr>\n",
       "      <th>0</th>\n",
       "      <td>Myanmarthandawsint Newspaper</td>\n",
       "      <td>myanmarherald</td>\n",
       "      <td>240972982664335</td>\n",
       "      <td>297271</td>\n",
       "      <td>2020-04-29 18:50:35 MMT</td>\n",
       "      <td>Photo</td>\n",
       "      <td>2899</td>\n",
       "      <td>716</td>\n",
       "      <td>5386</td>\n",
       "      <td>29</td>\n",
       "      <td>...</td>\n",
       "      <td>NaN</td>\n",
       "      <td>Photos from Myanmarthandawsint Newspaper's post</td>\n",
       "      <td>NaN</td>\n",
       "      <td>NaN</td>\n",
       "      <td>NaN</td>\n",
       "      <td>208.85</td>\n",
       "      <td>../data/exportcomments-outputs/20200427_202004...</td>\n",
       "      <td>20200427_0000</td>\n",
       "      <td>ဗွီဒီယို Call မကိုင်တတ်သောသူခိုးအား ပုဒ်မ ၁၄၄ ...</td>\n",
       "      <td>ဗွီ ဒီ ယို Call မ ကိုင် တတ် သော သူခိုး အား ပုဒ...</td>\n",
       "    </tr>\n",
       "    <tr>\n",
       "      <th>1</th>\n",
       "      <td>မန္တလေး True News</td>\n",
       "      <td>mandalaytruenews</td>\n",
       "      <td>110968113662369</td>\n",
       "      <td>36057</td>\n",
       "      <td>2020-04-28 21:19:29 MMT</td>\n",
       "      <td>Status</td>\n",
       "      <td>3439</td>\n",
       "      <td>436</td>\n",
       "      <td>2479</td>\n",
       "      <td>9</td>\n",
       "      <td>...</td>\n",
       "      <td>NaN</td>\n",
       "      <td>NaN</td>\n",
       "      <td>NaN</td>\n",
       "      <td>NaN</td>\n",
       "      <td>NaN</td>\n",
       "      <td>94.62</td>\n",
       "      <td>../data/exportcomments-outputs/20200427_202004...</td>\n",
       "      <td>20200427_0001</td>\n",
       "      <td>မန္တလေး၊ ဧပြီ ၂၈ မန္တလေး၊အောင်မြေသာစံမြို့နယ်၊...</td>\n",
       "      <td>မန္တလေး ၊ ဧပြီ ၂၈ မန္တလေး ၊ အောင်မြေ သာ စံ မြိ...</td>\n",
       "    </tr>\n",
       "  </tbody>\n",
       "</table>\n",
       "<p>2 rows × 34 columns</p>\n",
       "</div>"
      ],
      "text/plain": [
       "                      Page Name         User Name      Facebook Id  \\\n",
       "0  Myanmarthandawsint Newspaper     myanmarherald  240972982664335   \n",
       "1             မန္တလေး True News  mandalaytruenews  110968113662369   \n",
       "\n",
       "   Likes at Posting                  Created    Type  Likes  Comments  Shares  \\\n",
       "0            297271  2020-04-29 18:50:35 MMT   Photo   2899       716    5386   \n",
       "1             36057  2020-04-28 21:19:29 MMT  Status   3439       436    2479   \n",
       "\n",
       "   Love  ...  Image Text                                        Link Text  \\\n",
       "0    29  ...         NaN  Photos from Myanmarthandawsint Newspaper's post   \n",
       "1     9  ...         NaN                                              NaN   \n",
       "\n",
       "   Description  Sponsor Id  Sponsor Name Overperforming Score  \\\n",
       "0          NaN         NaN           NaN               208.85   \n",
       "1          NaN         NaN           NaN                94.62   \n",
       "\n",
       "                                        commentsFile         PostId  \\\n",
       "0  ../data/exportcomments-outputs/20200427_202004...  20200427_0000   \n",
       "1  ../data/exportcomments-outputs/20200427_202004...  20200427_0001   \n",
       "\n",
       "                                          MessageUni  \\\n",
       "0  ဗွီဒီယို Call မကိုင်တတ်သောသူခိုးအား ပုဒ်မ ၁၄၄ ...   \n",
       "1  မန္တလေး၊ ဧပြီ ၂၈ မန္တလေး၊အောင်မြေသာစံမြို့နယ်၊...   \n",
       "\n",
       "                                      MsgUniCleanSeg  \n",
       "0  ဗွီ ဒီ ယို Call မ ကိုင် တတ် သော သူခိုး အား ပုဒ...  \n",
       "1  မန္တလေး ၊ ဧပြီ ၂၈ မန္တလေး ၊ အောင်မြေ သာ စံ မြိ...  \n",
       "\n",
       "[2 rows x 34 columns]"
      ]
     },
     "metadata": {},
     "output_type": "display_data"
    }
   ],
   "source": [
    "postdf = pd.read_csv(POST_FILE, sep='~')\n",
    "print(postdf.shape)\n",
    "display(postdf.head(2))"
   ]
  },
  {
   "cell_type": "markdown",
   "metadata": {},
   "source": [
    "- commentsFile name is matched from the postdf and the post url is fetched."
   ]
  },
  {
   "cell_type": "code",
   "execution_count": 4,
   "metadata": {},
   "outputs": [
    {
     "name": "stderr",
     "output_type": "stream",
     "text": [
      "100%|██████████| 382/382 [00:08<00:00, 46.92it/s]\n"
     ]
    }
   ],
   "source": [
    "for f in tqdm(all_files):\n",
    "    commentFileId = f.split('/')[-1].split('.')[0]\n",
    "    commentFile = '{}/{}.xlsx'.format(COMMENT_FILES_FOLDER, commentFileId)\n",
    "    tmp = pd.read_csv(f, sep='~')\n",
    "    tmp['PostURL'] = postdf.loc[postdf.commentsFile==commentFile,'URL'].values[0]\n",
    "    tmp.to_csv(f, index=False, sep='~')"
   ]
  },
  {
   "cell_type": "markdown",
   "metadata": {},
   "source": [
    "## Merge\n",
    "- Merge the comments files now that we have all the columns we need"
   ]
  },
  {
   "cell_type": "code",
   "execution_count": 5,
   "metadata": {},
   "outputs": [],
   "source": [
    "df_from_each_file = (pd.read_csv(f, sep='~') for f in all_files)\n",
    "df_merged = pd.concat(df_from_each_file, ignore_index=True)\n",
    "df_merged.to_csv(COMMENT_FILES_FOLDER+'/processed/merged.csv', index=False)"
   ]
  },
  {
   "cell_type": "markdown",
   "metadata": {},
   "source": [
    "### Columns selection for annotation file"
   ]
  },
  {
   "cell_type": "code",
   "execution_count": 6,
   "metadata": {},
   "outputs": [
    {
     "data": {
      "text/plain": [
       "'../data/exportcomments-outputs/20200427_20200430/processed/merged.csv'"
      ]
     },
     "execution_count": 6,
     "metadata": {},
     "output_type": "execute_result"
    }
   ],
   "source": [
    "COMMENT_FILES_FOLDER+'/processed/merged.csv'"
   ]
  },
  {
   "cell_type": "code",
   "execution_count": 7,
   "metadata": {},
   "outputs": [
    {
     "name": "stdout",
     "output_type": "stream",
     "text": [
      "(83845, 15)\n",
      "(60714, 15)\n",
      "Index(['cId', 'nId', 'Name (click to view profile)', 'Profile ID', 'Date',\n",
      "       'Likes', 'Comment', '(view source)', 'postId', 'char_pass', 'MsgUni',\n",
      "       'atleast1MM', 'MsgUniSeg', 'LexFound', 'PostURL'],\n",
      "      dtype='object')\n"
     ]
    }
   ],
   "source": [
    "df = pd.read_csv(COMMENT_FILES_FOLDER+'/processed/merged.csv')\n",
    "# df['atleast1MM'] = df.atleast1MM.bool()\n",
    "print(df.shape)\n",
    "df = df.loc[df.atleast1MM]\n",
    "df = df.loc[df.char_pass]\n",
    "print(df.shape)\n",
    "print(df.columns)"
   ]
  },
  {
   "cell_type": "markdown",
   "metadata": {},
   "source": [
    "## Finding COVID keywords (This step should be somewhere else tbh)"
   ]
  },
  {
   "cell_type": "code",
   "execution_count": 8,
   "metadata": {},
   "outputs": [
    {
     "name": "stdout",
     "output_type": "stream",
     "text": [
      "27\n"
     ]
    }
   ],
   "source": [
    "with open('../data/covid.csv') as f:\n",
    "    covlex = list(set([''.join(l.strip().split()).lower() for l in f]))\n",
    "print(len(covlex))"
   ]
  },
  {
   "cell_type": "code",
   "execution_count": 9,
   "metadata": {},
   "outputs": [
    {
     "name": "stderr",
     "output_type": "stream",
     "text": [
      "100%|██████████| 60714/60714 [00:03<00:00, 16653.74it/s]\n"
     ]
    }
   ],
   "source": [
    "x = ['~'.join(set([c for c in covlex if c in m.lower()])) for m in tqdm(df.MsgUniSeg)]"
   ]
  },
  {
   "cell_type": "code",
   "execution_count": 10,
   "metadata": {},
   "outputs": [
    {
     "name": "stdout",
     "output_type": "stream",
     "text": [
      "2382\n"
     ]
    },
    {
     "data": {
      "text/html": [
       "<div>\n",
       "<style scoped>\n",
       "    .dataframe tbody tr th:only-of-type {\n",
       "        vertical-align: middle;\n",
       "    }\n",
       "\n",
       "    .dataframe tbody tr th {\n",
       "        vertical-align: top;\n",
       "    }\n",
       "\n",
       "    .dataframe thead th {\n",
       "        text-align: right;\n",
       "    }\n",
       "</style>\n",
       "<table border=\"1\" class=\"dataframe\">\n",
       "  <thead>\n",
       "    <tr style=\"text-align: right;\">\n",
       "      <th></th>\n",
       "      <th>cId</th>\n",
       "      <th>nId</th>\n",
       "      <th>Name (click to view profile)</th>\n",
       "      <th>Profile ID</th>\n",
       "      <th>Date</th>\n",
       "      <th>Likes</th>\n",
       "      <th>Comment</th>\n",
       "      <th>(view source)</th>\n",
       "      <th>postId</th>\n",
       "      <th>char_pass</th>\n",
       "      <th>MsgUni</th>\n",
       "      <th>atleast1MM</th>\n",
       "      <th>MsgUniSeg</th>\n",
       "      <th>LexFound</th>\n",
       "      <th>PostURL</th>\n",
       "      <th>CovFound</th>\n",
       "    </tr>\n",
       "  </thead>\n",
       "  <tbody>\n",
       "    <tr>\n",
       "      <th>0</th>\n",
       "      <td>1</td>\n",
       "      <td>0</td>\n",
       "      <td>Aung Than Zaw</td>\n",
       "      <td>ID: 100001267573369</td>\n",
       "      <td>2020-04-27 12:51:43</td>\n",
       "      <td>1</td>\n",
       "      <td>ဗမာလူမျိုးများအပေါ်မွန်တွေသာ သမိုၚ်းဆိုးတစ်ခုရ...</td>\n",
       "      <td>view comment</td>\n",
       "      <td>20200427_0282</td>\n",
       "      <td>True</td>\n",
       "      <td>ဗမာလူမျိုးများအပေါ်မွန်တွေသာ သမိုၚ်းဆိုးတစ်ခုရ...</td>\n",
       "      <td>True</td>\n",
       "      <td>ဗမာ လူမျိုး များ အပေါ် မွန် တွေ သာ သ မိုၚ်း ဆိ...</td>\n",
       "      <td>ဗမာတွေ</td>\n",
       "      <td>https://www.facebook.com/Monstatenews18/posts/...</td>\n",
       "      <td>NaN</td>\n",
       "    </tr>\n",
       "    <tr>\n",
       "      <th>1</th>\n",
       "      <td>2</td>\n",
       "      <td>0</td>\n",
       "      <td>Oo Paw</td>\n",
       "      <td>ID: 100008740395328</td>\n",
       "      <td>2020-04-27 13:23:34</td>\n",
       "      <td>0</td>\n",
       "      <td>ပေရာမန္လိက္ဗဿာတီစ၀ါတ္မံင္ရအၥာမန္တံ</td>\n",
       "      <td>view comment</td>\n",
       "      <td>20200427_0282</td>\n",
       "      <td>True</td>\n",
       "      <td>ပရောမန်လိက်ဗဿာတီစဝါတ်မံင်ရအ္စာမန်တံ</td>\n",
       "      <td>True</td>\n",
       "      <td>ပ ရော မန် လိက် ဗ ဿာ တီ စ ဝါတ် မံင် ရအ္စာ မန် တံ</td>\n",
       "      <td>NaN</td>\n",
       "      <td>https://www.facebook.com/Monstatenews18/posts/...</td>\n",
       "      <td>NaN</td>\n",
       "    </tr>\n",
       "  </tbody>\n",
       "</table>\n",
       "</div>"
      ],
      "text/plain": [
       "   cId  nId Name (click to view profile)           Profile ID  \\\n",
       "0    1    0                Aung Than Zaw  ID: 100001267573369   \n",
       "1    2    0                       Oo Paw  ID: 100008740395328   \n",
       "\n",
       "                  Date  Likes  \\\n",
       "0  2020-04-27 12:51:43      1   \n",
       "1  2020-04-27 13:23:34      0   \n",
       "\n",
       "                                             Comment (view source)  \\\n",
       "0  ဗမာလူမျိုးများအပေါ်မွန်တွေသာ သမိုၚ်းဆိုးတစ်ခုရ...  view comment   \n",
       "1                 ပေရာမန္လိက္ဗဿာတီစ၀ါတ္မံင္ရအၥာမန္တံ  view comment   \n",
       "\n",
       "          postId  char_pass  \\\n",
       "0  20200427_0282       True   \n",
       "1  20200427_0282       True   \n",
       "\n",
       "                                              MsgUni  atleast1MM  \\\n",
       "0  ဗမာလူမျိုးများအပေါ်မွန်တွေသာ သမိုၚ်းဆိုးတစ်ခုရ...        True   \n",
       "1                ပရောမန်လိက်ဗဿာတီစဝါတ်မံင်ရအ္စာမန်တံ        True   \n",
       "\n",
       "                                           MsgUniSeg LexFound  \\\n",
       "0  ဗမာ လူမျိုး များ အပေါ် မွန် တွေ သာ သ မိုၚ်း ဆိ...   ဗမာတွေ   \n",
       "1    ပ ရော မန် လိက် ဗ ဿာ တီ စ ဝါတ် မံင် ရအ္စာ မန် တံ      NaN   \n",
       "\n",
       "                                             PostURL CovFound  \n",
       "0  https://www.facebook.com/Monstatenews18/posts/...      NaN  \n",
       "1  https://www.facebook.com/Monstatenews18/posts/...      NaN  "
      ]
     },
     "execution_count": 10,
     "metadata": {},
     "output_type": "execute_result"
    }
   ],
   "source": [
    "df['CovFound'] = [l if len(l)>0 else np.NaN for l in x]\n",
    "print(sum(~df.CovFound.isna()))\n",
    "df.head(2)"
   ]
  },
  {
   "cell_type": "code",
   "execution_count": 11,
   "metadata": {},
   "outputs": [
    {
     "name": "stdout",
     "output_type": "stream",
     "text": [
      "(2382, 16)\n"
     ]
    }
   ],
   "source": [
    "dfwcov = df.loc[~df.CovFound.isna(),:]\n",
    "print(dfwcov.shape)"
   ]
  },
  {
   "cell_type": "markdown",
   "metadata": {},
   "source": [
    "## Select Priority FB Pages"
   ]
  },
  {
   "cell_type": "code",
   "execution_count": 12,
   "metadata": {},
   "outputs": [
    {
     "name": "stdout",
     "output_type": "stream",
     "text": [
      "5\n"
     ]
    }
   ],
   "source": [
    "with open('../data/fbpage_priority.csv') as f:\n",
    "    fbpages = tuple([l.strip() for l in f])\n",
    "print(len(fbpages))"
   ]
  },
  {
   "cell_type": "code",
   "execution_count": 42,
   "metadata": {},
   "outputs": [
    {
     "name": "stderr",
     "output_type": "stream",
     "text": [
      "100%|██████████| 38725/38725 [00:00<00:00, 912348.11it/s]\n"
     ]
    }
   ],
   "source": [
    "mask = [str(url).startswith(fbpages) for url in tqdm(df.PostURL)]"
   ]
  },
  {
   "cell_type": "code",
   "execution_count": 43,
   "metadata": {},
   "outputs": [
    {
     "name": "stdout",
     "output_type": "stream",
     "text": [
      "267\n"
     ]
    },
    {
     "data": {
      "text/html": [
       "<div>\n",
       "<style scoped>\n",
       "    .dataframe tbody tr th:only-of-type {\n",
       "        vertical-align: middle;\n",
       "    }\n",
       "\n",
       "    .dataframe tbody tr th {\n",
       "        vertical-align: top;\n",
       "    }\n",
       "\n",
       "    .dataframe thead th {\n",
       "        text-align: right;\n",
       "    }\n",
       "</style>\n",
       "<table border=\"1\" class=\"dataframe\">\n",
       "  <thead>\n",
       "    <tr style=\"text-align: right;\">\n",
       "      <th></th>\n",
       "      <th>cId</th>\n",
       "      <th>nId</th>\n",
       "      <th>Name (click to view profile)</th>\n",
       "      <th>Profile ID</th>\n",
       "      <th>Date</th>\n",
       "      <th>Likes</th>\n",
       "      <th>Comment</th>\n",
       "      <th>(view source)</th>\n",
       "      <th>postId</th>\n",
       "      <th>char_pass</th>\n",
       "      <th>MsgUni</th>\n",
       "      <th>atleast1MM</th>\n",
       "      <th>MsgUniSeg</th>\n",
       "      <th>LexFound</th>\n",
       "      <th>PostURL</th>\n",
       "      <th>CovFound</th>\n",
       "    </tr>\n",
       "  </thead>\n",
       "  <tbody>\n",
       "    <tr>\n",
       "      <th>44854</th>\n",
       "      <td>1</td>\n",
       "      <td>0</td>\n",
       "      <td>Si Thu Aung</td>\n",
       "      <td>ID: 100008337798030</td>\n",
       "      <td>2020-05-05 07:23:33</td>\n",
       "      <td>33</td>\n",
       "      <td>ပြည်သူတွေ ငတ်သေနေပြီ အစိုးရဘာလုပ်နေလဲ ကားဂိတ်တ...</td>\n",
       "      <td>view comment</td>\n",
       "      <td>20200430_0155</td>\n",
       "      <td>True</td>\n",
       "      <td>ပြည်သူတွေ ငတ်သေနေပြီ အစိုးရဘာလုပ်နေလဲ ကားဂိတ်တ...</td>\n",
       "      <td>True</td>\n",
       "      <td>ပြည် သူ တွေ ငတ် သေ နေ ပြီ အစိုးရ ဘာ လုပ် နေ လဲ...</td>\n",
       "      <td>NaN</td>\n",
       "      <td>https://www.facebook.com/VoiceofMyanmarNews/po...</td>\n",
       "      <td>NaN</td>\n",
       "    </tr>\n",
       "    <tr>\n",
       "      <th>44855</th>\n",
       "      <td>1</td>\n",
       "      <td>1</td>\n",
       "      <td>Sithu Aung</td>\n",
       "      <td>ID: 100008619974774</td>\n",
       "      <td>2020-05-05 08:14:10</td>\n",
       "      <td>18</td>\n",
       "      <td>Si Thu Aung အကုန်ကိုဗစ်ကူးတော့ မင်းတာဝန်ယူမလား?</td>\n",
       "      <td>view comment</td>\n",
       "      <td>20200430_0155</td>\n",
       "      <td>True</td>\n",
       "      <td>Si Thu Aung အကုန်ကိုဗစ်ကူးတော့ မင်းတာဝန်ယူမလား?</td>\n",
       "      <td>True</td>\n",
       "      <td>SiThuAung အကုန် ကို ဗစ် ကူး တော့ မင်း တာဝန် ယူ...</td>\n",
       "      <td>NaN</td>\n",
       "      <td>https://www.facebook.com/VoiceofMyanmarNews/po...</td>\n",
       "      <td>NaN</td>\n",
       "    </tr>\n",
       "  </tbody>\n",
       "</table>\n",
       "</div>"
      ],
      "text/plain": [
       "       cId  nId Name (click to view profile)           Profile ID  \\\n",
       "44854    1    0                  Si Thu Aung  ID: 100008337798030   \n",
       "44855    1    1                   Sithu Aung  ID: 100008619974774   \n",
       "\n",
       "                      Date  Likes  \\\n",
       "44854  2020-05-05 07:23:33     33   \n",
       "44855  2020-05-05 08:14:10     18   \n",
       "\n",
       "                                                 Comment (view source)  \\\n",
       "44854  ပြည်သူတွေ ငတ်သေနေပြီ အစိုးရဘာလုပ်နေလဲ ကားဂိတ်တ...  view comment   \n",
       "44855    Si Thu Aung အကုန်ကိုဗစ်ကူးတော့ မင်းတာဝန်ယူမလား?  view comment   \n",
       "\n",
       "              postId  char_pass  \\\n",
       "44854  20200430_0155       True   \n",
       "44855  20200430_0155       True   \n",
       "\n",
       "                                                  MsgUni  atleast1MM  \\\n",
       "44854  ပြည်သူတွေ ငတ်သေနေပြီ အစိုးရဘာလုပ်နေလဲ ကားဂိတ်တ...        True   \n",
       "44855    Si Thu Aung အကုန်ကိုဗစ်ကူးတော့ မင်းတာဝန်ယူမလား?        True   \n",
       "\n",
       "                                               MsgUniSeg LexFound  \\\n",
       "44854  ပြည် သူ တွေ ငတ် သေ နေ ပြီ အစိုးရ ဘာ လုပ် နေ လဲ...      NaN   \n",
       "44855  SiThuAung အကုန် ကို ဗစ် ကူး တော့ မင်း တာဝန် ယူ...      NaN   \n",
       "\n",
       "                                                 PostURL CovFound  \n",
       "44854  https://www.facebook.com/VoiceofMyanmarNews/po...      NaN  \n",
       "44855  https://www.facebook.com/VoiceofMyanmarNews/po...      NaN  "
      ]
     },
     "execution_count": 43,
     "metadata": {},
     "output_type": "execute_result"
    }
   ],
   "source": [
    "print(sum(mask))\n",
    "dfwpg = df.loc[mask, :]\n",
    "dfwpg.head(2)"
   ]
  },
  {
   "cell_type": "markdown",
   "metadata": {},
   "source": [
    "## Select only HS lex"
   ]
  },
  {
   "cell_type": "code",
   "execution_count": 44,
   "metadata": {},
   "outputs": [],
   "source": [
    "dfwlex = df.loc[~df.LexFound.isna(),:]\n",
    "del df"
   ]
  },
  {
   "cell_type": "code",
   "execution_count": 45,
   "metadata": {},
   "outputs": [
    {
     "data": {
      "text/plain": [
       "(965, 16)"
      ]
     },
     "execution_count": 45,
     "metadata": {},
     "output_type": "execute_result"
    }
   ],
   "source": [
    "dfwlex.shape"
   ]
  },
  {
   "cell_type": "markdown",
   "metadata": {},
   "source": [
    "### Let's use only the lexicon from last 2 dates, since the rest had been used multiple times."
   ]
  },
  {
   "cell_type": "code",
   "execution_count": 46,
   "metadata": {},
   "outputs": [
    {
     "name": "stdout",
     "output_type": "stream",
     "text": [
      "111\n",
      "(965, 16)\n"
     ]
    },
    {
     "data": {
      "text/html": [
       "<div>\n",
       "<style scoped>\n",
       "    .dataframe tbody tr th:only-of-type {\n",
       "        vertical-align: middle;\n",
       "    }\n",
       "\n",
       "    .dataframe tbody tr th {\n",
       "        vertical-align: top;\n",
       "    }\n",
       "\n",
       "    .dataframe thead th {\n",
       "        text-align: right;\n",
       "    }\n",
       "</style>\n",
       "<table border=\"1\" class=\"dataframe\">\n",
       "  <thead>\n",
       "    <tr style=\"text-align: right;\">\n",
       "      <th></th>\n",
       "      <th>cId</th>\n",
       "      <th>nId</th>\n",
       "      <th>Name (click to view profile)</th>\n",
       "      <th>Profile ID</th>\n",
       "      <th>Date</th>\n",
       "      <th>Likes</th>\n",
       "      <th>Comment</th>\n",
       "      <th>(view source)</th>\n",
       "      <th>postId</th>\n",
       "      <th>char_pass</th>\n",
       "      <th>MsgUni</th>\n",
       "      <th>atleast1MM</th>\n",
       "      <th>MsgUniSeg</th>\n",
       "      <th>LexFound</th>\n",
       "      <th>PostURL</th>\n",
       "      <th>CovFound</th>\n",
       "    </tr>\n",
       "  </thead>\n",
       "  <tbody>\n",
       "    <tr>\n",
       "      <th>104</th>\n",
       "      <td>17</td>\n",
       "      <td>1</td>\n",
       "      <td>Lay Swe</td>\n",
       "      <td>ID: 100009571638523</td>\n",
       "      <td>2020-05-03 01:53:30</td>\n",
       "      <td>0</td>\n",
       "      <td>U Htun Htun Win ဖွတ်တေတည်းက တိုင်းပြည်ကချမ်းသာ...</td>\n",
       "      <td>view comment</td>\n",
       "      <td>20200430_0301</td>\n",
       "      <td>True</td>\n",
       "      <td>U Htun Htun Win ဖွတ်တေတည်းက တိုင်းပြည်ကချမ်းသာ...</td>\n",
       "      <td>True</td>\n",
       "      <td>UHtunHtunWin ဖွတ် တေ တည်း က တိုင်းပြည် က ချမ်း...</td>\n",
       "      <td>ဖွတ်</td>\n",
       "      <td>https://www.facebook.com/MOIWebportalMyanmar/p...</td>\n",
       "      <td>NaN</td>\n",
       "    </tr>\n",
       "    <tr>\n",
       "      <th>109</th>\n",
       "      <td>17</td>\n",
       "      <td>6</td>\n",
       "      <td>U Htun Htun Win</td>\n",
       "      <td>ID: 100006949516170</td>\n",
       "      <td>2020-05-03 03:14:34</td>\n",
       "      <td>0</td>\n",
       "      <td>Lay Swe ရွှေနန်းထင်တာ ဘာမှမပြောလိုပါ ကိုယ့်အယူ...</td>\n",
       "      <td>view comment</td>\n",
       "      <td>20200430_0301</td>\n",
       "      <td>True</td>\n",
       "      <td>Lay Swe ရွှေနန်းထင်တာ ဘာမှမပြောလိုပါ ကိုယ့်အယူ...</td>\n",
       "      <td>True</td>\n",
       "      <td>LaySwe ရွှေ နန်း ထင် တာ ဘာ မှ မ ပြော လို ပါ ကိ...</td>\n",
       "      <td>သူခိုး~ဖွတ်</td>\n",
       "      <td>https://www.facebook.com/MOIWebportalMyanmar/p...</td>\n",
       "      <td>NaN</td>\n",
       "    </tr>\n",
       "    <tr>\n",
       "      <th>117</th>\n",
       "      <td>24</td>\n",
       "      <td>0</td>\n",
       "      <td>Myat Ko Ko</td>\n",
       "      <td>ID: 100000477604435</td>\n",
       "      <td>2020-05-03 01:21:56</td>\n",
       "      <td>0</td>\n",
       "      <td>ဗမာေတြက ေၾကာတယ္ေျပာတာေပါ့ ဒါေၾကာင့္တိုင္းရင္းသ...</td>\n",
       "      <td>view comment</td>\n",
       "      <td>20200430_0301</td>\n",
       "      <td>True</td>\n",
       "      <td>ဗမာတွေက ကြောတယ်ပြောတာပေါ့ ဒါကြောင့်တိုင်းရင်းသ...</td>\n",
       "      <td>True</td>\n",
       "      <td>ဗမာတွေ က ကြော တယ် ပြော တာ ပေါ့ ဒါ ကြောင့် တိုင...</td>\n",
       "      <td>ဗမာတွေ</td>\n",
       "      <td>https://www.facebook.com/MOIWebportalMyanmar/p...</td>\n",
       "      <td>NaN</td>\n",
       "    </tr>\n",
       "    <tr>\n",
       "      <th>139</th>\n",
       "      <td>38</td>\n",
       "      <td>0</td>\n",
       "      <td>Yin Minhtun</td>\n",
       "      <td>ID: 100011171671188</td>\n",
       "      <td>2020-05-03 01:44:22</td>\n",
       "      <td>1</td>\n",
       "      <td>ဒေါ်စု တစ်နေ့ သေးဘယ်နှစ်ကြိမ်ပေါက် ချီးဘယ်နှစ်...</td>\n",
       "      <td>view comment</td>\n",
       "      <td>20200430_0301</td>\n",
       "      <td>True</td>\n",
       "      <td>ဒေါ်စု တစ်နေ့ သေးဘယ်နှစ်ကြိမ်ပေါက် ချီးဘယ်နှစ်...</td>\n",
       "      <td>True</td>\n",
       "      <td>ဒေါ် စု တစ်နေ့ သေး ဘယ်နှစ် ကြိမ် ပေါက် ချီး ဘယ...</td>\n",
       "      <td>နီပေါ</td>\n",
       "      <td>https://www.facebook.com/MOIWebportalMyanmar/p...</td>\n",
       "      <td>NaN</td>\n",
       "    </tr>\n",
       "    <tr>\n",
       "      <th>169</th>\n",
       "      <td>57</td>\n",
       "      <td>2</td>\n",
       "      <td>Soe Thu Myo</td>\n",
       "      <td>ID: 100024693242076</td>\n",
       "      <td>2020-05-03 02:57:07</td>\n",
       "      <td>0</td>\n",
       "      <td>ဖြတ္ေတြကေတာ့ ငိုသံႀကီးနဲ႔ေျပာေနၾကၿပီးသနားလိုက္...</td>\n",
       "      <td>view comment</td>\n",
       "      <td>20200430_0301</td>\n",
       "      <td>True</td>\n",
       "      <td>ဖွတ်တွေကတော့ ငိုသံကြီးနဲ့ပြောနေကြပြီးသနားလိုက်...</td>\n",
       "      <td>True</td>\n",
       "      <td>ဖွတ် တွေ ကတော့ ငို သံကြီး နဲ့ ပြော နေ ကြ ပြီး ...</td>\n",
       "      <td>ဖွတ်</td>\n",
       "      <td>https://www.facebook.com/MOIWebportalMyanmar/p...</td>\n",
       "      <td>NaN</td>\n",
       "    </tr>\n",
       "  </tbody>\n",
       "</table>\n",
       "</div>"
      ],
      "text/plain": [
       "     cId  nId Name (click to view profile)           Profile ID  \\\n",
       "104   17    1                      Lay Swe  ID: 100009571638523   \n",
       "109   17    6              U Htun Htun Win  ID: 100006949516170   \n",
       "117   24    0                   Myat Ko Ko  ID: 100000477604435   \n",
       "139   38    0                  Yin Minhtun  ID: 100011171671188   \n",
       "169   57    2                  Soe Thu Myo  ID: 100024693242076   \n",
       "\n",
       "                    Date  Likes  \\\n",
       "104  2020-05-03 01:53:30      0   \n",
       "109  2020-05-03 03:14:34      0   \n",
       "117  2020-05-03 01:21:56      0   \n",
       "139  2020-05-03 01:44:22      1   \n",
       "169  2020-05-03 02:57:07      0   \n",
       "\n",
       "                                               Comment (view source)  \\\n",
       "104  U Htun Htun Win ဖွတ်တေတည်းက တိုင်းပြည်ကချမ်းသာ...  view comment   \n",
       "109  Lay Swe ရွှေနန်းထင်တာ ဘာမှမပြောလိုပါ ကိုယ့်အယူ...  view comment   \n",
       "117  ဗမာေတြက ေၾကာတယ္ေျပာတာေပါ့ ဒါေၾကာင့္တိုင္းရင္းသ...  view comment   \n",
       "139  ဒေါ်စု တစ်နေ့ သေးဘယ်နှစ်ကြိမ်ပေါက် ချီးဘယ်နှစ်...  view comment   \n",
       "169  ဖြတ္ေတြကေတာ့ ငိုသံႀကီးနဲ႔ေျပာေနၾကၿပီးသနားလိုက္...  view comment   \n",
       "\n",
       "            postId  char_pass  \\\n",
       "104  20200430_0301       True   \n",
       "109  20200430_0301       True   \n",
       "117  20200430_0301       True   \n",
       "139  20200430_0301       True   \n",
       "169  20200430_0301       True   \n",
       "\n",
       "                                                MsgUni  atleast1MM  \\\n",
       "104  U Htun Htun Win ဖွတ်တေတည်းက တိုင်းပြည်ကချမ်းသာ...        True   \n",
       "109  Lay Swe ရွှေနန်းထင်တာ ဘာမှမပြောလိုပါ ကိုယ့်အယူ...        True   \n",
       "117  ဗမာတွေက ကြောတယ်ပြောတာပေါ့ ဒါကြောင့်တိုင်းရင်းသ...        True   \n",
       "139  ဒေါ်စု တစ်နေ့ သေးဘယ်နှစ်ကြိမ်ပေါက် ချီးဘယ်နှစ်...        True   \n",
       "169  ဖွတ်တွေကတော့ ငိုသံကြီးနဲ့ပြောနေကြပြီးသနားလိုက်...        True   \n",
       "\n",
       "                                             MsgUniSeg     LexFound  \\\n",
       "104  UHtunHtunWin ဖွတ် တေ တည်း က တိုင်းပြည် က ချမ်း...         ဖွတ်   \n",
       "109  LaySwe ရွှေ နန်း ထင် တာ ဘာ မှ မ ပြော လို ပါ ကိ...  သူခိုး~ဖွတ်   \n",
       "117  ဗမာတွေ က ကြော တယ် ပြော တာ ပေါ့ ဒါ ကြောင့် တိုင...       ဗမာတွေ   \n",
       "139  ဒေါ် စု တစ်နေ့ သေး ဘယ်နှစ် ကြိမ် ပေါက် ချီး ဘယ...        နီပေါ   \n",
       "169  ဖွတ် တွေ ကတော့ ငို သံကြီး နဲ့ ပြော နေ ကြ ပြီး ...         ဖွတ်   \n",
       "\n",
       "                                               PostURL CovFound  \n",
       "104  https://www.facebook.com/MOIWebportalMyanmar/p...      NaN  \n",
       "109  https://www.facebook.com/MOIWebportalMyanmar/p...      NaN  \n",
       "117  https://www.facebook.com/MOIWebportalMyanmar/p...      NaN  \n",
       "139  https://www.facebook.com/MOIWebportalMyanmar/p...      NaN  \n",
       "169  https://www.facebook.com/MOIWebportalMyanmar/p...      NaN  "
      ]
     },
     "execution_count": 46,
     "metadata": {},
     "output_type": "execute_result"
    }
   ],
   "source": [
    "# import sys\n",
    "# sys.path.append('/home/bupi/Documents/pdy/hs/hsle/src/HsleCandidateGenerationUtils.py')\n",
    "import HsleCandidateGenerationUtils as hsle\n",
    "from importlib import reload  \n",
    "reload(hsle)\n",
    "\n",
    "lexset = hsle.LoadLexiconSet(take_last_ndates=False, n=None, has_downloaded=True)\n",
    "print(len(lexset))\n",
    "dfwlex = dfwlex.loc[[any(l in lf for l in lexset) for lf in dfwlex.LexFound],:]\n",
    "print(dfwlex.shape)\n",
    "dfwlex.head()"
   ]
  },
  {
   "cell_type": "code",
   "execution_count": 47,
   "metadata": {},
   "outputs": [],
   "source": [
    "# from collections.abc import Iterable\n",
    "\n",
    "# dfwlex['CovFound'] = [';'.join(x) if isinstance(x, Iterable) else '' for x in dfwlex.CovFound]\n",
    "# dfwcov['CovFound'] = [';'.join(x) if isinstance(x, Iterable) else '' for x in dfwcov.CovFound]\n",
    "# dfwcov['CovFound'] = dfwcov.CovFound.fillna('')\n",
    "# dfwlex['postId'] = dfwlex.postId.astype(str)\n",
    "# dfwcov['postId'] = dfwlex.postId.astype(str)\n",
    "# dfwlex['cId'] = dfwlex.postId.astype(str)\n",
    "# dfwcov['cId'] = dfwlex.postId.astype(str)\n",
    "# dfwlex['nId'] = dfwlex.postId.astype(str)\n",
    "# dfwcov['nId'] = dfwlex.postId.astype(str)"
   ]
  },
  {
   "cell_type": "code",
   "execution_count": 48,
   "metadata": {},
   "outputs": [
    {
     "data": {
      "text/plain": [
       "(97, 29)"
      ]
     },
     "execution_count": 48,
     "metadata": {},
     "output_type": "execute_result"
    }
   ],
   "source": [
    "dfj = dfwlex.merge(dfwcov, on=['postId','cId','nId'], how='inner')\n",
    "dfj.shape"
   ]
  },
  {
   "cell_type": "code",
   "execution_count": 49,
   "metadata": {},
   "outputs": [
    {
     "data": {
      "text/plain": [
       "Index(['cId', 'nId', 'Name (click to view profile)', 'Profile ID', 'Date',\n",
       "       'Likes', 'Comment', '(view source)', 'postId', 'char_pass', 'MsgUni',\n",
       "       'atleast1MM', 'MsgUniSeg', 'LexFound', 'PostURL', 'CovFound'],\n",
       "      dtype='object')"
      ]
     },
     "execution_count": 49,
     "metadata": {},
     "output_type": "execute_result"
    }
   ],
   "source": [
    "# fix col names after merging\n",
    "dfj = dfj[[c for c in dfj.columns if not c.endswith('_y')]]\n",
    "dfj.columns = [c.rstrip('_x') for c in dfj.columns]\n",
    "dfj.columns"
   ]
  },
  {
   "cell_type": "markdown",
   "metadata": {},
   "source": [
    "## Get more data from dfwlex since there isn't enough"
   ]
  },
  {
   "cell_type": "code",
   "execution_count": 50,
   "metadata": {},
   "outputs": [
    {
     "name": "stdout",
     "output_type": "stream",
     "text": [
      "(868, 17)\n"
     ]
    },
    {
     "data": {
      "text/html": [
       "<div>\n",
       "<style scoped>\n",
       "    .dataframe tbody tr th:only-of-type {\n",
       "        vertical-align: middle;\n",
       "    }\n",
       "\n",
       "    .dataframe tbody tr th {\n",
       "        vertical-align: top;\n",
       "    }\n",
       "\n",
       "    .dataframe thead th {\n",
       "        text-align: right;\n",
       "    }\n",
       "</style>\n",
       "<table border=\"1\" class=\"dataframe\">\n",
       "  <thead>\n",
       "    <tr style=\"text-align: right;\">\n",
       "      <th></th>\n",
       "      <th>cId</th>\n",
       "      <th>nId</th>\n",
       "      <th>Name (click to view profile)</th>\n",
       "      <th>Profile ID</th>\n",
       "      <th>Date</th>\n",
       "      <th>Likes</th>\n",
       "      <th>Comment</th>\n",
       "      <th>(view source)</th>\n",
       "      <th>postId</th>\n",
       "      <th>char_pass</th>\n",
       "      <th>MsgUni</th>\n",
       "      <th>atleast1MM</th>\n",
       "      <th>MsgUniSeg</th>\n",
       "      <th>LexFound</th>\n",
       "      <th>PostURL</th>\n",
       "      <th>CovFound</th>\n",
       "      <th>bigId</th>\n",
       "    </tr>\n",
       "  </thead>\n",
       "  <tbody>\n",
       "    <tr>\n",
       "      <th>104</th>\n",
       "      <td>17</td>\n",
       "      <td>1</td>\n",
       "      <td>Lay Swe</td>\n",
       "      <td>ID: 100009571638523</td>\n",
       "      <td>2020-05-03 01:53:30</td>\n",
       "      <td>0</td>\n",
       "      <td>U Htun Htun Win ဖွတ်တေတည်းက တိုင်းပြည်ကချမ်းသာ...</td>\n",
       "      <td>view comment</td>\n",
       "      <td>20200430_0301</td>\n",
       "      <td>True</td>\n",
       "      <td>U Htun Htun Win ဖွတ်တေတည်းက တိုင်းပြည်ကချမ်းသာ...</td>\n",
       "      <td>True</td>\n",
       "      <td>UHtunHtunWin ဖွတ် တေ တည်း က တိုင်းပြည် က ချမ်း...</td>\n",
       "      <td>ဖွတ်</td>\n",
       "      <td>https://www.facebook.com/MOIWebportalMyanmar/p...</td>\n",
       "      <td>NaN</td>\n",
       "      <td>20200430_0301-17-1</td>\n",
       "    </tr>\n",
       "    <tr>\n",
       "      <th>109</th>\n",
       "      <td>17</td>\n",
       "      <td>6</td>\n",
       "      <td>U Htun Htun Win</td>\n",
       "      <td>ID: 100006949516170</td>\n",
       "      <td>2020-05-03 03:14:34</td>\n",
       "      <td>0</td>\n",
       "      <td>Lay Swe ရွှေနန်းထင်တာ ဘာမှမပြောလိုပါ ကိုယ့်အယူ...</td>\n",
       "      <td>view comment</td>\n",
       "      <td>20200430_0301</td>\n",
       "      <td>True</td>\n",
       "      <td>Lay Swe ရွှေနန်းထင်တာ ဘာမှမပြောလိုပါ ကိုယ့်အယူ...</td>\n",
       "      <td>True</td>\n",
       "      <td>LaySwe ရွှေ နန်း ထင် တာ ဘာ မှ မ ပြော လို ပါ ကိ...</td>\n",
       "      <td>သူခိုး~ဖွတ်</td>\n",
       "      <td>https://www.facebook.com/MOIWebportalMyanmar/p...</td>\n",
       "      <td>NaN</td>\n",
       "      <td>20200430_0301-17-6</td>\n",
       "    </tr>\n",
       "  </tbody>\n",
       "</table>\n",
       "</div>"
      ],
      "text/plain": [
       "     cId  nId Name (click to view profile)           Profile ID  \\\n",
       "104   17    1                      Lay Swe  ID: 100009571638523   \n",
       "109   17    6              U Htun Htun Win  ID: 100006949516170   \n",
       "\n",
       "                    Date  Likes  \\\n",
       "104  2020-05-03 01:53:30      0   \n",
       "109  2020-05-03 03:14:34      0   \n",
       "\n",
       "                                               Comment (view source)  \\\n",
       "104  U Htun Htun Win ဖွတ်တေတည်းက တိုင်းပြည်ကချမ်းသာ...  view comment   \n",
       "109  Lay Swe ရွှေနန်းထင်တာ ဘာမှမပြောလိုပါ ကိုယ့်အယူ...  view comment   \n",
       "\n",
       "            postId  char_pass  \\\n",
       "104  20200430_0301       True   \n",
       "109  20200430_0301       True   \n",
       "\n",
       "                                                MsgUni  atleast1MM  \\\n",
       "104  U Htun Htun Win ဖွတ်တေတည်းက တိုင်းပြည်ကချမ်းသာ...        True   \n",
       "109  Lay Swe ရွှေနန်းထင်တာ ဘာမှမပြောလိုပါ ကိုယ့်အယူ...        True   \n",
       "\n",
       "                                             MsgUniSeg     LexFound  \\\n",
       "104  UHtunHtunWin ဖွတ် တေ တည်း က တိုင်းပြည် က ချမ်း...         ဖွတ်   \n",
       "109  LaySwe ရွှေ နန်း ထင် တာ ဘာ မှ မ ပြော လို ပါ ကိ...  သူခိုး~ဖွတ်   \n",
       "\n",
       "                                               PostURL CovFound  \\\n",
       "104  https://www.facebook.com/MOIWebportalMyanmar/p...      NaN   \n",
       "109  https://www.facebook.com/MOIWebportalMyanmar/p...      NaN   \n",
       "\n",
       "                  bigId  \n",
       "104  20200430_0301-17-1  \n",
       "109  20200430_0301-17-6  "
      ]
     },
     "execution_count": 50,
     "metadata": {},
     "output_type": "execute_result"
    }
   ],
   "source": [
    "# remove already selected\n",
    "# `bigId` is to join\n",
    "dfwlex['bigId'] = ['{}-{}-{}'.format(p,c,n) for p,c,n in zip(dfwlex.postId,dfwlex.cId,dfwlex.nId)]\n",
    "dfj['bigId'] = ['{}-{}-{}'.format(p,c,n) for p,c,n in zip(dfj.postId,dfj.cId,dfj.nId)]\n",
    "dfdiff = dfwlex.loc[~dfwlex.bigId.isin(dfj.bigId),:] # only dfwlex items that are not in dfj\n",
    "print(dfdiff.shape)\n",
    "dfdiff.head(2)"
   ]
  },
  {
   "cell_type": "markdown",
   "metadata": {},
   "source": [
    "### Sort them by number of lex found"
   ]
  },
  {
   "cell_type": "code",
   "execution_count": 51,
   "metadata": {},
   "outputs": [
    {
     "data": {
      "text/html": [
       "<div>\n",
       "<style scoped>\n",
       "    .dataframe tbody tr th:only-of-type {\n",
       "        vertical-align: middle;\n",
       "    }\n",
       "\n",
       "    .dataframe tbody tr th {\n",
       "        vertical-align: top;\n",
       "    }\n",
       "\n",
       "    .dataframe thead th {\n",
       "        text-align: right;\n",
       "    }\n",
       "</style>\n",
       "<table border=\"1\" class=\"dataframe\">\n",
       "  <thead>\n",
       "    <tr style=\"text-align: right;\">\n",
       "      <th></th>\n",
       "      <th>cId</th>\n",
       "      <th>nId</th>\n",
       "      <th>Name (click to view profile)</th>\n",
       "      <th>Profile ID</th>\n",
       "      <th>Date</th>\n",
       "      <th>Likes</th>\n",
       "      <th>Comment</th>\n",
       "      <th>(view source)</th>\n",
       "      <th>postId</th>\n",
       "      <th>char_pass</th>\n",
       "      <th>MsgUni</th>\n",
       "      <th>atleast1MM</th>\n",
       "      <th>MsgUniSeg</th>\n",
       "      <th>LexFound</th>\n",
       "      <th>PostURL</th>\n",
       "      <th>CovFound</th>\n",
       "      <th>bigId</th>\n",
       "      <th>lex_count</th>\n",
       "    </tr>\n",
       "  </thead>\n",
       "  <tbody>\n",
       "    <tr>\n",
       "      <th>56044</th>\n",
       "      <td>3</td>\n",
       "      <td>24</td>\n",
       "      <td>ထြန္းလင္း</td>\n",
       "      <td>ID: 100004399951107</td>\n",
       "      <td>2020-05-04 14:54:21</td>\n",
       "      <td>0</td>\n",
       "      <td>Ko Lu Yoe မအေလိုးစစ်ခွေးပီသတယ် မင်းပထွေးခန့်ထာ...</td>\n",
       "      <td>view comment</td>\n",
       "      <td>20200430_0157</td>\n",
       "      <td>True</td>\n",
       "      <td>Ko Lu Yoe မအေလိုးစစ်ခွေးပီသတယ် မင်းပထွေးခန့်ထာ...</td>\n",
       "      <td>True</td>\n",
       "      <td>KoLuYoe မအေ လိုး စစ်ခွေး ပီသ တယ် မင်း ပထွေး ခန...</td>\n",
       "      <td>သူခိုး~စစ်အာဏာရှင်~စစ်ခွေး~ဖွတ်</td>\n",
       "      <td>https://www.facebook.com/NewsWatchJournal/post...</td>\n",
       "      <td>NaN</td>\n",
       "      <td>20200430_0157-3-24</td>\n",
       "      <td>4</td>\n",
       "    </tr>\n",
       "    <tr>\n",
       "      <th>9613</th>\n",
       "      <td>246</td>\n",
       "      <td>0</td>\n",
       "      <td>Aung Thu</td>\n",
       "      <td>ID: 100009409537010</td>\n",
       "      <td>2020-05-02 15:50:04</td>\n",
       "      <td>0</td>\n",
       "      <td>မင်းတိုစ်ဖွတ်လုပ်စားခွေးသားများသည်အောက်တန်းစား...</td>\n",
       "      <td>view comment</td>\n",
       "      <td>20200430_0054</td>\n",
       "      <td>True</td>\n",
       "      <td>မင်းတိုစ်ဖွတ်လုပ်စားခွေးသားများသည်အောက်တန်းစား...</td>\n",
       "      <td>True</td>\n",
       "      <td>မင်း တိုစ် ဖွတ် လုပ်စား ခွေးသား များသည် အောက်တ...</td>\n",
       "      <td>သူခိုး~အောက်တန်းစား~ခွေးသား~ဖွတ်</td>\n",
       "      <td>https://www.facebook.com/MizzimaDaily/posts/32...</td>\n",
       "      <td>NaN</td>\n",
       "      <td>20200430_0054-246-0</td>\n",
       "      <td>4</td>\n",
       "    </tr>\n",
       "  </tbody>\n",
       "</table>\n",
       "</div>"
      ],
      "text/plain": [
       "       cId  nId Name (click to view profile)           Profile ID  \\\n",
       "56044    3   24                    ထြန္းလင္း  ID: 100004399951107   \n",
       "9613   246    0                     Aung Thu  ID: 100009409537010   \n",
       "\n",
       "                      Date  Likes  \\\n",
       "56044  2020-05-04 14:54:21      0   \n",
       "9613   2020-05-02 15:50:04      0   \n",
       "\n",
       "                                                 Comment (view source)  \\\n",
       "56044  Ko Lu Yoe မအေလိုးစစ်ခွေးပီသတယ် မင်းပထွေးခန့်ထာ...  view comment   \n",
       "9613   မင်းတိုစ်ဖွတ်လုပ်စားခွေးသားများသည်အောက်တန်းစား...  view comment   \n",
       "\n",
       "              postId  char_pass  \\\n",
       "56044  20200430_0157       True   \n",
       "9613   20200430_0054       True   \n",
       "\n",
       "                                                  MsgUni  atleast1MM  \\\n",
       "56044  Ko Lu Yoe မအေလိုးစစ်ခွေးပီသတယ် မင်းပထွေးခန့်ထာ...        True   \n",
       "9613   မင်းတိုစ်ဖွတ်လုပ်စားခွေးသားများသည်အောက်တန်းစား...        True   \n",
       "\n",
       "                                               MsgUniSeg  \\\n",
       "56044  KoLuYoe မအေ လိုး စစ်ခွေး ပီသ တယ် မင်း ပထွေး ခန...   \n",
       "9613   မင်း တိုစ် ဖွတ် လုပ်စား ခွေးသား များသည် အောက်တ...   \n",
       "\n",
       "                               LexFound  \\\n",
       "56044   သူခိုး~စစ်အာဏာရှင်~စစ်ခွေး~ဖွတ်   \n",
       "9613   သူခိုး~အောက်တန်းစား~ခွေးသား~ဖွတ်   \n",
       "\n",
       "                                                 PostURL CovFound  \\\n",
       "56044  https://www.facebook.com/NewsWatchJournal/post...      NaN   \n",
       "9613   https://www.facebook.com/MizzimaDaily/posts/32...      NaN   \n",
       "\n",
       "                     bigId  lex_count  \n",
       "56044   20200430_0157-3-24          4  \n",
       "9613   20200430_0054-246-0          4  "
      ]
     },
     "execution_count": 51,
     "metadata": {},
     "output_type": "execute_result"
    }
   ],
   "source": [
    "dfdiff['lex_count'] = [l.count('~')+1 for l in dfdiff.LexFound]\n",
    "dfdiff.sort_values('lex_count', ascending=False, inplace=True)\n",
    "dfdiff.head(2)"
   ]
  },
  {
   "cell_type": "markdown",
   "metadata": {},
   "source": [
    "### Now we just have to take top N from `dfdiff`\n",
    "## Flatten!"
   ]
  },
  {
   "cell_type": "code",
   "execution_count": 52,
   "metadata": {},
   "outputs": [
    {
     "name": "stdout",
     "output_type": "stream",
     "text": [
      "(500, 17)\n"
     ]
    }
   ],
   "source": [
    "DesiredN = 500\n",
    "dfdiff = dfdiff[dfj.columns]\n",
    "dfj_ = dfj\n",
    "dfj = pd.concat([dfj, dfdiff.iloc[:DesiredN-dfj.shape[0],:]])\n",
    "print(dfj.shape)"
   ]
  },
  {
   "cell_type": "code",
   "execution_count": 53,
   "metadata": {},
   "outputs": [
    {
     "name": "stdout",
     "output_type": "stream",
     "text": [
      "(500, 17)\n",
      "(500, 10)\n",
      "(493, 11)\n"
     ]
    },
    {
     "data": {
      "text/html": [
       "<div>\n",
       "<style scoped>\n",
       "    .dataframe tbody tr th:only-of-type {\n",
       "        vertical-align: middle;\n",
       "    }\n",
       "\n",
       "    .dataframe tbody tr th {\n",
       "        vertical-align: top;\n",
       "    }\n",
       "\n",
       "    .dataframe thead th {\n",
       "        text-align: right;\n",
       "    }\n",
       "</style>\n",
       "<table border=\"1\" class=\"dataframe\">\n",
       "  <thead>\n",
       "    <tr style=\"text-align: right;\">\n",
       "      <th></th>\n",
       "      <th>LexFound</th>\n",
       "      <th>postId</th>\n",
       "      <th>cId</th>\n",
       "      <th>nId</th>\n",
       "      <th>MsgUniSeg</th>\n",
       "      <th>Profile ID</th>\n",
       "      <th>PostURL</th>\n",
       "      <th>CovFound</th>\n",
       "      <th>date</th>\n",
       "      <th>time</th>\n",
       "      <th>ProfileUrl</th>\n",
       "    </tr>\n",
       "  </thead>\n",
       "  <tbody>\n",
       "    <tr>\n",
       "      <th>0</th>\n",
       "      <td>သူခိုး</td>\n",
       "      <td>20200430_0200</td>\n",
       "      <td>11</td>\n",
       "      <td>0</td>\n",
       "      <td>ကျပ် ငွေ 200000( ၂ သိန်း ) ကို ဖုန်း လေး တစ် ခ...</td>\n",
       "      <td>ID: 100043931886875</td>\n",
       "      <td>https://www.facebook.com/yangonregiongovernmen...</td>\n",
       "      <td>covid</td>\n",
       "      <td>2020-05-06</td>\n",
       "      <td>19:03:54</td>\n",
       "      <td>https://www.facebook.com/profile.php?id=100043...</td>\n",
       "    </tr>\n",
       "    <tr>\n",
       "      <th>1</th>\n",
       "      <td>မြို့သား</td>\n",
       "      <td>20200430_0055</td>\n",
       "      <td>15</td>\n",
       "      <td>0</td>\n",
       "      <td>ကျွန်မ က မြ ဝ တီ သူမ ဟုတ် ပါ ဘူး ။ ရန် ကုန် က ...</td>\n",
       "      <td>ID: 100045639997751</td>\n",
       "      <td>https://www.facebook.com/1233832270078079/post...</td>\n",
       "      <td>မြို့သား</td>\n",
       "      <td>2020-05-03</td>\n",
       "      <td>04:11:45</td>\n",
       "      <td>https://www.facebook.com/profile.php?id=100045...</td>\n",
       "    </tr>\n",
       "    <tr>\n",
       "      <th>2</th>\n",
       "      <td>မြို့သား</td>\n",
       "      <td>20200430_0055</td>\n",
       "      <td>98</td>\n",
       "      <td>0</td>\n",
       "      <td>အဓိက က မြို့ ရဲ့ ဂုဏ်သိက္ခာ နစ်နာ တယ် ရောဂါကပ်...</td>\n",
       "      <td>ID: 100005686590684</td>\n",
       "      <td>https://www.facebook.com/1233832270078079/post...</td>\n",
       "      <td>မြို့သား~ရောဂါ</td>\n",
       "      <td>2020-05-03</td>\n",
       "      <td>07:28:36</td>\n",
       "      <td>https://www.facebook.com/profile.php?id=100005...</td>\n",
       "    </tr>\n",
       "  </tbody>\n",
       "</table>\n",
       "</div>"
      ],
      "text/plain": [
       "   LexFound         postId  cId  nId  \\\n",
       "0    သူခိုး  20200430_0200   11    0   \n",
       "1  မြို့သား  20200430_0055   15    0   \n",
       "2  မြို့သား  20200430_0055   98    0   \n",
       "\n",
       "                                           MsgUniSeg           Profile ID  \\\n",
       "0  ကျပ် ငွေ 200000( ၂ သိန်း ) ကို ဖုန်း လေး တစ် ခ...  ID: 100043931886875   \n",
       "1  ကျွန်မ က မြ ဝ တီ သူမ ဟုတ် ပါ ဘူး ။ ရန် ကုန် က ...  ID: 100045639997751   \n",
       "2  အဓိက က မြို့ ရဲ့ ဂုဏ်သိက္ခာ နစ်နာ တယ် ရောဂါကပ်...  ID: 100005686590684   \n",
       "\n",
       "                                             PostURL        CovFound  \\\n",
       "0  https://www.facebook.com/yangonregiongovernmen...           covid   \n",
       "1  https://www.facebook.com/1233832270078079/post...        မြို့သား   \n",
       "2  https://www.facebook.com/1233832270078079/post...  မြို့သား~ရောဂါ   \n",
       "\n",
       "         date      time                                         ProfileUrl  \n",
       "0  2020-05-06  19:03:54  https://www.facebook.com/profile.php?id=100043...  \n",
       "1  2020-05-03  04:11:45  https://www.facebook.com/profile.php?id=100045...  \n",
       "2  2020-05-03  07:28:36  https://www.facebook.com/profile.php?id=100005...  "
      ]
     },
     "execution_count": 53,
     "metadata": {},
     "output_type": "execute_result"
    }
   ],
   "source": [
    "print(dfj.shape)\n",
    "cols = ['LexFound','postId','cId','nId','MsgUniSeg','Profile ID','PostURL','Date','CovFound']\n",
    "dfx = dfj.loc[:,cols]\n",
    "dfx['date'] = [d.split()[0] for d in dfx.Date]\n",
    "dfx['time'] = [d.split()[1] for d in dfx.Date]\n",
    "dfx.drop('Date', axis=1, inplace=True)\n",
    "print(dfx.shape)\n",
    "dfx.drop_duplicates(['MsgUniSeg'], inplace=True)\n",
    "dfx['ProfileUrl'] = ['{}{}'.format(URL_PREFIX, i.split()[-1]) for i in dfx['Profile ID']]\n",
    "print(dfx.shape)\n",
    "dfx.head(3)"
   ]
  },
  {
   "cell_type": "code",
   "execution_count": 54,
   "metadata": {},
   "outputs": [
    {
     "name": "stderr",
     "output_type": "stream",
     "text": [
      "100%|██████████| 493/493 [00:00<00:00, 768.13it/s](589, 11)\n",
      "save First\n",
      "\n"
     ]
    }
   ],
   "source": [
    "dflat = pd.DataFrame(index=dfx.columns)\n",
    "dfextra = pd.DataFrame(index=dfx.columns)\n",
    "total = 0\n",
    "for k in tqdm(range(dfx.shape[0])):\n",
    "    if '~' not in dfx.iloc[k,0]: # 0 is LexFound\n",
    "        dflat[k] = dfx.iloc[k,:].values\n",
    "        total += 1\n",
    "    else:\n",
    "        lexes = dfx.iloc[k,0].split('~')\n",
    "        tmp = dfx.iloc[k,:]\n",
    "        for lex in lexes:\n",
    "            tmp['LexFound'] = lex\n",
    "            K = dfextra.columns.max()+1\n",
    "            K = 0 if np.isnan(K) else K\n",
    "            dfextra[K] = tmp\n",
    "            total += 1\n",
    "        del tmp\n",
    "dflat = dflat.T\n",
    "dfextra = dfextra.T\n",
    "\n",
    "dflat = pd.concat([dflat,dfextra])\n",
    "print(dflat.shape)\n",
    "print('save First')\n",
    "dflat.to_csv(\n",
    "    '../data/to-annotate/{}_all.csv'.format(COMMENT_FILES_FOLDER.split('/')[-1]),\n",
    "    index=False)"
   ]
  },
  {
   "cell_type": "code",
   "execution_count": 55,
   "metadata": {},
   "outputs": [
    {
     "data": {
      "text/plain": [
       "2"
      ]
     },
     "execution_count": 55,
     "metadata": {},
     "output_type": "execute_result"
    }
   ],
   "source": [
    "mask = [url.startswith(fbpages) for url in dflat.PostURL]\n",
    "sum(mask)"
   ]
  },
  {
   "cell_type": "code",
   "execution_count": 56,
   "metadata": {},
   "outputs": [],
   "source": [
    "# dflat.iloc[:339].to_csv(\n",
    "#     '../data/to-annotate/{}_339.csv'.format(dflat.postId.values[0].split('_')[0]),\n",
    "#     index=False)"
   ]
  },
  {
   "cell_type": "code",
   "execution_count": 57,
   "metadata": {},
   "outputs": [],
   "source": [
    "## Only take 10 per lex ## not needed since we need more sentences\n",
    "# # max 10 per lexicon\n",
    "# dfnew = []\n",
    "# for lex in dflat.LexFound.unique():\n",
    "#     dfnew.append(dflat.loc[dflat.LexFound==lex,:].iloc[:30])\n",
    "# dfnew = pd.concat(dfnew).sort_values('LexFound', ascending=True)"
   ]
  },
  {
   "cell_type": "code",
   "execution_count": 58,
   "metadata": {},
   "outputs": [],
   "source": [
    "# print(dfnew.shape)\n",
    "# dfnew.head(2)"
   ]
  },
  {
   "cell_type": "markdown",
   "metadata": {},
   "source": [
    "## Combine with Priority FB Page Data"
   ]
  },
  {
   "cell_type": "code",
   "execution_count": 59,
   "metadata": {},
   "outputs": [],
   "source": [
    "dfwpg = dfwpg[['LexFound','postId','cId','nId','MsgUniSeg','Profile ID','PostURL','Date']]"
   ]
  },
  {
   "cell_type": "code",
   "execution_count": 60,
   "metadata": {},
   "outputs": [
    {
     "name": "stdout",
     "output_type": "stream",
     "text": [
      "(267, 11)\n"
     ]
    },
    {
     "data": {
      "text/html": [
       "<div>\n",
       "<style scoped>\n",
       "    .dataframe tbody tr th:only-of-type {\n",
       "        vertical-align: middle;\n",
       "    }\n",
       "\n",
       "    .dataframe tbody tr th {\n",
       "        vertical-align: top;\n",
       "    }\n",
       "\n",
       "    .dataframe thead th {\n",
       "        text-align: right;\n",
       "    }\n",
       "</style>\n",
       "<table border=\"1\" class=\"dataframe\">\n",
       "  <thead>\n",
       "    <tr style=\"text-align: right;\">\n",
       "      <th></th>\n",
       "      <th>LexFound</th>\n",
       "      <th>postId</th>\n",
       "      <th>cId</th>\n",
       "      <th>nId</th>\n",
       "      <th>MsgUniSeg</th>\n",
       "      <th>Profile ID</th>\n",
       "      <th>PostURL</th>\n",
       "      <th>Date</th>\n",
       "      <th>date</th>\n",
       "      <th>time</th>\n",
       "      <th>ProfileUrl</th>\n",
       "    </tr>\n",
       "  </thead>\n",
       "  <tbody>\n",
       "    <tr>\n",
       "      <th>44854</th>\n",
       "      <td>NaN</td>\n",
       "      <td>20200430_0155</td>\n",
       "      <td>1</td>\n",
       "      <td>0</td>\n",
       "      <td>ပြည် သူ တွေ ငတ် သေ နေ ပြီ အစိုးရ ဘာ လုပ် နေ လဲ...</td>\n",
       "      <td>ID: 100008337798030</td>\n",
       "      <td>https://www.facebook.com/VoiceofMyanmarNews/po...</td>\n",
       "      <td>2020-05-05 07:23:33</td>\n",
       "      <td>2020-05-05</td>\n",
       "      <td>07:23:33</td>\n",
       "      <td>https://www.facebook.com/profile.php?id=100008...</td>\n",
       "    </tr>\n",
       "    <tr>\n",
       "      <th>44855</th>\n",
       "      <td>NaN</td>\n",
       "      <td>20200430_0155</td>\n",
       "      <td>1</td>\n",
       "      <td>1</td>\n",
       "      <td>SiThuAung အကုန် ကို ဗစ် ကူး တော့ မင်း တာဝန် ယူ...</td>\n",
       "      <td>ID: 100008619974774</td>\n",
       "      <td>https://www.facebook.com/VoiceofMyanmarNews/po...</td>\n",
       "      <td>2020-05-05 08:14:10</td>\n",
       "      <td>2020-05-05</td>\n",
       "      <td>08:14:10</td>\n",
       "      <td>https://www.facebook.com/profile.php?id=100008...</td>\n",
       "    </tr>\n",
       "  </tbody>\n",
       "</table>\n",
       "</div>"
      ],
      "text/plain": [
       "      LexFound         postId  cId  nId  \\\n",
       "44854      NaN  20200430_0155    1    0   \n",
       "44855      NaN  20200430_0155    1    1   \n",
       "\n",
       "                                               MsgUniSeg           Profile ID  \\\n",
       "44854  ပြည် သူ တွေ ငတ် သေ နေ ပြီ အစိုးရ ဘာ လုပ် နေ လဲ...  ID: 100008337798030   \n",
       "44855  SiThuAung အကုန် ကို ဗစ် ကူး တော့ မင်း တာဝန် ယူ...  ID: 100008619974774   \n",
       "\n",
       "                                                 PostURL                 Date  \\\n",
       "44854  https://www.facebook.com/VoiceofMyanmarNews/po...  2020-05-05 07:23:33   \n",
       "44855  https://www.facebook.com/VoiceofMyanmarNews/po...  2020-05-05 08:14:10   \n",
       "\n",
       "             date      time                                         ProfileUrl  \n",
       "44854  2020-05-05  07:23:33  https://www.facebook.com/profile.php?id=100008...  \n",
       "44855  2020-05-05  08:14:10  https://www.facebook.com/profile.php?id=100008...  "
      ]
     },
     "execution_count": 60,
     "metadata": {},
     "output_type": "execute_result"
    }
   ],
   "source": [
    "dfwpg['date'] = [d.split()[0] for d in dfwpg.Date]\n",
    "dfwpg['time'] = [d.split()[1] for d in dfwpg.Date]\n",
    "dfwpg['ProfileUrl'] = ['{}{}'.format(URL_PREFIX, i.split()[-1]) for i in dfwpg['Profile ID']]\n",
    "print(dfwpg.shape)\n",
    "dfwpg.head(2)"
   ]
  },
  {
   "cell_type": "code",
   "execution_count": 61,
   "metadata": {},
   "outputs": [
    {
     "data": {
      "text/plain": [
       "'../data/to-annotate/20200430_20200507_final.csv'"
      ]
     },
     "execution_count": 61,
     "metadata": {},
     "output_type": "execute_result"
    }
   ],
   "source": [
    "'../data/to-annotate/{}_final.csv'.format(COMMENT_FILES_FOLDER.split('/')[-1])"
   ]
  },
  {
   "cell_type": "code",
   "execution_count": 62,
   "metadata": {},
   "outputs": [
    {
     "name": "stdout",
     "output_type": "stream",
     "text": [
      "(856, 12)\n",
      "(758, 12)\n"
     ]
    },
    {
     "data": {
      "text/html": [
       "<div>\n",
       "<style scoped>\n",
       "    .dataframe tbody tr th:only-of-type {\n",
       "        vertical-align: middle;\n",
       "    }\n",
       "\n",
       "    .dataframe tbody tr th {\n",
       "        vertical-align: top;\n",
       "    }\n",
       "\n",
       "    .dataframe thead th {\n",
       "        text-align: right;\n",
       "    }\n",
       "</style>\n",
       "<table border=\"1\" class=\"dataframe\">\n",
       "  <thead>\n",
       "    <tr style=\"text-align: right;\">\n",
       "      <th></th>\n",
       "      <th>LexFound</th>\n",
       "      <th>postId</th>\n",
       "      <th>cId</th>\n",
       "      <th>nId</th>\n",
       "      <th>MsgUniSeg</th>\n",
       "      <th>Profile ID</th>\n",
       "      <th>PostURL</th>\n",
       "      <th>CovFound</th>\n",
       "      <th>date</th>\n",
       "      <th>time</th>\n",
       "      <th>ProfileUrl</th>\n",
       "      <th>Date</th>\n",
       "    </tr>\n",
       "  </thead>\n",
       "  <tbody>\n",
       "    <tr>\n",
       "      <th>0</th>\n",
       "      <td>သူခိုး</td>\n",
       "      <td>20200430_0200</td>\n",
       "      <td>11</td>\n",
       "      <td>0</td>\n",
       "      <td>ကျပ် ငွေ 200000( ၂ သိန်း ) ကို ဖုန်း လေး တစ် ခ...</td>\n",
       "      <td>ID: 100043931886875</td>\n",
       "      <td>https://www.facebook.com/yangonregiongovernmen...</td>\n",
       "      <td>covid</td>\n",
       "      <td>2020-05-06</td>\n",
       "      <td>19:03:54</td>\n",
       "      <td>https://www.facebook.com/profile.php?id=100043...</td>\n",
       "      <td>NaN</td>\n",
       "    </tr>\n",
       "    <tr>\n",
       "      <th>1</th>\n",
       "      <td>မြို့သား</td>\n",
       "      <td>20200430_0055</td>\n",
       "      <td>15</td>\n",
       "      <td>0</td>\n",
       "      <td>ကျွန်မ က မြ ဝ တီ သူမ ဟုတ် ပါ ဘူး ။ ရန် ကုန် က ...</td>\n",
       "      <td>ID: 100045639997751</td>\n",
       "      <td>https://www.facebook.com/1233832270078079/post...</td>\n",
       "      <td>မြို့သား</td>\n",
       "      <td>2020-05-03</td>\n",
       "      <td>04:11:45</td>\n",
       "      <td>https://www.facebook.com/profile.php?id=100045...</td>\n",
       "      <td>NaN</td>\n",
       "    </tr>\n",
       "    <tr>\n",
       "      <th>2</th>\n",
       "      <td>မြို့သား</td>\n",
       "      <td>20200430_0055</td>\n",
       "      <td>98</td>\n",
       "      <td>0</td>\n",
       "      <td>အဓိက က မြို့ ရဲ့ ဂုဏ်သိက္ခာ နစ်နာ တယ် ရောဂါကပ်...</td>\n",
       "      <td>ID: 100005686590684</td>\n",
       "      <td>https://www.facebook.com/1233832270078079/post...</td>\n",
       "      <td>မြို့သား~ရောဂါ</td>\n",
       "      <td>2020-05-03</td>\n",
       "      <td>07:28:36</td>\n",
       "      <td>https://www.facebook.com/profile.php?id=100005...</td>\n",
       "      <td>NaN</td>\n",
       "    </tr>\n",
       "    <tr>\n",
       "      <th>3</th>\n",
       "      <td>ဝူဟန်</td>\n",
       "      <td>20200430_0055</td>\n",
       "      <td>187</td>\n",
       "      <td>0</td>\n",
       "      <td>စား ရ လို့ မေး တာ ပေါ့ သူ့ အလုတ် ငွေ ဝင် တဲ့ န...</td>\n",
       "      <td>ID: 100036259579824</td>\n",
       "      <td>https://www.facebook.com/1233832270078079/post...</td>\n",
       "      <td>ဝူဟန်</td>\n",
       "      <td>2020-05-03</td>\n",
       "      <td>12:49:03</td>\n",
       "      <td>https://www.facebook.com/profile.php?id=100036...</td>\n",
       "      <td>NaN</td>\n",
       "    </tr>\n",
       "    <tr>\n",
       "      <th>4</th>\n",
       "      <td>အောက်တန်းစား</td>\n",
       "      <td>20200430_0112</td>\n",
       "      <td>39</td>\n",
       "      <td>0</td>\n",
       "      <td>ဘာ ပညာ တွေ လည်း အောက်တန်းစား ပညာ ဆေး ပညာ တွေ လ...</td>\n",
       "      <td>ID: 100028207507275</td>\n",
       "      <td>https://www.facebook.com/shwewikimyanmaryangon...</td>\n",
       "      <td>တရုတ်</td>\n",
       "      <td>2020-05-02</td>\n",
       "      <td>16:54:21</td>\n",
       "      <td>https://www.facebook.com/profile.php?id=100028...</td>\n",
       "      <td>NaN</td>\n",
       "    </tr>\n",
       "  </tbody>\n",
       "</table>\n",
       "</div>"
      ],
      "text/plain": [
       "       LexFound         postId  cId nId  \\\n",
       "0        သူခိုး  20200430_0200   11   0   \n",
       "1      မြို့သား  20200430_0055   15   0   \n",
       "2      မြို့သား  20200430_0055   98   0   \n",
       "3         ဝူဟန်  20200430_0055  187   0   \n",
       "4  အောက်တန်းစား  20200430_0112   39   0   \n",
       "\n",
       "                                           MsgUniSeg           Profile ID  \\\n",
       "0  ကျပ် ငွေ 200000( ၂ သိန်း ) ကို ဖုန်း လေး တစ် ခ...  ID: 100043931886875   \n",
       "1  ကျွန်မ က မြ ဝ တီ သူမ ဟုတ် ပါ ဘူး ။ ရန် ကုန် က ...  ID: 100045639997751   \n",
       "2  အဓိက က မြို့ ရဲ့ ဂုဏ်သိက္ခာ နစ်နာ တယ် ရောဂါကပ်...  ID: 100005686590684   \n",
       "3  စား ရ လို့ မေး တာ ပေါ့ သူ့ အလုတ် ငွေ ဝင် တဲ့ န...  ID: 100036259579824   \n",
       "4  ဘာ ပညာ တွေ လည်း အောက်တန်းစား ပညာ ဆေး ပညာ တွေ လ...  ID: 100028207507275   \n",
       "\n",
       "                                             PostURL        CovFound  \\\n",
       "0  https://www.facebook.com/yangonregiongovernmen...           covid   \n",
       "1  https://www.facebook.com/1233832270078079/post...        မြို့သား   \n",
       "2  https://www.facebook.com/1233832270078079/post...  မြို့သား~ရောဂါ   \n",
       "3  https://www.facebook.com/1233832270078079/post...           ဝူဟန်   \n",
       "4  https://www.facebook.com/shwewikimyanmaryangon...           တရုတ်   \n",
       "\n",
       "         date      time                                         ProfileUrl  \\\n",
       "0  2020-05-06  19:03:54  https://www.facebook.com/profile.php?id=100043...   \n",
       "1  2020-05-03  04:11:45  https://www.facebook.com/profile.php?id=100045...   \n",
       "2  2020-05-03  07:28:36  https://www.facebook.com/profile.php?id=100005...   \n",
       "3  2020-05-03  12:49:03  https://www.facebook.com/profile.php?id=100036...   \n",
       "4  2020-05-02  16:54:21  https://www.facebook.com/profile.php?id=100028...   \n",
       "\n",
       "  Date  \n",
       "0  NaN  \n",
       "1  NaN  \n",
       "2  NaN  \n",
       "3  NaN  \n",
       "4  NaN  "
      ]
     },
     "metadata": {},
     "output_type": "display_data"
    }
   ],
   "source": [
    "if True:\n",
    "    dffinal = pd.concat([dflat, dfwpg])\n",
    "    print(dffinal.shape)\n",
    "    dffinal.drop_duplicates('MsgUniSeg', inplace=True)\n",
    "    print(dffinal.shape)\n",
    "    display(dffinal.head())\n",
    "    # dffinal.iloc[:DesiredN,:].to_csv(\n",
    "    #     '../data/to-annotate/{}_final.csv'.format(dffinal.postId.values[0].split('_')[0]),\n",
    "    #     index=False)\n",
    "else:\n",
    "    dffinal = dflat\n",
    "\n",
    "dffinal.iloc[:DesiredN,:].to_csv(\n",
    "    '../data/to-annotate/{}_final.csv'.format(COMMENT_FILES_FOLDER.split('/')[-1]),\n",
    "    index=False)"
   ]
  },
  {
   "cell_type": "code",
   "execution_count": 34,
   "metadata": {},
   "outputs": [
    {
     "data": {
      "text/plain": [
       "(357, 12)"
      ]
     },
     "execution_count": 34,
     "metadata": {},
     "output_type": "execute_result"
    }
   ],
   "source": [
    "dffinal.shape"
   ]
  },
  {
   "cell_type": "code",
   "execution_count": null,
   "metadata": {},
   "outputs": [],
   "source": []
  },
  {
   "cell_type": "code",
   "execution_count": null,
   "metadata": {},
   "outputs": [],
   "source": []
  },
  {
   "cell_type": "code",
   "execution_count": null,
   "metadata": {},
   "outputs": [],
   "source": []
  }
 ],
 "metadata": {
  "file_extension": ".py",
  "kernelspec": {
   "display_name": "Python 3",
   "language": "python",
   "name": "python3"
  },
  "language_info": {
   "codemirror_mode": {
    "name": "ipython",
    "version": 3
   },
   "file_extension": ".py",
   "mimetype": "text/x-python",
   "name": "python",
   "nbconvert_exporter": "python",
   "pygments_lexer": "ipython3",
   "version": "3.7.7"
  },
  "mimetype": "text/x-python",
  "name": "python",
  "npconvert_exporter": "python",
  "pygments_lexer": "ipython3",
  "version": 3
 },
 "nbformat": 4,
 "nbformat_minor": 2
}
