{
 "cells": [
  {
   "cell_type": "markdown",
   "metadata": {},
   "source": [
    "# STAGE 1: Posts\n",
    "\n",
    "Check the full process at [Notion Page](https://www.notion.so/phandeeyarwiki/dfc7b1962edc48c0b5dc17e241c7e963?v=f00bee761c214631b17631d56e90d79b).\n",
    "\n",
    "- Step 1: Download comments is done in DownloadData.ipynb\n",
    "- This notebook starts at Step 2: Giving Posts new IDs."
   ]
  },
  {
   "cell_type": "code",
   "execution_count": 1,
   "metadata": {
    "ExecuteTime": {
     "end_time": "2020-04-15T08:13:26.750004Z",
     "start_time": "2020-04-15T08:13:26.168634Z"
    }
   },
   "outputs": [
    {
     "ename": "ModuleNotFoundError",
     "evalue": "No module named 'MMTools'",
     "output_type": "error",
     "traceback": [
      "\u001b[0;31m---------------------------------------------------------------------------\u001b[0m",
      "\u001b[0;31mModuleNotFoundError\u001b[0m                       Traceback (most recent call last)",
      "\u001b[0;32m<ipython-input-1-6395f2541bc1>\u001b[0m in \u001b[0;36m<module>\u001b[0;34m\u001b[0m\n\u001b[1;32m      5\u001b[0m \u001b[0;32mwith\u001b[0m \u001b[0mopen\u001b[0m\u001b[0;34m(\u001b[0m\u001b[0;34m'MyanmarNLPTools'\u001b[0m\u001b[0;34m)\u001b[0m \u001b[0;32mas\u001b[0m \u001b[0mf\u001b[0m\u001b[0;34m:\u001b[0m\u001b[0;34m\u001b[0m\u001b[0;34m\u001b[0m\u001b[0m\n\u001b[1;32m      6\u001b[0m     \u001b[0msys\u001b[0m\u001b[0;34m.\u001b[0m\u001b[0mpath\u001b[0m\u001b[0;34m.\u001b[0m\u001b[0mappend\u001b[0m\u001b[0;34m(\u001b[0m\u001b[0mf\u001b[0m\u001b[0;34m.\u001b[0m\u001b[0mread\u001b[0m\u001b[0;34m(\u001b[0m\u001b[0;34m)\u001b[0m\u001b[0;34m.\u001b[0m\u001b[0mstrip\u001b[0m\u001b[0;34m(\u001b[0m\u001b[0;34m)\u001b[0m\u001b[0;34m)\u001b[0m\u001b[0;34m\u001b[0m\u001b[0;34m\u001b[0m\u001b[0m\n\u001b[0;32m----> 7\u001b[0;31m \u001b[0;32mimport\u001b[0m \u001b[0mMMTools\u001b[0m\u001b[0;34m\u001b[0m\u001b[0;34m\u001b[0m\u001b[0m\n\u001b[0m\u001b[1;32m      8\u001b[0m \u001b[0;32mfrom\u001b[0m \u001b[0mMMSegmentor\u001b[0m \u001b[0;32mimport\u001b[0m \u001b[0mMMSegmentor\u001b[0m\u001b[0;34m\u001b[0m\u001b[0;34m\u001b[0m\u001b[0m\n\u001b[1;32m      9\u001b[0m \u001b[0;32mfrom\u001b[0m \u001b[0mMMCleaner\u001b[0m \u001b[0;32mimport\u001b[0m \u001b[0mMMCleaner\u001b[0m\u001b[0;34m\u001b[0m\u001b[0;34m\u001b[0m\u001b[0m\n",
      "\u001b[0;31mModuleNotFoundError\u001b[0m: No module named 'MMTools'"
     ]
    }
   ],
   "source": [
    "import pandas as pd\n",
    "from tqdm import tqdm\n",
    "from time import time\n",
    "import sys\n",
    "with open('MyanmarNLPTools') as f:\n",
    "    sys.path.append(f.read().strip())\n",
    "import MMTools\n",
    "from MMSegmentor import MMSegmentor\n",
    "from MMCleaner import MMCleaner\n",
    "cln = MMCleaner()\n",
    "seg = MMSegmentor()\n",
    "\n",
    "import HsleCandidateGenerationUtils as hsle\n",
    "\n",
    "PAGE_GROUP_PATH = '../data/crowdtangle-groups'\n",
    "DATE_RANGE = '20200430_20200507'\n",
    "POST_FILE = '{}/processed_{}.csv'.format(PAGE_GROUP_PATH, DATE_RANGE)\n",
    "PREFIX = 'groups_' if 'groups' in POST_FILE else ''"
   ]
  },
  {
   "cell_type": "code",
   "execution_count": null,
   "metadata": {
    "ExecuteTime": {
     "end_time": "2020-04-15T08:13:26.855079Z",
     "start_time": "2020-04-15T08:13:26.753575Z"
    }
   },
   "outputs": [],
   "source": [
    "postdf = pd.read_csv(POST_FILE, sep='~')\n",
    "print(postdf.shape)\n",
    "display(postdf.head(2))"
   ]
  },
  {
   "cell_type": "code",
   "execution_count": null,
   "metadata": {
    "ExecuteTime": {
     "end_time": "2020-04-09T13:06:28.302004Z",
     "start_time": "2020-04-09T13:06:28.294694Z"
    }
   },
   "outputs": [],
   "source": [
    "postdf.columns"
   ]
  },
  {
   "cell_type": "markdown",
   "metadata": {},
   "source": [
    "## Step 2: Giving Posts Ids"
   ]
  },
  {
   "cell_type": "code",
   "execution_count": null,
   "metadata": {
    "ExecuteTime": {
     "end_time": "2020-04-15T08:13:32.514133Z",
     "start_time": "2020-04-15T08:13:32.438924Z"
    }
   },
   "outputs": [],
   "source": [
    "postdf['PostId'] = hsle.GeneratePostIds(postFileName=POST_FILE, noOfPosts=postdf.shape[0], zfillN=4)\n",
    "display(postdf.head(2))"
   ]
  },
  {
   "cell_type": "markdown",
   "metadata": {},
   "source": [
    "## Normalize Unicode"
   ]
  },
  {
   "cell_type": "code",
   "execution_count": null,
   "metadata": {
    "ExecuteTime": {
     "end_time": "2020-04-15T08:13:40.754024Z",
     "start_time": "2020-04-15T08:13:33.858311Z"
    }
   },
   "outputs": [],
   "source": [
    "t0 = time()\n",
    "postdf['MessageUni'] = [MMTools.normalize_unicode(l) for l in postdf.Message.astype(str)]\n",
    "print(time() - t0)"
   ]
  },
  {
   "cell_type": "markdown",
   "metadata": {},
   "source": [
    "## Word Segmentation\n",
    "### Load Lexicon"
   ]
  },
  {
   "cell_type": "code",
   "execution_count": null,
   "metadata": {
    "ExecuteTime": {
     "end_time": "2020-04-15T08:13:58.468551Z",
     "start_time": "2020-04-15T08:13:58.450041Z"
    }
   },
   "outputs": [],
   "source": [
    "lexset = hsle.LoadLexiconSet(False, None, True)\n",
    "len(lexset)"
   ]
  },
  {
   "cell_type": "code",
   "execution_count": null,
   "metadata": {
    "ExecuteTime": {
     "end_time": "2020-04-15T08:23:07.685149Z",
     "start_time": "2020-04-15T08:14:03.342029Z"
    }
   },
   "outputs": [],
   "source": [
    "x = [\n",
    "    seg.word_segment(\n",
    "        cln.web_clean(t), additionalWordList=list(lexset)\n",
    "    ) for t in tqdm(postdf.MessageUni)\n",
    "]\n",
    "postdf['MsgUniCleanSeg'] = [' '.join(i) for i in x]\n",
    "display(postdf.head(3))\n",
    "postdf.to_csv(POST_FILE, sep='~', index=False)"
   ]
  },
  {
   "cell_type": "markdown",
   "metadata": {},
   "source": [
    "## Lexicon Finding\n",
    "**This is now done at dashboard data loading.**\n",
    "- Turn the lexicon into set and sentence into words set, then find the intersection."
   ]
  }
 ],
 "metadata": {
  "kernelspec": {
   "display_name": "Python 3",
   "language": "python",
   "name": "python3"
  },
  "language_info": {
   "codemirror_mode": {
    "name": "ipython",
    "version": 3
   },
   "file_extension": ".py",
   "mimetype": "text/x-python",
   "name": "python",
   "nbconvert_exporter": "python",
   "pygments_lexer": "ipython3",
   "version": "3.7.7"
  }
 },
 "nbformat": 4,
 "nbformat_minor": 4
}
